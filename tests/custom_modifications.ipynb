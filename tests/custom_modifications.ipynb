{
 "cells": [
  {
   "cell_type": "code",
   "execution_count": 3,
   "metadata": {},
   "outputs": [
    {
     "name": "stderr",
     "output_type": "stream",
     "text": [
      "IProgress not found. Please update jupyter and ipywidgets. See https://ipywidgets.readthedocs.io/en/stable/user_install.html\n"
     ]
    }
   ],
   "source": [
    "import numpy as np\n",
    "import pandas as pd\n",
    "import random\n",
    "from os.path import join\n",
    "import os\n",
    "import pickle\n",
    "from glob import glob\n",
    "import json\n",
    "import sys\n",
    "\n",
    "sys.path.append('../annotations/')\n",
    "from color_harmony import extract_harmonies\n",
    "\n",
    "sys.path.append('../disentanglement/')\n",
    "from disentanglement import DisentanglementBase\n",
    "\n",
    "sys.path.append('../stylegan')\n",
    "from networks_stylegan3 import *\n",
    "import dnnlib \n",
    "import legacy\n"
   ]
  },
  {
   "cell_type": "code",
   "execution_count": 4,
   "metadata": {},
   "outputs": [
    {
     "name": "stderr",
     "output_type": "stream",
     "text": [
      "Behavior when concatenating bool-dtype and numeric-dtype arrays is deprecated; in a future version these will cast to object dtype (instead of coercing bools to numeric values). To retain the old behavior, explicitly cast bool-dtype arrays to numeric dtype.\n"
     ]
    },
    {
     "data": {
      "text/html": [
       "<div>\n",
       "<style scoped>\n",
       "    .dataframe tbody tr th:only-of-type {\n",
       "        vertical-align: middle;\n",
       "    }\n",
       "\n",
       "    .dataframe tbody tr th {\n",
       "        vertical-align: top;\n",
       "    }\n",
       "\n",
       "    .dataframe thead th {\n",
       "        text-align: right;\n",
       "    }\n",
       "</style>\n",
       "<table border=\"1\" class=\"dataframe\">\n",
       "  <thead>\n",
       "    <tr style=\"text-align: right;\">\n",
       "      <th></th>\n",
       "      <th>Method General</th>\n",
       "      <th>Feature</th>\n",
       "      <th>index</th>\n",
       "      <th>Method</th>\n",
       "      <th>Variable</th>\n",
       "      <th>Broad</th>\n",
       "      <th>Optimal lambda</th>\n",
       "      <th>Total Score</th>\n",
       "      <th>Score lambda 1</th>\n",
       "      <th>Score lambda 2</th>\n",
       "      <th>...</th>\n",
       "      <th>Monochromatic</th>\n",
       "      <th>Analogous</th>\n",
       "      <th>Complementary</th>\n",
       "      <th>Triadic</th>\n",
       "      <th>Split Complementary</th>\n",
       "      <th>Double Complementary</th>\n",
       "      <th>Color</th>\n",
       "      <th>Space_y</th>\n",
       "      <th>Subfolder_y</th>\n",
       "      <th>Separation Vector (np)</th>\n",
       "    </tr>\n",
       "  </thead>\n",
       "  <tbody>\n",
       "    <tr>\n",
       "      <th>0</th>\n",
       "      <td>InterfaceGAN</td>\n",
       "      <td>BW</td>\n",
       "      <td>33</td>\n",
       "      <td>InterfaceGAN_LR_1_8_Color_True</td>\n",
       "      <td>Color</td>\n",
       "      <td>1.0</td>\n",
       "      <td>7.0</td>\n",
       "      <td>0.661</td>\n",
       "      <td>0.108</td>\n",
       "      <td>0.189</td>\n",
       "      <td>...</td>\n",
       "      <td>0.0</td>\n",
       "      <td>0.0</td>\n",
       "      <td>0.0</td>\n",
       "      <td>0.0</td>\n",
       "      <td>0.0</td>\n",
       "      <td>0.0</td>\n",
       "      <td>Red</td>\n",
       "      <td>w</td>\n",
       "      <td>interfaceGAN/color/</td>\n",
       "      <td>[-0.0266842892, -0.00821213069, -0.00307416816...</td>\n",
       "    </tr>\n",
       "    <tr>\n",
       "      <th>1</th>\n",
       "      <td>InterfaceGAN</td>\n",
       "      <td>BW</td>\n",
       "      <td>33</td>\n",
       "      <td>InterfaceGAN_LR_1_8_Color_True</td>\n",
       "      <td>Color</td>\n",
       "      <td>1.0</td>\n",
       "      <td>7.0</td>\n",
       "      <td>0.661</td>\n",
       "      <td>0.108</td>\n",
       "      <td>0.189</td>\n",
       "      <td>...</td>\n",
       "      <td>0.0</td>\n",
       "      <td>0.0</td>\n",
       "      <td>0.0</td>\n",
       "      <td>0.0</td>\n",
       "      <td>0.0</td>\n",
       "      <td>0.0</td>\n",
       "      <td>BW</td>\n",
       "      <td>w</td>\n",
       "      <td>interfaceGAN/color/</td>\n",
       "      <td>[-0.0266842892, -0.00821213069, -0.00307416816...</td>\n",
       "    </tr>\n",
       "    <tr>\n",
       "      <th>2</th>\n",
       "      <td>InterfaceGAN</td>\n",
       "      <td>BW</td>\n",
       "      <td>33</td>\n",
       "      <td>InterfaceGAN_LR_1_8_Color_True</td>\n",
       "      <td>Color</td>\n",
       "      <td>1.0</td>\n",
       "      <td>7.0</td>\n",
       "      <td>0.661</td>\n",
       "      <td>0.108</td>\n",
       "      <td>0.189</td>\n",
       "      <td>...</td>\n",
       "      <td>0.0</td>\n",
       "      <td>1.0</td>\n",
       "      <td>0.0</td>\n",
       "      <td>0.0</td>\n",
       "      <td>0.0</td>\n",
       "      <td>0.0</td>\n",
       "      <td>BW</td>\n",
       "      <td>w</td>\n",
       "      <td>interfaceGAN/color/</td>\n",
       "      <td>[-0.0266842892, -0.00821213069, -0.00307416816...</td>\n",
       "    </tr>\n",
       "    <tr>\n",
       "      <th>3</th>\n",
       "      <td>InterfaceGAN</td>\n",
       "      <td>BW</td>\n",
       "      <td>33</td>\n",
       "      <td>InterfaceGAN_LR_1_8_Color_True</td>\n",
       "      <td>Color</td>\n",
       "      <td>1.0</td>\n",
       "      <td>7.0</td>\n",
       "      <td>0.661</td>\n",
       "      <td>0.108</td>\n",
       "      <td>0.189</td>\n",
       "      <td>...</td>\n",
       "      <td>0.0</td>\n",
       "      <td>1.0</td>\n",
       "      <td>0.0</td>\n",
       "      <td>0.0</td>\n",
       "      <td>0.0</td>\n",
       "      <td>0.0</td>\n",
       "      <td>BW</td>\n",
       "      <td>w</td>\n",
       "      <td>interfaceGAN/color/</td>\n",
       "      <td>[-0.0266842892, -0.00821213069, -0.00307416816...</td>\n",
       "    </tr>\n",
       "    <tr>\n",
       "      <th>4</th>\n",
       "      <td>InterfaceGAN</td>\n",
       "      <td>BW</td>\n",
       "      <td>33</td>\n",
       "      <td>InterfaceGAN_LR_1_8_Color_True</td>\n",
       "      <td>Color</td>\n",
       "      <td>1.0</td>\n",
       "      <td>7.0</td>\n",
       "      <td>0.661</td>\n",
       "      <td>0.108</td>\n",
       "      <td>0.189</td>\n",
       "      <td>...</td>\n",
       "      <td>0.0</td>\n",
       "      <td>1.0</td>\n",
       "      <td>0.0</td>\n",
       "      <td>0.0</td>\n",
       "      <td>0.0</td>\n",
       "      <td>0.0</td>\n",
       "      <td>BW</td>\n",
       "      <td>w</td>\n",
       "      <td>interfaceGAN/color/</td>\n",
       "      <td>[-0.0266842892, -0.00821213069, -0.00307416816...</td>\n",
       "    </tr>\n",
       "  </tbody>\n",
       "</table>\n",
       "<p>5 rows × 58 columns</p>\n",
       "</div>"
      ],
      "text/plain": [
       "  Method General Feature  index                          Method Variable  \\\n",
       "0   InterfaceGAN      BW     33  InterfaceGAN_LR_1_8_Color_True    Color   \n",
       "1   InterfaceGAN      BW     33  InterfaceGAN_LR_1_8_Color_True    Color   \n",
       "2   InterfaceGAN      BW     33  InterfaceGAN_LR_1_8_Color_True    Color   \n",
       "3   InterfaceGAN      BW     33  InterfaceGAN_LR_1_8_Color_True    Color   \n",
       "4   InterfaceGAN      BW     33  InterfaceGAN_LR_1_8_Color_True    Color   \n",
       "\n",
       "   Broad  Optimal lambda  Total Score  Score lambda 1  Score lambda 2  ...  \\\n",
       "0    1.0             7.0        0.661           0.108           0.189  ...   \n",
       "1    1.0             7.0        0.661           0.108           0.189  ...   \n",
       "2    1.0             7.0        0.661           0.108           0.189  ...   \n",
       "3    1.0             7.0        0.661           0.108           0.189  ...   \n",
       "4    1.0             7.0        0.661           0.108           0.189  ...   \n",
       "\n",
       "   Monochromatic  Analogous  Complementary  Triadic  Split Complementary  \\\n",
       "0            0.0        0.0            0.0      0.0                  0.0   \n",
       "1            0.0        0.0            0.0      0.0                  0.0   \n",
       "2            0.0        1.0            0.0      0.0                  0.0   \n",
       "3            0.0        1.0            0.0      0.0                  0.0   \n",
       "4            0.0        1.0            0.0      0.0                  0.0   \n",
       "\n",
       "   Double Complementary  Color  Space_y          Subfolder_y  \\\n",
       "0                   0.0    Red        w  interfaceGAN/color/   \n",
       "1                   0.0     BW        w  interfaceGAN/color/   \n",
       "2                   0.0     BW        w  interfaceGAN/color/   \n",
       "3                   0.0     BW        w  interfaceGAN/color/   \n",
       "4                   0.0     BW        w  interfaceGAN/color/   \n",
       "\n",
       "                              Separation Vector (np)  \n",
       "0  [-0.0266842892, -0.00821213069, -0.00307416816...  \n",
       "1  [-0.0266842892, -0.00821213069, -0.00307416816...  \n",
       "2  [-0.0266842892, -0.00821213069, -0.00307416816...  \n",
       "3  [-0.0266842892, -0.00821213069, -0.00307416816...  \n",
       "4  [-0.0266842892, -0.00821213069, -0.00307416816...  \n",
       "\n",
       "[5 rows x 58 columns]"
      ]
     },
     "execution_count": 4,
     "metadata": {},
     "output_type": "execute_result"
    }
   ],
   "source": [
    "DATA_DIR = '../data/'\n",
    "df_scores_vectors = glob(DATA_DIR + 'scores_modifications*')\n",
    "df_scores = pd.DataFrame()\n",
    "for df_score in df_scores_vectors:\n",
    "    df_score_l = pd.read_csv(df_score)\n",
    "    df_scores = pd.concat([df_scores, df_score_l], axis=0)\n",
    "\n",
    "df_scores = df_scores.sort_values('Final Score', ascending=False).reset_index()\n",
    "df_scores.loc[df_scores['Variable'] == 'V1', 'Feature'] = 'V1'\n",
    "df_scores.loc[df_scores['Variable'] == 'S1', 'Feature'] = 'S1'\n",
    "df_scores['Method General'] = df_scores['Method'].str.split('_').apply(lambda x: x[0].replace('False', '').replace('True', ''))\n",
    "df_scores = df_scores.groupby(['Method General', 'Feature']).first()\n",
    "df_scores = df_scores.reset_index()\n",
    "\n",
    "modifications_vectors = glob(DATA_DIR + 'modifications*')\n",
    "df_modifications_vectors = pd.DataFrame()\n",
    "for df_modification in modifications_vectors:\n",
    "    df_modification_l = pd.read_csv(df_modification)\n",
    "    df_modifications_vectors = pd.concat([df_modifications_vectors, df_modification_l], axis=0)\n",
    "df_modifications_vectors.loc[df_modifications_vectors['Variable'] == 'V1', 'Feature'] = 'V1'\n",
    "df_modifications_vectors.loc[df_modifications_vectors['Variable'] == 'S1', 'Feature'] = 'S1'\n",
    "\n",
    "separation_vectors = glob(DATA_DIR + '*_separation_vector*.csv')\n",
    "df_sep_vecs = pd.DataFrame()\n",
    "for df_sep_vec in separation_vectors:\n",
    "    if 'modifications' not in df_sep_vec:\n",
    "        df_sep_vec_l = pd.read_csv(df_sep_vec)\n",
    "        df_sep_vecs = pd.concat([df_sep_vecs, df_sep_vec_l], axis=0)\n",
    "df_sep_vecs.loc[df_sep_vecs['Variable'] == 'V1', 'Feature'] = 'V1'\n",
    "df_sep_vecs.loc[df_sep_vecs['Variable'] == 'S1', 'Feature'] = 'S1'\n",
    "\n",
    "df_scores = df_scores.merge(df_sep_vecs, left_on=['Feature','Variable','Method'], right_on=['Feature','Variable','Method'], how='left')\n",
    "df_scores = df_scores.merge(df_modifications_vectors, left_on=['Feature','Variable','Method'], right_on=['Feature','Variable','Method'], how='left')\n",
    "df_scores['Separation Vector (np)'] = [np.array([float(x.strip('[] ')) for x in row['Separation Vector'].replace('\\n', ' ').split(' ') if x.strip('[] ') != '']) for i, row in df_scores.iterrows()]\n",
    "df_scores.head()"
   ]
  },
  {
   "cell_type": "code",
   "execution_count": 5,
   "metadata": {},
   "outputs": [],
   "source": [
    "model_file = '../data/network-snapshot-005000.pkl'\n",
    "with dnnlib.util.open_url(model_file) as f:\n",
    "        model = legacy.load_network_pkl(f)['G_ema'] # type: ignore\n",
    "        \n",
    "annotations_file = '../data/seeds0000-100000.pkl'\n",
    "with open(annotations_file, 'rb') as f:\n",
    "        annotations = pickle.load(f)"
   ]
  },
  {
   "cell_type": "code",
   "execution_count": 6,
   "metadata": {},
   "outputs": [
    {
     "name": "stdout",
     "output_type": "stream",
     "text": [
      "Using device cpu\n"
     ]
    }
   ],
   "source": [
    "disent = DisentanglementBase(model, annotations, df_scores, 'w', None, None,)"
   ]
  },
  {
   "cell_type": "code",
   "execution_count": 10,
   "metadata": {},
   "outputs": [],
   "source": [
    "idx = 119"
   ]
  },
  {
   "cell_type": "code",
   "execution_count": 11,
   "metadata": {},
   "outputs": [],
   "source": [
    "vector = np.zeros(512)\n",
    "vector[idx] = 1"
   ]
  },
  {
   "cell_type": "code",
   "execution_count": 14,
   "metadata": {},
   "outputs": [
    {
     "name": "stdout",
     "output_type": "stream",
     "text": [
      "8651\n"
     ]
    }
   ],
   "source": [
    "seed = random.randint(0,10000)\n",
    "print(seed)"
   ]
  },
  {
   "cell_type": "code",
   "execution_count": 15,
   "metadata": {},
   "outputs": [
    {
     "data": {
      "text/plain": [
       "([<PIL.Image.Image image mode=RGB size=256x256>,\n",
       "  <PIL.Image.Image image mode=RGB size=256x256>,\n",
       "  <PIL.Image.Image image mode=RGB size=256x256>,\n",
       "  <PIL.Image.Image image mode=RGB size=256x256>,\n",
       "  <PIL.Image.Image image mode=RGB size=256x256>,\n",
       "  <PIL.Image.Image image mode=RGB size=256x256>,\n",
       "  <PIL.Image.Image image mode=RGB size=256x256>],\n",
       " array([-15., -10.,  -5.,   0.,   5.,  10.,  15.]))"
      ]
     },
     "execution_count": 15,
     "metadata": {},
     "output_type": "execute_result"
    }
   ],
   "source": [
    "disent.generate_changes(seed, vector, min_epsilon=-15, max_epsilon=15, count=7, savefig=True, subfolder='custom', feature='Color', method=f'Custom{idx}')"
   ]
  },
  {
   "cell_type": "code",
   "execution_count": null,
   "metadata": {},
   "outputs": [],
   "source": []
  },
  {
   "cell_type": "code",
   "execution_count": null,
   "metadata": {},
   "outputs": [],
   "source": []
  }
 ],
 "metadata": {
  "kernelspec": {
   "display_name": "art-reco_x86",
   "language": "python",
   "name": "python3"
  },
  "language_info": {
   "codemirror_mode": {
    "name": "ipython",
    "version": 3
   },
   "file_extension": ".py",
   "mimetype": "text/x-python",
   "name": "python",
   "nbconvert_exporter": "python",
   "pygments_lexer": "ipython3",
   "version": "3.8.16"
  }
 },
 "nbformat": 4,
 "nbformat_minor": 2
}
