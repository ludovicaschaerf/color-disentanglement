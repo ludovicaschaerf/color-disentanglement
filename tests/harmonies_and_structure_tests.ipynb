{
 "cells": [
  {
   "cell_type": "code",
   "execution_count": 13,
   "metadata": {},
   "outputs": [],
   "source": [
    "import numpy as np\n",
    "import pandas as pd\n",
    "import random\n",
    "from os.path import join\n",
    "import os\n",
    "import pickle\n",
    "from glob import glob\n",
    "import json\n",
    "import sys\n",
    "\n",
    "sys.path.append('../annotations/')\n",
    "from color_harmony import extract_harmonies\n"
   ]
  },
  {
   "cell_type": "code",
   "execution_count": 9,
   "metadata": {},
   "outputs": [
    {
     "name": "stderr",
     "output_type": "stream",
     "text": [
      "/var/folders/s_/h4qqxs0s7mg2fw0j2hmf3jgh0000gn/T/ipykernel_78215/2156691675.py:6: FutureWarning: Behavior when concatenating bool-dtype and numeric-dtype arrays is deprecated; in a future version these will cast to object dtype (instead of coercing bools to numeric values). To retain the old behavior, explicitly cast bool-dtype arrays to numeric dtype.\n",
      "  df_scores = pd.concat([df_scores, df_score_l], axis=0)\n"
     ]
    },
    {
     "name": "stdout",
     "output_type": "stream",
     "text": [
      "0        ShapleyVec\n",
      "1        ShapleyVec\n",
      "2        ShapleyVec\n",
      "3      InterfaceGAN\n",
      "4        ShapleyVec\n",
      "           ...     \n",
      "215      StyleSpace\n",
      "216      StyleSpace\n",
      "217      StyleSpace\n",
      "218      StyleSpace\n",
      "219      StyleSpace\n",
      "Name: Method General, Length: 220, dtype: object\n",
      "Index(['seed', 'lambda', 'SSIM', 'H1', 'S1', 'V1', 'H2', 'S2', 'V2', 'H3',\n",
      "       'S3', 'V3', 'H4', 'S4', 'V4', 'H5', 'S5', 'V5', 'Monochromatic',\n",
      "       'Analogous', 'Complementary', 'Triadic', 'Split Complementary',\n",
      "       'Double Complementary', 'Color', 'Variable', 'Feature', 'Space',\n",
      "       'Method', 'Subfolder'],\n",
      "      dtype='object')\n",
      "      Feature Variable                             Method  Final Score\n",
      "27470  Yellow    Color    ShapleyVec_True_0.25_8_Color_LR        0.967\n",
      "41170  Yellow    Color    StyleSpaceTrue_20_8_Color_False        0.852\n",
      "30317      BW    Color     StyleSpaceTrue_1_8_Color_False        0.405\n",
      "10211     Red    Color     InterfaceGAN_LR_1_8_Color_True        0.879\n",
      "15597  Yellow    Color  InterfaceGAN_LR_0.01_8_Color_True        0.873\n",
      "39575     Red    Color    StyleSpaceTrue_20_8_Color_False        0.868\n",
      "11198     Red    Color     InterfaceGAN_LR_1_8_Color_True        0.879\n",
      "22223    Cyan    Color     ShapleyVec_True_0.5_8_Color_LR        0.434\n",
      "14764  Yellow    Color  InterfaceGAN_LR_0.01_8_Color_True        0.873\n",
      "2817     Blue    Color   InterfaceGAN_LR_0.1_8_Color_True        0.712 (41600, 57)\n"
     ]
    }
   ],
   "source": [
    "DATA_DIR = '../data/'\n",
    "df_scores_vectors = glob(DATA_DIR + 'scores_modifications*')\n",
    "df_scores = pd.DataFrame()\n",
    "for df_score in df_scores_vectors:\n",
    "    df_score_l = pd.read_csv(df_score)\n",
    "    df_scores = pd.concat([df_scores, df_score_l], axis=0)\n",
    "\n",
    "df_scores = df_scores.sort_values('Final Score', ascending=False).reset_index()\n",
    "df_scores.loc[df_scores['Variable'] == 'V1', 'Feature'] = 'V1'\n",
    "df_scores.loc[df_scores['Variable'] == 'S1', 'Feature'] = 'S1'\n",
    "df_scores['Method General'] = df_scores['Method'].str.split('_').apply(lambda x: x[0].replace('False', '').replace('True', ''))\n",
    "print(df_scores['Method General'])\n",
    "df_scores = df_scores.groupby(['Method General', 'Feature']).first()\n",
    "df_scores = df_scores.reset_index()\n",
    "\n",
    "modifications_vectors = glob(DATA_DIR + 'modifications*')\n",
    "df_modifications_vectors = pd.DataFrame()\n",
    "for df_modification in modifications_vectors:\n",
    "    df_modification_l = pd.read_csv(df_modification)\n",
    "    df_modifications_vectors = pd.concat([df_modifications_vectors, df_modification_l], axis=0)\n",
    "print(df_modifications_vectors.columns)\n",
    "df_modifications_vectors.loc[df_modifications_vectors['Variable'] == 'V1', 'Feature'] = 'V1'\n",
    "df_modifications_vectors.loc[df_modifications_vectors['Variable'] == 'S1', 'Feature'] = 'S1'\n",
    "\n",
    "separation_vectors = glob(DATA_DIR + '*_separation_vector*.csv')\n",
    "df_sep_vecs = pd.DataFrame()\n",
    "for df_sep_vec in separation_vectors:\n",
    "    if 'modifications' not in df_sep_vec:\n",
    "        df_sep_vec_l = pd.read_csv(df_sep_vec)\n",
    "        df_sep_vecs = pd.concat([df_sep_vecs, df_sep_vec_l], axis=0)\n",
    "df_sep_vecs.loc[df_sep_vecs['Variable'] == 'V1', 'Feature'] = 'V1'\n",
    "df_sep_vecs.loc[df_sep_vecs['Variable'] == 'S1', 'Feature'] = 'S1'\n",
    "\n",
    "df_scores = df_scores.merge(df_sep_vecs, left_on=['Feature','Variable','Method'], right_on=['Feature','Variable','Method'], how='left')\n",
    "df_scores = df_scores.merge(df_modifications_vectors, left_on=['Feature','Variable','Method'], right_on=['Feature','Variable','Method'], how='left')\n",
    "print(df_scores[['Feature', 'Variable', 'Method', 'Final Score']].sample(10), df_scores.shape)\n"
   ]
  },
  {
   "cell_type": "code",
   "execution_count": 10,
   "metadata": {},
   "outputs": [
    {
     "data": {
      "text/plain": [
       "0        [-0.0266842892, -0.00821213069, -0.00307416816...\n",
       "1        [-0.0266842892, -0.00821213069, -0.00307416816...\n",
       "2        [-0.0266842892, -0.00821213069, -0.00307416816...\n",
       "3        [-0.0266842892, -0.00821213069, -0.00307416816...\n",
       "4        [-0.0266842892, -0.00821213069, -0.00307416816...\n",
       "                               ...                        \n",
       "41595    [0.0, 0.0, 0.0, 0.0, 0.0, 0.0, 0.0, 0.0, 0.0, ...\n",
       "41596    [0.0, 0.0, 0.0, 0.0, 0.0, 0.0, 0.0, 0.0, 0.0, ...\n",
       "41597    [0.0, 0.0, 0.0, 0.0, 0.0, 0.0, 0.0, 0.0, 0.0, ...\n",
       "41598    [0.0, 0.0, 0.0, 0.0, 0.0, 0.0, 0.0, 0.0, 0.0, ...\n",
       "41599    [0.0, 0.0, 0.0, 0.0, 0.0, 0.0, 0.0, 0.0, 0.0, ...\n",
       "Name: Separation Vector (np), Length: 41600, dtype: object"
      ]
     },
     "execution_count": 10,
     "metadata": {},
     "output_type": "execute_result"
    }
   ],
   "source": [
    "df_scores['Separation Vector (np)'] = [np.array([float(x.strip('[] ')) for x in row['Separation Vector'].replace('\\n', ' ').split(' ') if x.strip('[] ') != '']) for i, row in df_scores.iterrows()]\n",
    "df_scores['Separation Vector (np)']"
   ]
  },
  {
   "cell_type": "markdown",
   "metadata": {},
   "source": [
    "<img src=\"../data/color_harmonies.jpg\" width=\"300\" height=\"500\" style=\"align-text:center\">"
   ]
  },
  {
   "cell_type": "markdown",
   "metadata": {},
   "source": [
    "Checking which color harmony is obtained by which color modification"
   ]
  },
  {
   "cell_type": "code",
   "execution_count": 25,
   "metadata": {},
   "outputs": [
    {
     "name": "stdout",
     "output_type": "stream",
     "text": [
      "Assessing similarity among vectors computed with: InterfaceGAN\n",
      "Assessing similarity among vectors computed with: ShapleyVec\n",
      "Assessing similarity among vectors computed with: StyleSpace\n"
     ]
    }
   ],
   "source": [
    "harmonies = {}\n",
    "for method, group in df_scores[df_scores['lambda'] >= 10].groupby('Method General'):\n",
    "    harmonies[method] = {}\n",
    "    print('Assessing similarity among vectors computed with:', method)\n",
    "    for feature, gg in group.groupby('Feature'):\n",
    "        harmonies[method][feature] = []\n",
    "        for hues in gg[['H1', 'H2', 'H3', 'H4', 'H5']].values:\n",
    "            harmonies[method][feature].append(extract_harmonies(hues))\n",
    "                "
   ]
  },
  {
   "cell_type": "markdown",
   "metadata": {},
   "source": [
    "in order:\n",
    "- monochromatic\n",
    "- analogous\n",
    "- complementary\n",
    "- triadic\n",
    "- split complementary\n",
    "- double complementary"
   ]
  },
  {
   "cell_type": "code",
   "execution_count": 26,
   "metadata": {},
   "outputs": [
    {
     "name": "stdout",
     "output_type": "stream",
     "text": [
      "InterfaceGAN BW [0.525, 0.878, 0.022, 0.0, 0.025, 0.008]\n",
      "InterfaceGAN Blue [0.12, 0.268, 0.287, 0.003, 0.587, 0.148]\n",
      "InterfaceGAN Brown [0.307, 0.93, 0.01, 0.0, 0.008, 0.002]\n",
      "InterfaceGAN Cyan [0.133, 0.29, 0.36, 0.002, 0.485, 0.185]\n",
      "InterfaceGAN Green [0.117, 0.38, 0.29, 0.003, 0.245, 0.14]\n",
      "InterfaceGAN Magenta [0.143, 0.402, 0.093, 0.008, 0.143, 0.045]\n",
      "InterfaceGAN Red [0.26, 0.523, 0.027, 0.0, 0.038, 0.012]\n",
      "InterfaceGAN S1 [0.212, 0.798, 0.01, 0.0, 0.032, 0.008]\n",
      "InterfaceGAN V1 [0.187, 0.63, 0.138, 0.002, 0.148, 0.075]\n",
      "InterfaceGAN Yellow [0.258, 0.842, 0.022, 0.0, 0.02, 0.02]\n",
      "ShapleyVec BW [0.518, 0.847, 0.022, 0.0, 0.018, 0.015]\n",
      "ShapleyVec Blue [0.025, 0.137, 0.373, 0.005, 0.612, 0.192]\n",
      "ShapleyVec Brown [0.048, 0.863, 0.02, 0.0, 0.032, 0.01]\n",
      "ShapleyVec Cyan [0.055, 0.177, 0.373, 0.0, 0.61, 0.217]\n",
      "ShapleyVec Green [0.018, 0.177, 0.337, 0.008, 0.325, 0.125]\n",
      "ShapleyVec Magenta [0.085, 0.28, 0.105, 0.005, 0.117, 0.06]\n",
      "ShapleyVec Red [0.04, 0.14, 0.087, 0.005, 0.153, 0.052]\n",
      "ShapleyVec Yellow [0.053, 0.702, 0.03, 0.0, 0.028, 0.007]\n",
      "StyleSpace BW [0.383, 0.763, 0.055, 0.0, 0.053, 0.022]\n",
      "StyleSpace Blue [0.097, 0.323, 0.325, 0.003, 0.442, 0.215]\n",
      "StyleSpace Brown [0.123, 0.82, 0.027, 0.0, 0.037, 0.017]\n",
      "StyleSpace Cyan [0.095, 0.255, 0.325, 0.0, 0.562, 0.207]\n",
      "StyleSpace Green [0.042, 0.258, 0.302, 0.002, 0.377, 0.148]\n",
      "StyleSpace Magenta [0.413, 0.903, 0.013, 0.0, 0.035, 0.002]\n",
      "StyleSpace Red [0.15, 0.31, 0.013, 0.0, 0.042, 0.01]\n",
      "StyleSpace Yellow [0.058, 0.635, 0.038, 0.0, 0.057, 0.02]\n"
     ]
    }
   ],
   "source": [
    "for method in harmonies.keys():\n",
    "    for feature in harmonies[method].keys():\n",
    "        print(method, feature, list(np.round(np.mean(np.array(harmonies[method][feature]), axis=0), 3)))"
   ]
  },
  {
   "cell_type": "markdown",
   "metadata": {},
   "source": [
    "Which colors create the most structural change and going into which color"
   ]
  },
  {
   "cell_type": "code",
   "execution_count": null,
   "metadata": {},
   "outputs": [],
   "source": []
  }
 ],
 "metadata": {
  "kernelspec": {
   "display_name": "art-reco_x86",
   "language": "python",
   "name": "python3"
  },
  "language_info": {
   "codemirror_mode": {
    "name": "ipython",
    "version": 3
   },
   "file_extension": ".py",
   "mimetype": "text/x-python",
   "name": "python",
   "nbconvert_exporter": "python",
   "pygments_lexer": "ipython3",
   "version": "3.8.16"
  }
 },
 "nbformat": 4,
 "nbformat_minor": 2
}
