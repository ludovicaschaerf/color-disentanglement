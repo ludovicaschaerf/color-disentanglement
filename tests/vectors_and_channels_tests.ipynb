{
 "cells": [
  {
   "cell_type": "code",
   "execution_count": 1,
   "metadata": {},
   "outputs": [],
   "source": [
    "import numpy as np\n",
    "import pandas as pd\n",
    "import random\n",
    "from os.path import join\n",
    "import os\n",
    "import pickle\n",
    "from glob import glob\n",
    "import json\n",
    "import sys\n",
    "import seaborn as sns\n",
    "import matplotlib.pyplot as plt\n",
    "\n",
    "from sklearn.metrics.pairwise import cosine_similarity"
   ]
  },
  {
   "cell_type": "code",
   "execution_count": 12,
   "metadata": {},
   "outputs": [
    {
     "name": "stdout",
     "output_type": "stream",
     "text": [
      "Index(['index', 'Method', 'Variable', 'Feature', 'Broad', 'Optimal lambda',\n",
      "       'Total Score', 'Score lambda 1', 'Score lambda 2', 'Score lambda 3',\n",
      "       'Score lambda 4', 'Score lambda 5', 'Score lambda 6', 'Score lambda 7',\n",
      "       'Score lambda 8', 'Score lambda 9', 'Score lambda 10',\n",
      "       'Score lambda 11', 'Score lambda 12', 'Score lambda 13',\n",
      "       'Score lambda 14', 'Score lambda 15', 'Score lambda 16',\n",
      "       'Score lambda 17', 'Score lambda 18', 'Score lambda 19',\n",
      "       'Score lambda 20', 'Final Score', 'Score lambda 21', 'Score lambda 22',\n",
      "       'Score lambda 23', 'Score lambda 24', 'Score lambda 25',\n",
      "       'Method General', 'Space', 'Subfolder', 'Classes', 'Separation Vector',\n",
      "       'Performance'],\n",
      "      dtype='object')\n",
      "(144, 39) (252, 39)\n",
      "                Final Score\n",
      "Method General             \n",
      "InterfaceGAN       0.860944\n",
      "ShapleyVec         0.888222\n",
      "StyleSpace         0.867278 (108, 39)                 Final Score\n",
      "Method General             \n",
      "InterfaceGAN       0.080125\n",
      "ShapleyVec         0.087806\n",
      "StyleSpace         0.117670 (108, 39)\n"
     ]
    },
    {
     "name": "stderr",
     "output_type": "stream",
     "text": [
      "/var/folders/s_/h4qqxs0s7mg2fw0j2hmf3jgh0000gn/T/ipykernel_36375/4168228176.py:30: FutureWarning: The default value of numeric_only in DataFrameGroupBy.mean is deprecated. In a future version, numeric_only will default to False. Either specify numeric_only or select only columns which should be valid for the function.\n",
      "  print(df_scores[['Feature', 'Variable', 'Method', 'Final Score', 'Method General']].groupby(['Method General', 'Feature']).first().groupby(['Method General']).mean(), df_scores.shape, df_scores[['Feature', 'Variable', 'Method', 'Final Score', 'Method General']].groupby(['Method General', 'Feature']).first().groupby(['Method General']).std(), df_scores.shape)\n",
      "/var/folders/s_/h4qqxs0s7mg2fw0j2hmf3jgh0000gn/T/ipykernel_36375/4168228176.py:30: FutureWarning: The default value of numeric_only in DataFrameGroupBy.std is deprecated. In a future version, numeric_only will default to False. Either specify numeric_only or select only columns which should be valid for the function.\n",
      "  print(df_scores[['Feature', 'Variable', 'Method', 'Final Score', 'Method General']].groupby(['Method General', 'Feature']).first().groupby(['Method General']).mean(), df_scores.shape, df_scores[['Feature', 'Variable', 'Method', 'Final Score', 'Method General']].groupby(['Method General', 'Feature']).first().groupby(['Method General']).std(), df_scores.shape)\n"
     ]
    }
   ],
   "source": [
    "DATA_DIR = '../data/'\n",
    "df_scores_vectors = glob(DATA_DIR + 'scores_modifications*')\n",
    "df_scores = pd.DataFrame()\n",
    "for df_score in df_scores_vectors:\n",
    "    df_score_l = pd.read_csv(df_score)\n",
    "    df_scores = pd.concat([df_scores, df_score_l], axis=0)\n",
    "\n",
    "df_scores = df_scores.sort_values('Final Score', ascending=False).reset_index()\n",
    "df_scores.loc[df_scores['Variable'] == 'V1', 'Feature'] = 'V1'\n",
    "df_scores.loc[df_scores['Variable'] == 'S1', 'Feature'] = 'S1'\n",
    "df_scores['Method General'] = df_scores['Method'].str.split('_').apply(lambda x: x[0].replace('False', '').replace('True', ''))\n",
    "separation_vectors = glob(DATA_DIR + '*_separation_vector*.csv')\n",
    "df_sep_vecs = pd.DataFrame()\n",
    "for df_sep_vec in separation_vectors:\n",
    "    if 'modifications' not in df_sep_vec:\n",
    "        df_sep_vec_l = pd.read_csv(df_sep_vec)\n",
    "        df_sep_vecs = pd.concat([df_sep_vecs, df_sep_vec_l], axis=0)\n",
    "df_sep_vecs.loc[df_sep_vecs['Variable'] == 'V1', 'Feature'] = 'V1'\n",
    "df_sep_vecs.loc[df_sep_vecs['Variable'] == 'S1', 'Feature'] = 'S1'\n",
    "\n",
    "df_scores = df_scores.merge(df_sep_vecs, left_on=['Feature','Variable','Method'], right_on=['Feature','Variable','Method'], how='left')\n",
    "print(df_scores.columns)\n",
    "print(df_scores[df_scores['Separation Vector'].isna()].shape, df_scores.shape)\n",
    "\n",
    "df_scores = df_scores[df_scores['Separation Vector'].notnull()]\n",
    "\n",
    "df_scores['Separation Vector'] = [np.array([float(x.strip('[] ')) for x in row['Separation Vector'].replace('\\n', ' ').split(' ') if x.strip('[] ') != '']) for i, row in df_scores.iterrows()]\n",
    "# print(df_scores[['Feature', 'Variable', 'Method', 'Final Score', 'Method General']].groupby(['Method General', 'Feature']).first().head(220), df_scores.shape)\n",
    "df_scores = df_scores.sort_values('Final Score', ascending=False)\n",
    "print(df_scores[['Feature', 'Variable', 'Method', 'Final Score', 'Method General']].groupby(['Method General', 'Feature']).first().groupby(['Method General']).mean(), df_scores.shape, df_scores[['Feature', 'Variable', 'Method', 'Final Score', 'Method General']].groupby(['Method General', 'Feature']).first().groupby(['Method General']).std(), df_scores.shape)\n"
   ]
  },
  {
   "cell_type": "code",
   "execution_count": 25,
   "metadata": {},
   "outputs": [],
   "source": [
    "# df_scores_inter = df_scores[df_scores['Method'] == 'InterfaceGAN_LR_1_8_Color_True']\n",
    "# df_scores_sv = df_scores[df_scores['Method'] == 'ShapleyVec_True_0.5_8_Color_LR']\n",
    "# df_scores_ss = df_scores[df_scores['Method'] == 'StyleSpaceTrue_20_8_Color_False']\n",
    "\n",
    "# df_scores_b = pd.concat([df_scores_inter, df_scores_sv, df_scores_ss], axis=0)\n",
    "\n",
    "# df_scores_b.head()"
   ]
  },
  {
   "cell_type": "code",
   "execution_count": 13,
   "metadata": {},
   "outputs": [],
   "source": [
    "df_scores_b = df_scores.groupby(['Method General',  'Feature', 'Broad']).first().reset_index()"
   ]
  },
  {
   "cell_type": "code",
   "execution_count": 14,
   "metadata": {},
   "outputs": [
    {
     "name": "stdout",
     "output_type": "stream",
     "text": [
      "                Final Score\n",
      "Method General             \n",
      "InterfaceGAN       0.860944\n",
      "ShapleyVec         0.888222\n",
      "StyleSpace         0.867278 (54, 39)                 Final Score\n",
      "Method General             \n",
      "InterfaceGAN       0.080125\n",
      "ShapleyVec         0.087806\n",
      "StyleSpace         0.117670 (108, 39)\n",
      "                       Final Score\n",
      "Feature                           \n",
      "ALPHA BLUE                0.723000\n",
      "AMERICAN ROAST            0.923000\n",
      "ANTIQUITY                 0.942000\n",
      "AWARD BLUE                0.595000\n",
      "CHAI TEA                  0.928667\n",
      "CRUSADE KING              0.930000\n",
      "FALU RED                  0.902667\n",
      "FIREBIRD TAIL LIGHTS      0.914333\n",
      "FUJI SNOW                 0.894667\n",
      "NECRON COMPOUND           0.823333\n",
      "NEPAL                     0.808667\n",
      "ORANGE ESSENTIAL          0.859000\n",
      "PITMASTON PEAR YELLOW     0.911000\n",
      "RIVIERA BEACH             0.932333\n",
      "SEED PEARL                0.908667\n",
      "SUPERIOR BRONZE           0.938000\n",
      "VENOM WYRM                0.826667\n",
      "WOODEN CABIN              0.937667 (54, 39)                        Final Score\n",
      "Feature                           \n",
      "ALPHA BLUE                0.341608\n",
      "AMERICAN ROAST            0.405193\n",
      "ANTIQUITY                 0.433948\n",
      "AWARD BLUE                0.304182\n",
      "CHAI TEA                  0.454454\n",
      "CRUSADE KING              0.403918\n",
      "FALU RED                  0.371194\n",
      "FIREBIRD TAIL LIGHTS      0.381811\n",
      "FUJI SNOW                 0.191051\n",
      "NECRON COMPOUND           0.310729\n",
      "NEPAL                     0.216627\n",
      "ORANGE ESSENTIAL          0.279350\n",
      "PITMASTON PEAR YELLOW     0.439699\n",
      "RIVIERA BEACH             0.424358\n",
      "SEED PEARL                0.388886\n",
      "SUPERIOR BRONZE           0.425229\n",
      "VENOM WYRM                0.363909\n",
      "WOODEN CABIN              0.419481 (108, 39)\n"
     ]
    },
    {
     "name": "stderr",
     "output_type": "stream",
     "text": [
      "/var/folders/s_/h4qqxs0s7mg2fw0j2hmf3jgh0000gn/T/ipykernel_36375/3570010350.py:2: FutureWarning: The default value of numeric_only in DataFrameGroupBy.mean is deprecated. In a future version, numeric_only will default to False. Either specify numeric_only or select only columns which should be valid for the function.\n",
      "  print(broad[['Feature', 'Variable', 'Method', 'Final Score', 'Method General']].groupby(['Method General', 'Feature']).first().groupby(['Method General']).mean(), broad.shape, broad[['Feature', 'Variable', 'Method', 'Final Score', 'Method General']].groupby(['Method General', 'Feature']).first().groupby(['Method General']).std(), df_scores.shape)\n",
      "/var/folders/s_/h4qqxs0s7mg2fw0j2hmf3jgh0000gn/T/ipykernel_36375/3570010350.py:2: FutureWarning: The default value of numeric_only in DataFrameGroupBy.std is deprecated. In a future version, numeric_only will default to False. Either specify numeric_only or select only columns which should be valid for the function.\n",
      "  print(broad[['Feature', 'Variable', 'Method', 'Final Score', 'Method General']].groupby(['Method General', 'Feature']).first().groupby(['Method General']).mean(), broad.shape, broad[['Feature', 'Variable', 'Method', 'Final Score', 'Method General']].groupby(['Method General', 'Feature']).first().groupby(['Method General']).std(), df_scores.shape)\n",
      "/var/folders/s_/h4qqxs0s7mg2fw0j2hmf3jgh0000gn/T/ipykernel_36375/3570010350.py:4: FutureWarning: The default value of numeric_only in DataFrameGroupBy.mean is deprecated. In a future version, numeric_only will default to False. Either specify numeric_only or select only columns which should be valid for the function.\n",
      "  print(broad[['Feature', 'Variable', 'Method', 'Final Score', 'Method General']].groupby(['Feature']).mean(), broad.shape, df_scores[['Feature', 'Variable', 'Method', 'Final Score', 'Method General']].groupby(['Feature']).std(), df_scores.shape)\n",
      "/var/folders/s_/h4qqxs0s7mg2fw0j2hmf3jgh0000gn/T/ipykernel_36375/3570010350.py:4: FutureWarning: The default value of numeric_only in DataFrameGroupBy.std is deprecated. In a future version, numeric_only will default to False. Either specify numeric_only or select only columns which should be valid for the function.\n",
      "  print(broad[['Feature', 'Variable', 'Method', 'Final Score', 'Method General']].groupby(['Feature']).mean(), broad.shape, df_scores[['Feature', 'Variable', 'Method', 'Final Score', 'Method General']].groupby(['Feature']).std(), df_scores.shape)\n"
     ]
    }
   ],
   "source": [
    "broad = df_scores_b[df_scores_b['Broad'] == 1]\n",
    "print(broad[['Feature', 'Variable', 'Method', 'Final Score', 'Method General']].groupby(['Method General', 'Feature']).first().groupby(['Method General']).mean(), broad.shape, broad[['Feature', 'Variable', 'Method', 'Final Score', 'Method General']].groupby(['Method General', 'Feature']).first().groupby(['Method General']).std(), df_scores.shape)\n",
    "# broad = df_scores_sv[df_scores_sv['Broad'] == 1]\n",
    "print(broad[['Feature', 'Variable', 'Method', 'Final Score', 'Method General']].groupby(['Feature']).mean(), broad.shape, df_scores[['Feature', 'Variable', 'Method', 'Final Score', 'Method General']].groupby(['Feature']).std(), df_scores.shape)"
   ]
  },
  {
   "cell_type": "code",
   "execution_count": 15,
   "metadata": {},
   "outputs": [
    {
     "name": "stdout",
     "output_type": "stream",
     "text": [
      "                Final Score\n",
      "Method General             \n",
      "InterfaceGAN       0.235556\n",
      "ShapleyVec         0.238889\n",
      "StyleSpace         0.188889 (54, 39)                 Final Score\n",
      "Method General             \n",
      "InterfaceGAN       0.140680\n",
      "ShapleyVec         0.145921\n",
      "StyleSpace         0.176532 (108, 39)\n",
      "ShapleyVec\n",
      "                       Final Score  Optimal lambda\n",
      "Feature                                           \n",
      "ALPHA BLUE                    0.10             6.0\n",
      "AMERICAN ROAST                0.20             7.0\n",
      "ANTIQUITY                     0.22            20.0\n",
      "AWARD BLUE                    0.02             6.0\n",
      "CHAI TEA                      0.08             6.0\n",
      "CRUSADE KING                  0.22            20.0\n",
      "FALU RED                      0.18             4.0\n",
      "FIREBIRD TAIL LIGHTS          0.26             5.0\n",
      "FUJI SNOW                     0.48             9.0\n",
      "NECRON COMPOUND               0.38            20.0\n",
      "NEPAL                         0.56             8.0\n",
      "ORANGE ESSENTIAL              0.46            20.0\n",
      "PITMASTON PEAR YELLOW         0.08             6.0\n",
      "RIVIERA BEACH                 0.16            20.0\n",
      "SEED PEARL                    0.20            12.0\n",
      "SUPERIOR BRONZE               0.24            20.0\n",
      "VENOM WYRM                    0.24            20.0\n",
      "WOODEN CABIN                  0.22            12.0 (18, 39)\n",
      "InterfaceGAN\n",
      "                       Final Score  Optimal lambda\n",
      "Feature                                           \n",
      "ALPHA BLUE                    0.22            24.0\n",
      "AMERICAN ROAST                0.24            25.0\n",
      "ANTIQUITY                     0.10            25.0\n",
      "AWARD BLUE                    0.12            22.0\n",
      "CHAI TEA                      0.14            25.0\n",
      "CRUSADE KING                  0.18            25.0\n",
      "FALU RED                      0.52            14.0\n",
      "FIREBIRD TAIL LIGHTS          0.38            21.0\n",
      "FUJI SNOW                     0.54            25.0\n",
      "NECRON COMPOUND               0.20            25.0\n",
      "NEPAL                         0.46            25.0\n",
      "ORANGE ESSENTIAL              0.22            25.0\n",
      "PITMASTON PEAR YELLOW         0.20            25.0\n",
      "RIVIERA BEACH                 0.12            25.0\n",
      "SEED PEARL                    0.18            25.0\n",
      "SUPERIOR BRONZE               0.14            25.0\n",
      "VENOM WYRM                    0.12            25.0\n",
      "WOODEN CABIN                  0.16            25.0 (18, 39)\n",
      "StyleSpace\n",
      "                       Final Score  Optimal lambda\n",
      "Feature                                           \n",
      "ALPHA BLUE                    0.04             3.0\n",
      "AMERICAN ROAST                0.12             5.0\n",
      "ANTIQUITY                     0.14            15.0\n",
      "AWARD BLUE                    0.00             3.0\n",
      "CHAI TEA                      0.08             3.0\n",
      "CRUSADE KING                  0.18            15.0\n",
      "FALU RED                      0.12             3.0\n",
      "FIREBIRD TAIL LIGHTS          0.08             2.0\n",
      "FUJI SNOW                     0.76            10.0\n",
      "NECRON COMPOUND               0.24             6.0\n",
      "NEPAL                         0.32             5.0\n",
      "ORANGE ESSENTIAL              0.44            10.0\n",
      "PITMASTON PEAR YELLOW         0.06             3.0\n",
      "RIVIERA BEACH                 0.20            15.0\n",
      "SEED PEARL                    0.22             9.0\n",
      "SUPERIOR BRONZE               0.12            15.0\n",
      "VENOM WYRM                    0.14            15.0\n",
      "WOODEN CABIN                  0.14             4.0 (18, 39)\n"
     ]
    },
    {
     "name": "stderr",
     "output_type": "stream",
     "text": [
      "/var/folders/s_/h4qqxs0s7mg2fw0j2hmf3jgh0000gn/T/ipykernel_36375/2617332680.py:2: FutureWarning: The default value of numeric_only in DataFrameGroupBy.mean is deprecated. In a future version, numeric_only will default to False. Either specify numeric_only or select only columns which should be valid for the function.\n",
      "  print(not_broad[['Feature', 'Variable', 'Method', 'Final Score', 'Method General']].groupby(['Method General', 'Feature']).first().groupby(['Method General']).mean(), not_broad.shape, not_broad[['Feature', 'Variable', 'Method', 'Final Score', 'Method General']].groupby(['Method General', 'Feature']).first().groupby(['Method General']).std(), df_scores.shape)\n",
      "/var/folders/s_/h4qqxs0s7mg2fw0j2hmf3jgh0000gn/T/ipykernel_36375/2617332680.py:2: FutureWarning: The default value of numeric_only in DataFrameGroupBy.std is deprecated. In a future version, numeric_only will default to False. Either specify numeric_only or select only columns which should be valid for the function.\n",
      "  print(not_broad[['Feature', 'Variable', 'Method', 'Final Score', 'Method General']].groupby(['Method General', 'Feature']).first().groupby(['Method General']).mean(), not_broad.shape, not_broad[['Feature', 'Variable', 'Method', 'Final Score', 'Method General']].groupby(['Method General', 'Feature']).first().groupby(['Method General']).std(), df_scores.shape)\n"
     ]
    }
   ],
   "source": [
    "not_broad = df_scores_b[df_scores_b['Broad'] == 0]\n",
    "print(not_broad[['Feature', 'Variable', 'Method', 'Final Score', 'Method General']].groupby(['Method General', 'Feature']).first().groupby(['Method General']).mean(), not_broad.shape, not_broad[['Feature', 'Variable', 'Method', 'Final Score', 'Method General']].groupby(['Method General', 'Feature']).first().groupby(['Method General']).std(), df_scores.shape)\n",
    "print('ShapleyVec')\n",
    "not_broad_sv = not_broad[not_broad['Method General'] == 'ShapleyVec']\n",
    "print(not_broad_sv[['Feature', 'Final Score', 'Optimal lambda']].groupby(['Feature']).mean(), not_broad_sv.shape)\n",
    "\n",
    "print('InterfaceGAN')\n",
    "not_broad_in = not_broad[not_broad['Method General'] == 'InterfaceGAN']\n",
    "print(not_broad_in[['Feature', 'Final Score', 'Optimal lambda']].groupby(['Feature']).mean(), not_broad_in.shape)\n",
    "\n",
    "print('StyleSpace')\n",
    "not_broad_ss = not_broad[not_broad['Method General'] == 'StyleSpace']\n",
    "print(not_broad_ss[['Feature', 'Final Score', 'Optimal lambda']].groupby(['Feature']).mean(), not_broad_ss.shape)\n"
   ]
  },
  {
   "cell_type": "markdown",
   "metadata": {},
   "source": [
    "<img src=\"../data/Linear_RGB_color_wheel.png\" width=\"300\" height=\"300\" style=\"align-text:center\">"
   ]
  },
  {
   "cell_type": "markdown",
   "metadata": {},
   "source": [
    "Obtaining the general similarities between vectors to see which colors are represented to be most alike and which not"
   ]
  },
  {
   "cell_type": "code",
   "execution_count": 16,
   "metadata": {},
   "outputs": [],
   "source": [
    "import math\n",
    "\n",
    "def cosine_similarity_between_angles(angle1, angle2):\n",
    "    # Convert angles from degrees to radians\n",
    "    angle1_rad = math.radians(angle1)\n",
    "    angle2_rad = math.radians(angle2)\n",
    "    \n",
    "    # Calculate the difference in radians\n",
    "    angle_diff = angle1_rad - angle2_rad\n",
    "    \n",
    "    # Calculate cosine similarity, which is just the cosine of the difference\n",
    "    cosine_similarity = math.cos(angle_diff)\n",
    "    \n",
    "    return cosine_similarity"
   ]
  },
  {
   "cell_type": "code",
   "execution_count": 10,
   "metadata": {},
   "outputs": [
    {
     "data": {
      "text/plain": [
       "[[1.0,\n",
       "  0.90630778703665,\n",
       "  0.5,\n",
       "  -0.46174861323503436,\n",
       "  -0.9990482215818578,\n",
       "  -0.5372996083468239,\n",
       "  0.6427876096865395],\n",
       " [0.90630778703665,\n",
       "  1.0,\n",
       "  0.8191520442889917,\n",
       "  -0.04361938736533589,\n",
       "  -0.9238795325112867,\n",
       "  -0.8433914458128858,\n",
       "  0.2588190451025212],\n",
       " [0.5,\n",
       "  0.8191520442889917,\n",
       "  1.0,\n",
       "  0.5372996083468239,\n",
       "  -0.5372996083468239,\n",
       "  -0.9990482215818578,\n",
       "  -0.3420201433256685],\n",
       " [-0.46174861323503436,\n",
       "  -0.04361938736533589,\n",
       "  0.5372996083468239,\n",
       "  1.0,\n",
       "  0.42261826174069944,\n",
       "  -0.4999999999999998,\n",
       "  -0.9762960071199334],\n",
       " [-0.9990482215818578,\n",
       "  -0.9238795325112867,\n",
       "  -0.5372996083468239,\n",
       "  0.42261826174069944,\n",
       "  1.0,\n",
       "  0.5735764363510464,\n",
       "  -0.6087614290087207],\n",
       " [-0.5372996083468239,\n",
       "  -0.8433914458128858,\n",
       "  -0.9990482215818578,\n",
       "  -0.4999999999999998,\n",
       "  0.5735764363510464,\n",
       "  1.0,\n",
       "  0.30070579950427284],\n",
       " [0.6427876096865395,\n",
       "  0.2588190451025212,\n",
       "  -0.3420201433256685,\n",
       "  -0.9762960071199334,\n",
       "  -0.6087614290087207,\n",
       "  0.30070579950427284,\n",
       "  1.0]]"
      ]
     },
     "execution_count": 10,
     "metadata": {},
     "output_type": "execute_result"
    }
   ],
   "source": [
    "hues = {'Red':352.5, 'Brown': 17.5,'Yellow': 52.5, 'Green':110, 'Cyan':175, 'Blue':230, 'Magenta':302.5,}\n",
    "\n",
    "hue_similarities = [0]*len(hues.items())\n",
    "for i, hue in enumerate(hues.keys()):\n",
    "    hue_similarities[i] = [0]*len(hues.items())\n",
    "    for j, hue2 in enumerate(hues.keys()):\n",
    "        hue_similarities[i][j] = cosine_similarity_between_angles(hues[hue], hues[hue2])\n",
    "        \n",
    "hue_similarities"
   ]
  },
  {
   "cell_type": "code",
   "execution_count": 11,
   "metadata": {},
   "outputs": [],
   "source": [
    "def make_heatmap(confusion_matrix, method='hue similarity', colors=['Magenta', 'Red', 'Yellow', 'Green', 'Cyan', 'Blue', 'Purple',],\n",
    "                 color_names=['magenta', 'red', 'yellow', 'green', 'cyan', 'blue', 'purple',]):\n",
    "    sns.set(font_scale=1)\n",
    "    plt.figure(figsize=(8, 6))\n",
    "    g = sns.heatmap(np.array(confusion_matrix), annot=True, cmap='viridis',\n",
    "                    yticklabels=colors, \n",
    "                    xticklabels=colors)\n",
    "    plt.title(f\"Confusion Matrix ({method})\")\n",
    "    for xtick, color in zip(g.get_xticklabels(), color_names):\n",
    "            xtick.set_color(color)\n",
    "    for ytick, color in zip(g.get_yticklabels(), color_names):\n",
    "            ytick.set_color(color)\n",
    "            \n",
    "    #plt.xlabel(\"Hue Color\")\n",
    "    #plt.ylabel(\"Hue Color\")\n",
    "    plt.tight_layout()\n",
    "    os.makedirs(join('figures',  'confusion_matrices'), exist_ok=True)\n",
    "    plt.savefig(join('figures', 'confusion_matrices', f'{method}_features.png'))\n",
    "    plt.show() \n",
    "    "
   ]
  },
  {
   "cell_type": "code",
   "execution_count": 12,
   "metadata": {},
   "outputs": [
    {
     "data": {
      "image/png": "[encoded data removed]",
      "text/plain": [
       "<Figure size 800x600 with 2 Axes>"
      ]
     },
     "metadata": {},
     "output_type": "display_data"
    }
   ],
   "source": [
    "make_heatmap(hue_similarities, method='hue similarity')"
   ]
  },
  {
   "cell_type": "code",
   "execution_count": 116,
   "metadata": {},
   "outputs": [
    {
     "name": "stdout",
     "output_type": "stream",
     "text": [
      "Assessing similarity among vectors computed with: InterfaceGAN\n",
      "Similarity between Red and Red is 1.0\n",
      "Similarity between Red and Brown is 0.195\n",
      "Similarity between Red and Yellow is -0.185\n",
      "Similarity between Red and Green is -0.469\n",
      "Similarity between Red and Cyan is -0.536\n",
      "Similarity between Red and Blue is -0.395\n",
      "Similarity between Red and Magenta is 0.329\n",
      "Similarity between Brown and Red is 0.195\n",
      "Similarity between Brown and Brown is 1.0\n",
      "Similarity between Brown and Yellow is 0.378\n",
      "Similarity between Brown and Green is -0.401\n",
      "Similarity between Brown and Cyan is -0.57\n",
      "Similarity between Brown and Blue is -0.513\n",
      "Similarity between Brown and Magenta is -0.21\n",
      "Similarity between Yellow and Red is -0.185\n",
      "Similarity between Yellow and Brown is 0.378\n",
      "Similarity between Yellow and Yellow is 1.0\n",
      "Similarity between Yellow and Green is 0.078\n",
      "Similarity between Yellow and Cyan is -0.276\n",
      "Similarity between Yellow and Blue is -0.421\n",
      "Similarity between Yellow and Magenta is -0.482\n",
      "Similarity between Green and Red is -0.469\n",
      "Similarity between Green and Brown is -0.401\n",
      "Similarity between Green and Yellow is 0.078\n",
      "Similarity between Green and Green is 1.0\n",
      "Similarity between Green and Cyan is 0.364\n",
      "Similarity between Green and Blue is 0.129\n",
      "Similarity between Green and Magenta is -0.318\n",
      "Similarity between Cyan and Red is -0.536\n",
      "Similarity between Cyan and Brown is -0.57\n",
      "Similarity between Cyan and Yellow is -0.276\n",
      "Similarity between Cyan and Green is 0.364\n",
      "Similarity between Cyan and Cyan is 1.0\n",
      "Similarity between Cyan and Blue is 0.472\n",
      "Similarity between Cyan and Magenta is -0.134\n",
      "Similarity between Blue and Red is -0.395\n",
      "Similarity between Blue and Brown is -0.513\n",
      "Similarity between Blue and Yellow is -0.421\n",
      "Similarity between Blue and Green is 0.129\n",
      "Similarity between Blue and Cyan is 0.472\n",
      "Similarity between Blue and Blue is 1.0\n",
      "Similarity between Blue and Magenta is 0.049\n",
      "Similarity between Magenta and Red is 0.329\n",
      "Similarity between Magenta and Brown is -0.21\n",
      "Similarity between Magenta and Yellow is -0.482\n",
      "Similarity between Magenta and Green is -0.318\n",
      "Similarity between Magenta and Cyan is -0.134\n",
      "Similarity between Magenta and Blue is 0.049\n",
      "Similarity between Magenta and Magenta is 1.0\n",
      "Assessing similarity among vectors computed with: ShapleyVec\n",
      "Similarity between Red and Red is 1.0\n",
      "Similarity between Red and Brown is 0.105\n",
      "Similarity between Red and Yellow is -0.081\n",
      "Similarity between Red and Green is -0.037\n",
      "Similarity between Red and Cyan is -0.107\n",
      "Similarity between Red and Blue is -0.056\n",
      "Similarity between Red and Magenta is 0.213\n",
      "Similarity between Brown and Red is 0.105\n",
      "Similarity between Brown and Brown is 1.0\n",
      "Similarity between Brown and Yellow is 0.088\n",
      "Similarity between Brown and Green is -0.163\n",
      "Similarity between Brown and Cyan is -0.123\n",
      "Similarity between Brown and Blue is -0.034\n",
      "Similarity between Brown and Magenta is -0.001\n",
      "Similarity between Yellow and Red is -0.081\n",
      "Similarity between Yellow and Brown is 0.088\n",
      "Similarity between Yellow and Yellow is 1.0\n",
      "Similarity between Yellow and Green is 0.064\n",
      "Similarity between Yellow and Cyan is -0.007\n",
      "Similarity between Yellow and Blue is -0.044\n",
      "Similarity between Yellow and Magenta is -0.141\n",
      "Similarity between Green and Red is -0.037\n",
      "Similarity between Green and Brown is -0.163\n",
      "Similarity between Green and Yellow is 0.064\n",
      "Similarity between Green and Green is 1.0\n",
      "Similarity between Green and Cyan is 0.293\n",
      "Similarity between Green and Blue is 0.082\n",
      "Similarity between Green and Magenta is -0.016\n",
      "Similarity between Cyan and Red is -0.107\n",
      "Similarity between Cyan and Brown is -0.123\n",
      "Similarity between Cyan and Yellow is -0.007\n",
      "Similarity between Cyan and Green is 0.293\n",
      "Similarity between Cyan and Cyan is 1.0\n",
      "Similarity between Cyan and Blue is 0.157\n",
      "Similarity between Cyan and Magenta is -0.011\n",
      "Similarity between Blue and Red is -0.056\n",
      "Similarity between Blue and Brown is -0.034\n",
      "Similarity between Blue and Yellow is -0.044\n",
      "Similarity between Blue and Green is 0.082\n",
      "Similarity between Blue and Cyan is 0.157\n",
      "Similarity between Blue and Blue is 1.0\n",
      "Similarity between Blue and Magenta is -0.019\n",
      "Similarity between Magenta and Red is 0.213\n",
      "Similarity between Magenta and Brown is -0.001\n",
      "Similarity between Magenta and Yellow is -0.141\n",
      "Similarity between Magenta and Green is -0.016\n",
      "Similarity between Magenta and Cyan is -0.011\n",
      "Similarity between Magenta and Blue is -0.019\n",
      "Similarity between Magenta and Magenta is 1.0\n",
      "Assessing similarity among vectors computed with: StyleSpace\n",
      "Similarity between Red and Red is 1.0\n",
      "Similarity between Red and Brown is 0.0\n",
      "Similarity between Red and Yellow is 0.0\n",
      "Similarity between Red and Green is 0.1\n",
      "Similarity between Red and Cyan is 0.05\n",
      "Similarity between Red and Blue is 0.0\n",
      "Similarity between Red and Magenta is -0.283\n",
      "Similarity between Brown and Red is 0.0\n",
      "Similarity between Brown and Brown is 1.0\n",
      "Similarity between Brown and Yellow is 0.1\n",
      "Similarity between Brown and Green is 0.0\n",
      "Similarity between Brown and Cyan is 0.1\n",
      "Similarity between Brown and Blue is 0.0\n",
      "Similarity between Brown and Magenta is 0.0\n",
      "Similarity between Yellow and Red is 0.0\n",
      "Similarity between Yellow and Brown is 0.1\n",
      "Similarity between Yellow and Yellow is 1.0\n",
      "Similarity between Yellow and Green is 0.05\n",
      "Similarity between Yellow and Cyan is 0.0\n",
      "Similarity between Yellow and Blue is 0.0\n",
      "Similarity between Yellow and Magenta is -0.071\n",
      "Similarity between Green and Red is 0.1\n",
      "Similarity between Green and Brown is 0.0\n",
      "Similarity between Green and Yellow is 0.05\n",
      "Similarity between Green and Green is 1.0\n",
      "Similarity between Green and Cyan is 0.6\n",
      "Similarity between Green and Blue is 0.4\n",
      "Similarity between Green and Magenta is -0.283\n",
      "Similarity between Cyan and Red is 0.05\n",
      "Similarity between Cyan and Brown is 0.1\n",
      "Similarity between Cyan and Yellow is 0.0\n",
      "Similarity between Cyan and Green is 0.6\n",
      "Similarity between Cyan and Cyan is 1.0\n",
      "Similarity between Cyan and Blue is 0.5\n",
      "Similarity between Cyan and Magenta is -0.141\n",
      "Similarity between Blue and Red is 0.0\n",
      "Similarity between Blue and Brown is 0.0\n",
      "Similarity between Blue and Yellow is 0.0\n",
      "Similarity between Blue and Green is 0.4\n",
      "Similarity between Blue and Cyan is 0.5\n",
      "Similarity between Blue and Blue is 1.0\n",
      "Similarity between Blue and Magenta is -0.141\n",
      "Similarity between Magenta and Red is -0.283\n",
      "Similarity between Magenta and Brown is 0.0\n",
      "Similarity between Magenta and Yellow is -0.071\n",
      "Similarity between Magenta and Green is -0.283\n",
      "Similarity between Magenta and Cyan is -0.141\n",
      "Similarity between Magenta and Blue is -0.141\n",
      "Similarity between Magenta and Magenta is 1.0\n"
     ]
    }
   ],
   "source": [
    "df_scores = df_scores.groupby(['Method General', 'Feature']).first()\n",
    "df_scores = df_scores.reset_index()\n",
    "similarities = {}\n",
    "colors = list(hues.keys())\n",
    "for method, group in df_scores.groupby('Method General'):\n",
    "    similarities[method] = [0]*len(colors)\n",
    "    print('Assessing similarity among vectors computed with:', method)\n",
    "    for i, color1 in enumerate(colors):\n",
    "        similarities[method][i] = [0]*len(colors)\n",
    "        for j, color2 in enumerate(colors):\n",
    "            \n",
    "            similarity = cosine_similarity(list(group.loc[group['Feature']==color1, 'Separation Vector (np)'])[0].reshape(1, -1),\n",
    "                                                list(group.loc[group['Feature']==color2, 'Separation Vector (np)'])[0].reshape(1, -1)\n",
    "                                                )\n",
    "            similarities[method][i][j] = similarity[0][0]\n",
    "            \n",
    "            # if color1 != color2:\n",
    "            #     if len(list(group.loc[group['Feature']==color1, 'Separation Vector (np)'])\n",
    "            #            ) > 0 and len(list(group.loc[group['Feature']==color2, 'Separation Vector (np)'])) > 0:\n",
    "            print('Similarity between', color1, 'and', color2, 'is', np.round(similarity[0][0],3))"
   ]
  },
  {
   "cell_type": "code",
   "execution_count": 118,
   "metadata": {},
   "outputs": [
    {
     "data": {
      "image/png": "[encoded data removed]",
      "text/plain": [
       "<Figure size 800x600 with 2 Axes>"
      ]
     },
     "metadata": {},
     "output_type": "display_data"
    },
    {
     "data": {
      "image/png": "[encoded data removed]",
      "text/plain": [
       "<Figure size 800x600 with 2 Axes>"
      ]
     },
     "metadata": {},
     "output_type": "display_data"
    },
    {
     "data": {
      "image/png": "[encoded data removed]",
      "text/plain": [
       "<Figure size 800x600 with 2 Axes>"
      ]
     },
     "metadata": {},
     "output_type": "display_data"
    }
   ],
   "source": [
    "for k,v in similarities.items():\n",
    "    make_heatmap(v, method=k)"
   ]
  },
  {
   "cell_type": "code",
   "execution_count": 128,
   "metadata": {},
   "outputs": [
    {
     "ename": "TypeError",
     "evalue": "list indices must be integers or slices, not list",
     "output_type": "error",
     "traceback": [
      "\u001b[0;31m---------------------------------------------------------------------------\u001b[0m",
      "\u001b[0;31mTypeError\u001b[0m                                 Traceback (most recent call last)",
      "Input \u001b[0;32mIn [128]\u001b[0m, in \u001b[0;36m<cell line: 8>\u001b[0;34m()\u001b[0m\n\u001b[1;32m      8\u001b[0m \u001b[38;5;28;01mfor\u001b[39;00m color1 \u001b[38;5;129;01min\u001b[39;00m similarities:\n\u001b[1;32m      9\u001b[0m     \u001b[38;5;28;01mfor\u001b[39;00m color2 \u001b[38;5;129;01min\u001b[39;00m similarities[color1]:\n\u001b[0;32m---> 10\u001b[0m         similarities[color1][color2] \u001b[38;5;241m=\u001b[39m np\u001b[38;5;241m.\u001b[39mround(np\u001b[38;5;241m.\u001b[39mmean(\u001b[43msimilarities\u001b[49m\u001b[43m[\u001b[49m\u001b[43mcolor1\u001b[49m\u001b[43m]\u001b[49m\u001b[43m[\u001b[49m\u001b[43mcolor2\u001b[49m\u001b[43m]\u001b[49m),\u001b[38;5;241m2\u001b[39m)\n\u001b[1;32m     12\u001b[0m \u001b[38;5;66;03m# Prepare data for Sankey diagram\u001b[39;00m\n\u001b[1;32m     13\u001b[0m source \u001b[38;5;241m=\u001b[39m []\n",
      "\u001b[0;31mTypeError\u001b[0m: list indices must be integers or slices, not list"
     ]
    }
   ],
   "source": [
    "import plotly.graph_objects as go\n",
    "import numpy as np\n",
    "\n",
    "colors = df_scores['Feature'].unique()\n",
    "\n",
    "# Assuming 'similarities' is a dictionary with your calculated similarities\n",
    "# Calculate the average similarities\n",
    "for color1 in similarities:\n",
    "    for color2 in similarities[color1]:\n",
    "        similarities[color1][color2] = np.round(np.mean(similarities[color1][color2]),2)\n",
    "\n",
    "# Prepare data for Sankey diagram\n",
    "source = []\n",
    "target = []\n",
    "value = []\n",
    "# colors_out = [col+'_out' for col in colors]\n",
    "color_index = {color: i for i, color in enumerate(list(colors))}\n",
    "print(color_index)\n",
    "for color1 in similarities:\n",
    "    for color2 in similarities[color1]:\n",
    "        if color1 != color2:\n",
    "            source.append(color_index[color1])\n",
    "            target.append(color_index[color2])\n",
    "            value.append(abs(similarities[color1][color2]))  # Use absolute values\n",
    "\n",
    "# Create Sankey diagram\n",
    "fig = go.Figure(data=[go.Sankey(\n",
    "    node=dict(\n",
    "      pad=15,\n",
    "      thickness=20,\n",
    "      line=dict(color=\"black\", width=0.5),\n",
    "      label=list(colors)\n",
    "    ),\n",
    "    link=dict(\n",
    "      source=source,\n",
    "      target=target,\n",
    "      value=value\n",
    "    ))])\n",
    "\n",
    "fig.update_layout(title_text=\"Average Similarities Among Colors\", font_size=10)\n",
    "fig.show()\n"
   ]
  },
  {
   "cell_type": "code",
   "execution_count": 129,
   "metadata": {},
   "outputs": [
    {
     "ename": "AttributeError",
     "evalue": "'list' object has no attribute 'keys'",
     "output_type": "error",
     "traceback": [
      "\u001b[0;31m---------------------------------------------------------------------------\u001b[0m",
      "\u001b[0;31mAttributeError\u001b[0m                            Traceback (most recent call last)",
      "Input \u001b[0;32mIn [129]\u001b[0m, in \u001b[0;36m<cell line: 1>\u001b[0;34m()\u001b[0m\n\u001b[1;32m      1\u001b[0m \u001b[38;5;28;01mfor\u001b[39;00m c1 \u001b[38;5;129;01min\u001b[39;00m similarities\u001b[38;5;241m.\u001b[39mkeys():\n\u001b[0;32m----> 2\u001b[0m     \u001b[38;5;28;01mfor\u001b[39;00m c2 \u001b[38;5;129;01min\u001b[39;00m \u001b[43msimilarities\u001b[49m\u001b[43m[\u001b[49m\u001b[43mc1\u001b[49m\u001b[43m]\u001b[49m\u001b[38;5;241;43m.\u001b[39;49m\u001b[43mkeys\u001b[49m():\n\u001b[1;32m      3\u001b[0m         \u001b[38;5;28;01mif\u001b[39;00m \u001b[38;5;28mlen\u001b[39m(similarities[c1][c2]) \u001b[38;5;241m>\u001b[39m \u001b[38;5;241m0\u001b[39m:\n\u001b[1;32m      4\u001b[0m             \u001b[38;5;28mprint\u001b[39m(\u001b[38;5;124m'\u001b[39m\u001b[38;5;124mAverage similarity across methods\u001b[39m\u001b[38;5;124m'\u001b[39m, c1, c2, \u001b[38;5;124m'\u001b[39m\u001b[38;5;124mis\u001b[39m\u001b[38;5;124m'\u001b[39m, np\u001b[38;5;241m.\u001b[39mround(np\u001b[38;5;241m.\u001b[39mmean(similarities[c1][c2]), \u001b[38;5;241m3\u001b[39m),\n\u001b[1;32m      5\u001b[0m                   \u001b[38;5;124m'\u001b[39m\u001b[38;5;124mwith std\u001b[39m\u001b[38;5;124m'\u001b[39m, np\u001b[38;5;241m.\u001b[39mround(np\u001b[38;5;241m.\u001b[39mstd(similarities[c1][c2]), \u001b[38;5;241m3\u001b[39m))\n",
      "\u001b[0;31mAttributeError\u001b[0m: 'list' object has no attribute 'keys'"
     ]
    }
   ],
   "source": [
    "for c1 in similarities.keys():\n",
    "    for c2 in similarities[c1].keys():\n",
    "        if len(similarities[c1][c2]) > 0:\n",
    "            print('Average similarity across methods', c1, c2, 'is', np.round(np.mean(similarities[c1][c2]), 3),\n",
    "                  'with std', np.round(np.std(similarities[c1][c2]), 3))"
   ]
  },
  {
   "cell_type": "markdown",
   "metadata": {},
   "source": [
    "<img src=\"../data/color_systems.png\" width=\"400\" height=\"200\">"
   ]
  },
  {
   "cell_type": "markdown",
   "metadata": {},
   "source": [
    "Now trying out different vector algebras to see which properties from the subtractive and additive schemes hold"
   ]
  },
  {
   "cell_type": "code",
   "execution_count": 20,
   "metadata": {},
   "outputs": [],
   "source": [
    "df_scores_interface = df_scores[df_scores['Method General'] == 'InterfaceGAN']"
   ]
  },
  {
   "cell_type": "code",
   "execution_count": 21,
   "metadata": {},
   "outputs": [
    {
     "name": "stdout",
     "output_type": "stream",
     "text": [
      "(36, 39)\n"
     ]
    },
    {
     "data": {
      "text/html": [
       "<div>\n",
       "<style scoped>\n",
       "    .dataframe tbody tr th:only-of-type {\n",
       "        vertical-align: middle;\n",
       "    }\n",
       "\n",
       "    .dataframe tbody tr th {\n",
       "        vertical-align: top;\n",
       "    }\n",
       "\n",
       "    .dataframe thead th {\n",
       "        text-align: right;\n",
       "    }\n",
       "</style>\n",
       "<table border=\"1\" class=\"dataframe\">\n",
       "  <thead>\n",
       "    <tr style=\"text-align: right;\">\n",
       "      <th></th>\n",
       "      <th>index</th>\n",
       "      <th>Method</th>\n",
       "      <th>Variable</th>\n",
       "      <th>Feature</th>\n",
       "      <th>Broad</th>\n",
       "      <th>Optimal lambda</th>\n",
       "      <th>Total Score</th>\n",
       "      <th>Score lambda 1</th>\n",
       "      <th>Score lambda 2</th>\n",
       "      <th>Score lambda 3</th>\n",
       "      <th>...</th>\n",
       "      <th>Score lambda 22</th>\n",
       "      <th>Score lambda 23</th>\n",
       "      <th>Score lambda 24</th>\n",
       "      <th>Score lambda 25</th>\n",
       "      <th>Method General</th>\n",
       "      <th>Space</th>\n",
       "      <th>Subfolder</th>\n",
       "      <th>Classes</th>\n",
       "      <th>Separation Vector</th>\n",
       "      <th>Performance</th>\n",
       "    </tr>\n",
       "  </thead>\n",
       "  <tbody>\n",
       "    <tr>\n",
       "      <th>27</th>\n",
       "      <td>29</td>\n",
       "      <td>InterfaceGAN_LR_0.1_18_color_True</td>\n",
       "      <td>color</td>\n",
       "      <td>FALU RED</td>\n",
       "      <td>True</td>\n",
       "      <td>14.0</td>\n",
       "      <td>0.918</td>\n",
       "      <td>0.818</td>\n",
       "      <td>0.825</td>\n",
       "      <td>0.835</td>\n",
       "      <td>...</td>\n",
       "      <td>NaN</td>\n",
       "      <td>NaN</td>\n",
       "      <td>NaN</td>\n",
       "      <td>NaN</td>\n",
       "      <td>InterfaceGAN</td>\n",
       "      <td>w</td>\n",
       "      <td>interfaceGAN_beauty/color/</td>\n",
       "      <td>SEED PEARL, FUJI SNOW, ORANGE ESSENTIAL, RIVIE...</td>\n",
       "      <td>[0.0120245996, -0.00577077604, 0.00687366128, ...</td>\n",
       "      <td>0.26</td>\n",
       "    </tr>\n",
       "  </tbody>\n",
       "</table>\n",
       "<p>1 rows × 39 columns</p>\n",
       "</div>"
      ],
      "text/plain": [
       "    index                             Method Variable   Feature  Broad  \\\n",
       "27     29  InterfaceGAN_LR_0.1_18_color_True    color  FALU RED   True   \n",
       "\n",
       "    Optimal lambda  Total Score  Score lambda 1  Score lambda 2  \\\n",
       "27            14.0        0.918           0.818           0.825   \n",
       "\n",
       "    Score lambda 3  ...  Score lambda 22  Score lambda 23  Score lambda 24  \\\n",
       "27           0.835  ...              NaN              NaN              NaN   \n",
       "\n",
       "    Score lambda 25  Method General  Space                   Subfolder  \\\n",
       "27              NaN    InterfaceGAN      w  interfaceGAN_beauty/color/   \n",
       "\n",
       "                                              Classes  \\\n",
       "27  SEED PEARL, FUJI SNOW, ORANGE ESSENTIAL, RIVIE...   \n",
       "\n",
       "                                    Separation Vector  Performance  \n",
       "27  [0.0120245996, -0.00577077604, 0.00687366128, ...         0.26  \n",
       "\n",
       "[1 rows x 39 columns]"
      ]
     },
     "execution_count": 21,
     "metadata": {},
     "output_type": "execute_result"
    }
   ],
   "source": [
    "print(df_scores_interface.shape)\n",
    "# df_scores_interface = df_scores_interface[~df_scores_interface['Feature'].isin(['S1', 'V1', 'BW', 'Brown'])].reset_index()\n",
    "\n",
    "df_scores_interface.head(1)"
   ]
  },
  {
   "cell_type": "code",
   "execution_count": 25,
   "metadata": {},
   "outputs": [],
   "source": [
    "color2vector = {k:v for k,v in zip(df_scores_interface['Feature'],df_scores_interface['Separation Vector'])}"
   ]
  },
  {
   "cell_type": "code",
   "execution_count": 26,
   "metadata": {},
   "outputs": [],
   "source": [
    "# Function to normalize a vector\n",
    "def normalize(v):\n",
    "    norm = np.linalg.norm(v)\n",
    "    if norm == 0: \n",
    "       return v\n",
    "    return v / norm\n",
    "\n",
    "# Sum and subtract pairwise and normalize\n",
    "resultant_vectors = [(normalize(a*v1 + b*v2), k1 + '+' + k2 + ' a ' + str(a) + ' b ' + str(b)\n",
    "                      ) for k1, v1 in color2vector.items() for k2, v2 in color2vector.items() for a in range(1,5) \n",
    "                     for b in range(1,5) if k1 != k2 and k1 not in ['S1', 'V1', 'BW', 'Brown'] and k2 not in ['S1', 'V1', 'BW', 'Brown']]\n",
    "\n",
    "\n",
    "resultant_vectors += [(normalize(a*v1 - b*v2), k1 + '-' + k2 + ' a ' + str(a) + ' b ' + str(b)\n",
    "                      ) for k1, v1 in color2vector.items() for k2, v2 in color2vector.items() for a in range(1,5) \n",
    "                     for b in range(1,5) if k1 != k2 and k1 not in ['S1', 'V1', 'BW', 'Brown'] and k2 not in ['S1', 'V1', 'BW', 'Brown']]\n",
    "\n",
    "# Find the most similar vector\n",
    "for rv in resultant_vectors:\n",
    "    most_similar = None\n",
    "    highest_similarity = -1\n",
    "    for ov in color2vector.items():\n",
    "        if ov[0] not in ['S1', 'V1', 'BW', 'Brown']:\n",
    "            similarity = np.dot(rv[0], ov[1])\n",
    "            if np.abs(similarity) > highest_similarity:\n",
    "                if ov[0] not in rv[1]:\n",
    "                    most_similar = ov[0]\n",
    "                    highest_similarity = similarity\n",
    "    if highest_similarity > 0.2:\n",
    "        print(\"Most Similar Vector:\", most_similar, 'to', rv[1], 'with similarity', highest_similarity)\n"
   ]
  },
  {
   "cell_type": "code",
   "execution_count": 27,
   "metadata": {},
   "outputs": [],
   "source": [
    "additive_colors = [(normalize(v1 + v2), k1 + '+' + k2\n",
    "                      ) for k1, v1 in color2vector.items() for k2, v2 in color2vector.items() \n",
    "                   if k1 != k2 and k1 in ['Red', 'Green', 'Blue'] and k2 in ['Red', 'Green', 'Blue']]\n",
    "\n",
    "\n",
    "subtractive_colors = [(normalize(v1 - v2), k1 + '-' + k2 \n",
    "                      ) for k1, v1 in color2vector.items() for k2, v2 in color2vector.items() \n",
    "                      if k1 != k2 and k1 in ['Cyan', 'Magenta', 'Yellow'] and k2 in ['Cyan', 'Magenta', 'Yellow']]\n",
    "\n",
    "# Find the most similar vector\n",
    "for rv in additive_colors:\n",
    "    for ov in color2vector.items():\n",
    "        if ov[0] not in ['S1', 'V1', 'BW', 'Brown']:\n",
    "            similarity = np.dot(rv[0], ov[1])\n",
    "            if ov[0] not in rv[1]:\n",
    "                print(\"Vector:\", ov[0], 'is similar to', rv[1], 'with similarity', similarity)\n"
   ]
  },
  {
   "cell_type": "code",
   "execution_count": 135,
   "metadata": {},
   "outputs": [
    {
     "data": {
      "application/vnd.plotly.v1+json": {
       "config": {
        "plotlyServerURL": "https://plot.ly"
       },
       "data": [
        {
         "link": {
          "source": [
           0,
           0,
           0,
           0,
           5,
           5,
           5,
           5,
           7,
           7,
           7,
           7,
           8,
           8,
           8,
           8,
           10,
           10,
           10,
           10,
           11,
           11,
           11,
           11,
           12,
           12,
           12,
           12,
           13,
           13,
           13,
           13,
           14,
           14,
           14,
           14,
           15,
           15,
           15,
           15,
           16,
           16,
           16,
           16,
           17,
           17,
           17,
           17
          ],
          "target": [
           1,
           2,
           3,
           4,
           1,
           6,
           2,
           4,
           1,
           2,
           3,
           4,
           9,
           1,
           2,
           4,
           1,
           6,
           2,
           4,
           9,
           1,
           2,
           4,
           9,
           6,
           3,
           4,
           9,
           6,
           2,
           3,
           9,
           6,
           3,
           4,
           9,
           1,
           6,
           3,
           9,
           6,
           2,
           3,
           9,
           1,
           6,
           3
          ],
          "value": [
           0.21869010924603732,
           -0.048473747849907975,
           -0.24731589817245125,
           -0.07932597459401154,
           -0.03410025921610699,
           -0.10252144503864495,
           0.11726370996904899,
           -0.15926063419202596,
           0.21869010924603732,
           -0.048473747849907975,
           -0.24731589817245125,
           -0.07932597459401154,
           -0.13541284619055807,
           -0.11655029736393754,
           0.03672660356244144,
           -0.04106726463062327,
           -0.03410025921610699,
           -0.10252144503864495,
           0.11726370996904899,
           -0.15926063419202596,
           -0.13541284619055807,
           -0.11655029736393754,
           0.03672660356244144,
           -0.04106726463062327,
           0.12587683731204344,
           0.14263542796163564,
           -0.2555212368853957,
           0.028695031451628116,
           0.23007314367393233,
           0.06804331696217854,
           0.054292668391245386,
           -0.12337473604229532,
           -0.12587683731204344,
           -0.14263542796163564,
           0.2555212368853957,
           -0.028695031451628116,
           0.10633974947524305,
           0.026113610571025583,
           -0.07501957921523003,
           0.1328903386164941,
           -0.23007314367393233,
           -0.06804331696217854,
           -0.054292668391245386,
           0.12337473604229532,
           -0.10633974947524305,
           -0.026113610571025583,
           0.07501957921523003,
           -0.1328903386164941
          ]
         },
         "node": {
          "label": [
           "Blue+Green",
           "Cyan",
           "Magenta",
           "Red",
           "Yellow",
           "Blue+Red",
           "Green",
           "Green+Blue",
           "Green+Red",
           "Blue",
           "Red+Blue",
           "Red+Green",
           "Cyan-Magenta",
           "Cyan-Yellow",
           "Magenta-Cyan",
           "Magenta-Yellow",
           "Yellow-Cyan",
           "Yellow-Magenta"
          ],
          "line": {
           "color": "black",
           "width": 0.5
          },
          "pad": 15,
          "thickness": 20
         },
         "type": "sankey"
        }
       ],
       "layout": {
        "font": {
         "size": 10
        },
        "template": {
         "data": {
          "bar": [
           {
            "error_x": {
             "color": "#2a3f5f"
            },
            "error_y": {
             "color": "#2a3f5f"
            },
            "marker": {
             "line": {
              "color": "#E5ECF6",
              "width": 0.5
             },
             "pattern": {
              "fillmode": "overlay",
              "size": 10,
              "solidity": 0.2
             }
            },
            "type": "bar"
           }
          ],
          "barpolar": [
           {
            "marker": {
             "line": {
              "color": "#E5ECF6",
              "width": 0.5
             },
             "pattern": {
              "fillmode": "overlay",
              "size": 10,
              "solidity": 0.2
             }
            },
            "type": "barpolar"
           }
          ],
          "carpet": [
           {
            "aaxis": {
             "endlinecolor": "#2a3f5f",
             "gridcolor": "white",
             "linecolor": "white",
             "minorgridcolor": "white",
             "startlinecolor": "#2a3f5f"
            },
            "baxis": {
             "endlinecolor": "#2a3f5f",
             "gridcolor": "white",
             "linecolor": "white",
             "minorgridcolor": "white",
             "startlinecolor": "#2a3f5f"
            },
            "type": "carpet"
           }
          ],
          "choropleth": [
           {
            "colorbar": {
             "outlinewidth": 0,
             "ticks": ""
            },
            "type": "choropleth"
           }
          ],
          "contour": [
           {
            "colorbar": {
             "outlinewidth": 0,
             "ticks": ""
            },
            "colorscale": [
             [
              0,
              "#0d0887"
             ],
             [
              0.1111111111111111,
              "#46039f"
             ],
             [
              0.2222222222222222,
              "#7201a8"
             ],
             [
              0.3333333333333333,
              "#9c179e"
             ],
             [
              0.4444444444444444,
              "#bd3786"
             ],
             [
              0.5555555555555556,
              "#d8576b"
             ],
             [
              0.6666666666666666,
              "#ed7953"
             ],
             [
              0.7777777777777778,
              "#fb9f3a"
             ],
             [
              0.8888888888888888,
              "#fdca26"
             ],
             [
              1,
              "#f0f921"
             ]
            ],
            "type": "contour"
           }
          ],
          "contourcarpet": [
           {
            "colorbar": {
             "outlinewidth": 0,
             "ticks": ""
            },
            "type": "contourcarpet"
           }
          ],
          "heatmap": [
           {
            "colorbar": {
             "outlinewidth": 0,
             "ticks": ""
            },
            "colorscale": [
             [
              0,
              "#0d0887"
             ],
             [
              0.1111111111111111,
              "#46039f"
             ],
             [
              0.2222222222222222,
              "#7201a8"
             ],
             [
              0.3333333333333333,
              "#9c179e"
             ],
             [
              0.4444444444444444,
              "#bd3786"
             ],
             [
              0.5555555555555556,
              "#d8576b"
             ],
             [
              0.6666666666666666,
              "#ed7953"
             ],
             [
              0.7777777777777778,
              "#fb9f3a"
             ],
             [
              0.8888888888888888,
              "#fdca26"
             ],
             [
              1,
              "#f0f921"
             ]
            ],
            "type": "heatmap"
           }
          ],
          "heatmapgl": [
           {
            "colorbar": {
             "outlinewidth": 0,
             "ticks": ""
            },
            "colorscale": [
             [
              0,
              "#0d0887"
             ],
             [
              0.1111111111111111,
              "#46039f"
             ],
             [
              0.2222222222222222,
              "#7201a8"
             ],
             [
              0.3333333333333333,
              "#9c179e"
             ],
             [
              0.4444444444444444,
              "#bd3786"
             ],
             [
              0.5555555555555556,
              "#d8576b"
             ],
             [
              0.6666666666666666,
              "#ed7953"
             ],
             [
              0.7777777777777778,
              "#fb9f3a"
             ],
             [
              0.8888888888888888,
              "#fdca26"
             ],
             [
              1,
              "#f0f921"
             ]
            ],
            "type": "heatmapgl"
           }
          ],
          "histogram": [
           {
            "marker": {
             "pattern": {
              "fillmode": "overlay",
              "size": 10,
              "solidity": 0.2
             }
            },
            "type": "histogram"
           }
          ],
          "histogram2d": [
           {
            "colorbar": {
             "outlinewidth": 0,
             "ticks": ""
            },
            "colorscale": [
             [
              0,
              "#0d0887"
             ],
             [
              0.1111111111111111,
              "#46039f"
             ],
             [
              0.2222222222222222,
              "#7201a8"
             ],
             [
              0.3333333333333333,
              "#9c179e"
             ],
             [
              0.4444444444444444,
              "#bd3786"
             ],
             [
              0.5555555555555556,
              "#d8576b"
             ],
             [
              0.6666666666666666,
              "#ed7953"
             ],
             [
              0.7777777777777778,
              "#fb9f3a"
             ],
             [
              0.8888888888888888,
              "#fdca26"
             ],
             [
              1,
              "#f0f921"
             ]
            ],
            "type": "histogram2d"
           }
          ],
          "histogram2dcontour": [
           {
            "colorbar": {
             "outlinewidth": 0,
             "ticks": ""
            },
            "colorscale": [
             [
              0,
              "#0d0887"
             ],
             [
              0.1111111111111111,
              "#46039f"
             ],
             [
              0.2222222222222222,
              "#7201a8"
             ],
             [
              0.3333333333333333,
              "#9c179e"
             ],
             [
              0.4444444444444444,
              "#bd3786"
             ],
             [
              0.5555555555555556,
              "#d8576b"
             ],
             [
              0.6666666666666666,
              "#ed7953"
             ],
             [
              0.7777777777777778,
              "#fb9f3a"
             ],
             [
              0.8888888888888888,
              "#fdca26"
             ],
             [
              1,
              "#f0f921"
             ]
            ],
            "type": "histogram2dcontour"
           }
          ],
          "mesh3d": [
           {
            "colorbar": {
             "outlinewidth": 0,
             "ticks": ""
            },
            "type": "mesh3d"
           }
          ],
          "parcoords": [
           {
            "line": {
             "colorbar": {
              "outlinewidth": 0,
              "ticks": ""
             }
            },
            "type": "parcoords"
           }
          ],
          "pie": [
           {
            "automargin": true,
            "type": "pie"
           }
          ],
          "scatter": [
           {
            "fillpattern": {
             "fillmode": "overlay",
             "size": 10,
             "solidity": 0.2
            },
            "type": "scatter"
           }
          ],
          "scatter3d": [
           {
            "line": {
             "colorbar": {
              "outlinewidth": 0,
              "ticks": ""
             }
            },
            "marker": {
             "colorbar": {
              "outlinewidth": 0,
              "ticks": ""
             }
            },
            "type": "scatter3d"
           }
          ],
          "scattercarpet": [
           {
            "marker": {
             "colorbar": {
              "outlinewidth": 0,
              "ticks": ""
             }
            },
            "type": "scattercarpet"
           }
          ],
          "scattergeo": [
           {
            "marker": {
             "colorbar": {
              "outlinewidth": 0,
              "ticks": ""
             }
            },
            "type": "scattergeo"
           }
          ],
          "scattergl": [
           {
            "marker": {
             "colorbar": {
              "outlinewidth": 0,
              "ticks": ""
             }
            },
            "type": "scattergl"
           }
          ],
          "scattermapbox": [
           {
            "marker": {
             "colorbar": {
              "outlinewidth": 0,
              "ticks": ""
             }
            },
            "type": "scattermapbox"
           }
          ],
          "scatterpolar": [
           {
            "marker": {
             "colorbar": {
              "outlinewidth": 0,
              "ticks": ""
             }
            },
            "type": "scatterpolar"
           }
          ],
          "scatterpolargl": [
           {
            "marker": {
             "colorbar": {
              "outlinewidth": 0,
              "ticks": ""
             }
            },
            "type": "scatterpolargl"
           }
          ],
          "scatterternary": [
           {
            "marker": {
             "colorbar": {
              "outlinewidth": 0,
              "ticks": ""
             }
            },
            "type": "scatterternary"
           }
          ],
          "surface": [
           {
            "colorbar": {
             "outlinewidth": 0,
             "ticks": ""
            },
            "colorscale": [
             [
              0,
              "#0d0887"
             ],
             [
              0.1111111111111111,
              "#46039f"
             ],
             [
              0.2222222222222222,
              "#7201a8"
             ],
             [
              0.3333333333333333,
              "#9c179e"
             ],
             [
              0.4444444444444444,
              "#bd3786"
             ],
             [
              0.5555555555555556,
              "#d8576b"
             ],
             [
              0.6666666666666666,
              "#ed7953"
             ],
             [
              0.7777777777777778,
              "#fb9f3a"
             ],
             [
              0.8888888888888888,
              "#fdca26"
             ],
             [
              1,
              "#f0f921"
             ]
            ],
            "type": "surface"
           }
          ],
          "table": [
           {
            "cells": {
             "fill": {
              "color": "#EBF0F8"
             },
             "line": {
              "color": "white"
             }
            },
            "header": {
             "fill": {
              "color": "#C8D4E3"
             },
             "line": {
              "color": "white"
             }
            },
            "type": "table"
           }
          ]
         },
         "layout": {
          "annotationdefaults": {
           "arrowcolor": "#2a3f5f",
           "arrowhead": 0,
           "arrowwidth": 1
          },
          "autotypenumbers": "strict",
          "coloraxis": {
           "colorbar": {
            "outlinewidth": 0,
            "ticks": ""
           }
          },
          "colorscale": {
           "diverging": [
            [
             0,
             "#8e0152"
            ],
            [
             0.1,
             "#c51b7d"
            ],
            [
             0.2,
             "#de77ae"
            ],
            [
             0.3,
             "#f1b6da"
            ],
            [
             0.4,
             "#fde0ef"
            ],
            [
             0.5,
             "#f7f7f7"
            ],
            [
             0.6,
             "#e6f5d0"
            ],
            [
             0.7,
             "#b8e186"
            ],
            [
             0.8,
             "#7fbc41"
            ],
            [
             0.9,
             "#4d9221"
            ],
            [
             1,
             "#276419"
            ]
           ],
           "sequential": [
            [
             0,
             "#0d0887"
            ],
            [
             0.1111111111111111,
             "#46039f"
            ],
            [
             0.2222222222222222,
             "#7201a8"
            ],
            [
             0.3333333333333333,
             "#9c179e"
            ],
            [
             0.4444444444444444,
             "#bd3786"
            ],
            [
             0.5555555555555556,
             "#d8576b"
            ],
            [
             0.6666666666666666,
             "#ed7953"
            ],
            [
             0.7777777777777778,
             "#fb9f3a"
            ],
            [
             0.8888888888888888,
             "#fdca26"
            ],
            [
             1,
             "#f0f921"
            ]
           ],
           "sequentialminus": [
            [
             0,
             "#0d0887"
            ],
            [
             0.1111111111111111,
             "#46039f"
            ],
            [
             0.2222222222222222,
             "#7201a8"
            ],
            [
             0.3333333333333333,
             "#9c179e"
            ],
            [
             0.4444444444444444,
             "#bd3786"
            ],
            [
             0.5555555555555556,
             "#d8576b"
            ],
            [
             0.6666666666666666,
             "#ed7953"
            ],
            [
             0.7777777777777778,
             "#fb9f3a"
            ],
            [
             0.8888888888888888,
             "#fdca26"
            ],
            [
             1,
             "#f0f921"
            ]
           ]
          },
          "colorway": [
           "#636efa",
           "#EF553B",
           "#00cc96",
           "#ab63fa",
           "#FFA15A",
           "#19d3f3",
           "#FF6692",
           "#B6E880",
           "#FF97FF",
           "#FECB52"
          ],
          "font": {
           "color": "#2a3f5f"
          },
          "geo": {
           "bgcolor": "white",
           "lakecolor": "white",
           "landcolor": "#E5ECF6",
           "showlakes": true,
           "showland": true,
           "subunitcolor": "white"
          },
          "hoverlabel": {
           "align": "left"
          },
          "hovermode": "closest",
          "mapbox": {
           "style": "light"
          },
          "paper_bgcolor": "white",
          "plot_bgcolor": "#E5ECF6",
          "polar": {
           "angularaxis": {
            "gridcolor": "white",
            "linecolor": "white",
            "ticks": ""
           },
           "bgcolor": "#E5ECF6",
           "radialaxis": {
            "gridcolor": "white",
            "linecolor": "white",
            "ticks": ""
           }
          },
          "scene": {
           "xaxis": {
            "backgroundcolor": "#E5ECF6",
            "gridcolor": "white",
            "gridwidth": 2,
            "linecolor": "white",
            "showbackground": true,
            "ticks": "",
            "zerolinecolor": "white"
           },
           "yaxis": {
            "backgroundcolor": "#E5ECF6",
            "gridcolor": "white",
            "gridwidth": 2,
            "linecolor": "white",
            "showbackground": true,
            "ticks": "",
            "zerolinecolor": "white"
           },
           "zaxis": {
            "backgroundcolor": "#E5ECF6",
            "gridcolor": "white",
            "gridwidth": 2,
            "linecolor": "white",
            "showbackground": true,
            "ticks": "",
            "zerolinecolor": "white"
           }
          },
          "shapedefaults": {
           "line": {
            "color": "#2a3f5f"
           }
          },
          "ternary": {
           "aaxis": {
            "gridcolor": "white",
            "linecolor": "white",
            "ticks": ""
           },
           "baxis": {
            "gridcolor": "white",
            "linecolor": "white",
            "ticks": ""
           },
           "bgcolor": "#E5ECF6",
           "caxis": {
            "gridcolor": "white",
            "linecolor": "white",
            "ticks": ""
           }
          },
          "title": {
           "x": 0.05
          },
          "xaxis": {
           "automargin": true,
           "gridcolor": "white",
           "linecolor": "white",
           "ticks": "",
           "title": {
            "standoff": 15
           },
           "zerolinecolor": "white",
           "zerolinewidth": 2
          },
          "yaxis": {
           "automargin": true,
           "gridcolor": "white",
           "linecolor": "white",
           "ticks": "",
           "title": {
            "standoff": 15
           },
           "zerolinecolor": "white",
           "zerolinewidth": 2
          }
         }
        },
        "title": {
         "text": "Similarities between Additive and Subtractive Colors"
        }
       }
      }
     },
     "metadata": {},
     "output_type": "display_data"
    }
   ],
   "source": [
    "import plotly.graph_objects as go\n",
    "import numpy as np\n",
    "\n",
    "# Assuming color2vector is your dictionary of colors to vectors\n",
    "# and you've computed additive_colors and subtractive_colors as given\n",
    "\n",
    "# Calculate similarities and prepare data for Sankey diagram\n",
    "source = []\n",
    "target = []\n",
    "value = []\n",
    "labels = []\n",
    "\n",
    "# Additive colors\n",
    "for rv in additive_colors:\n",
    "    for ov in color2vector.items():\n",
    "        if ov[0] not in ['S1', 'V1', 'BW', 'Brown']:\n",
    "            similarity = np.dot(rv[0], ov[1])\n",
    "            if ov[0] not in rv[1]:\n",
    "                # Add to Sankey data\n",
    "                if rv[1] not in labels:\n",
    "                    labels.append(rv[1])\n",
    "                if ov[0] not in labels:\n",
    "                    labels.append(ov[0])\n",
    "\n",
    "                source.append(labels.index(rv[1]))\n",
    "                target.append(labels.index(ov[0]))\n",
    "                value.append(similarity)\n",
    "\n",
    "# Assuming subtractive_colors follows the same structure\n",
    "for rv in subtractive_colors:\n",
    "    for ov in color2vector.items():\n",
    "        if ov[0] not in ['S1', 'V1', 'BW', 'Brown']:\n",
    "            similarity = np.dot(rv[0], ov[1])\n",
    "            if ov[0] not in rv[1]:\n",
    "                # Add to Sankey data\n",
    "                if rv[1] not in labels:\n",
    "                    labels.append(rv[1])\n",
    "                if ov[0] not in labels:\n",
    "                    labels.append(ov[0])\n",
    "\n",
    "                source.append(labels.index(rv[1]))\n",
    "                target.append(labels.index(ov[0]))\n",
    "                value.append(similarity)\n",
    "    # Similar logic as above\n",
    "\n",
    "# Create Sankey diagram\n",
    "fig = go.Figure(data=[go.Sankey(\n",
    "    node=dict(\n",
    "      pad=15,\n",
    "      thickness=20,\n",
    "      line=dict(color=\"black\", width=0.5),\n",
    "      label=labels\n",
    "    ),\n",
    "    link=dict(\n",
    "      source=source,\n",
    "      target=target,\n",
    "      value=value\n",
    "    ))])\n",
    "\n",
    "fig.update_layout(title_text=\"Similarities between Additive and Subtractive Colors\", font_size=10)\n",
    "fig.show()\n"
   ]
  },
  {
   "cell_type": "code",
   "execution_count": 136,
   "metadata": {},
   "outputs": [
    {
     "name": "stdout",
     "output_type": "stream",
     "text": [
      "Vector: Blue is similar to Cyan-Magenta with similarity 0.12587683731204344\n",
      "Vector: Green is similar to Cyan-Magenta with similarity 0.14263542796163564\n",
      "Vector: Red is similar to Cyan-Magenta with similarity -0.2555212368853957\n",
      "Vector: Yellow is similar to Cyan-Magenta with similarity 0.028695031451628116\n",
      "Vector: Blue is similar to Cyan-Yellow with similarity 0.23007314367393233\n",
      "Vector: Green is similar to Cyan-Yellow with similarity 0.06804331696217854\n",
      "Vector: Magenta is similar to Cyan-Yellow with similarity 0.054292668391245386\n",
      "Vector: Red is similar to Cyan-Yellow with similarity -0.12337473604229532\n",
      "Vector: Blue is similar to Magenta-Cyan with similarity -0.12587683731204344\n",
      "Vector: Green is similar to Magenta-Cyan with similarity -0.14263542796163564\n",
      "Vector: Red is similar to Magenta-Cyan with similarity 0.2555212368853957\n",
      "Vector: Yellow is similar to Magenta-Cyan with similarity -0.028695031451628116\n",
      "Vector: Blue is similar to Magenta-Yellow with similarity 0.10633974947524305\n",
      "Vector: Cyan is similar to Magenta-Yellow with similarity 0.026113610571025583\n",
      "Vector: Green is similar to Magenta-Yellow with similarity -0.07501957921523003\n",
      "Vector: Red is similar to Magenta-Yellow with similarity 0.1328903386164941\n",
      "Vector: Blue is similar to Yellow-Cyan with similarity -0.23007314367393233\n",
      "Vector: Green is similar to Yellow-Cyan with similarity -0.06804331696217854\n",
      "Vector: Magenta is similar to Yellow-Cyan with similarity -0.054292668391245386\n",
      "Vector: Red is similar to Yellow-Cyan with similarity 0.12337473604229532\n",
      "Vector: Blue is similar to Yellow-Magenta with similarity -0.10633974947524305\n",
      "Vector: Cyan is similar to Yellow-Magenta with similarity -0.026113610571025583\n",
      "Vector: Green is similar to Yellow-Magenta with similarity 0.07501957921523003\n",
      "Vector: Red is similar to Yellow-Magenta with similarity -0.1328903386164941\n"
     ]
    }
   ],
   "source": [
    "# Find the most similar vector\n",
    "for rv in subtractive_colors:\n",
    "    for ov in color2vector.items():\n",
    "        if ov[0] not in ['S1', 'V1', 'BW', 'Brown']:\n",
    "            similarity = np.dot(rv[0], ov[1])\n",
    "            if ov[0] not in rv[1]:\n",
    "                print(\"Vector:\", ov[0], 'is similar to', rv[1], 'with similarity', similarity)\n"
   ]
  },
  {
   "cell_type": "markdown",
   "metadata": {},
   "source": [
    "Similarity across channels"
   ]
  },
  {
   "cell_type": "code",
   "execution_count": 149,
   "metadata": {},
   "outputs": [
    {
     "name": "stdout",
     "output_type": "stream",
     "text": [
      "(8, 31)\n"
     ]
    },
    {
     "data": {
      "text/html": [
       "<div>\n",
       "<style scoped>\n",
       "    .dataframe tbody tr th:only-of-type {\n",
       "        vertical-align: middle;\n",
       "    }\n",
       "\n",
       "    .dataframe tbody tr th {\n",
       "        vertical-align: top;\n",
       "    }\n",
       "\n",
       "    .dataframe thead th {\n",
       "        text-align: right;\n",
       "    }\n",
       "</style>\n",
       "<table border=\"1\" class=\"dataframe\">\n",
       "  <thead>\n",
       "    <tr style=\"text-align: right;\">\n",
       "      <th></th>\n",
       "      <th>Method General</th>\n",
       "      <th>Feature</th>\n",
       "      <th>index</th>\n",
       "      <th>Method</th>\n",
       "      <th>Variable</th>\n",
       "      <th>Broad</th>\n",
       "      <th>Optimal lambda</th>\n",
       "      <th>Total Score</th>\n",
       "      <th>Score lambda 1</th>\n",
       "      <th>Score lambda 2</th>\n",
       "      <th>...</th>\n",
       "      <th>Score lambda 14</th>\n",
       "      <th>Score lambda 15</th>\n",
       "      <th>Final Score</th>\n",
       "      <th>Space</th>\n",
       "      <th>Subfolder</th>\n",
       "      <th>Performance</th>\n",
       "      <th>Classes</th>\n",
       "      <th>Bins</th>\n",
       "      <th>Separation Vector</th>\n",
       "      <th>Separation Vector (np)</th>\n",
       "    </tr>\n",
       "  </thead>\n",
       "  <tbody>\n",
       "    <tr>\n",
       "      <th>10</th>\n",
       "      <td>ShapleyVec</td>\n",
       "      <td>BW</td>\n",
       "      <td>16</td>\n",
       "      <td>ShapleyVec_True_0.5_8_Color_LR</td>\n",
       "      <td>Color</td>\n",
       "      <td>0.0</td>\n",
       "      <td>3.0</td>\n",
       "      <td>0.81</td>\n",
       "      <td>0.19</td>\n",
       "      <td>0.357</td>\n",
       "      <td>...</td>\n",
       "      <td>1.0</td>\n",
       "      <td>1.0</td>\n",
       "      <td>0.619</td>\n",
       "      <td>w</td>\n",
       "      <td>ShapleyVec/color/</td>\n",
       "      <td>NaN</td>\n",
       "      <td>BW, Brown, Yellow, Cyan, Blue, Green, Red, Mag...</td>\n",
       "      <td>[0, 35, 70, 150, 200, 260, 345, 360]</td>\n",
       "      <td>[ 0.      0.      0.      0.0183  0.      0.  ...</td>\n",
       "      <td>[0.0, 0.0, 0.0, 0.0183, 0.0, 0.0, 0.0, 0.0, 0....</td>\n",
       "    </tr>\n",
       "  </tbody>\n",
       "</table>\n",
       "<p>1 rows × 31 columns</p>\n",
       "</div>"
      ],
      "text/plain": [
       "   Method General Feature  index                          Method Variable  \\\n",
       "10     ShapleyVec      BW     16  ShapleyVec_True_0.5_8_Color_LR    Color   \n",
       "\n",
       "    Broad  Optimal lambda  Total Score  Score lambda 1  Score lambda 2  ...  \\\n",
       "10    0.0             3.0         0.81            0.19           0.357  ...   \n",
       "\n",
       "    Score lambda 14  Score lambda 15  Final Score  Space          Subfolder  \\\n",
       "10              1.0              1.0        0.619      w  ShapleyVec/color/   \n",
       "\n",
       "    Performance                                            Classes  \\\n",
       "10          NaN  BW, Brown, Yellow, Cyan, Blue, Green, Red, Mag...   \n",
       "\n",
       "                                    Bins  \\\n",
       "10  [0, 35, 70, 150, 200, 260, 345, 360]   \n",
       "\n",
       "                                    Separation Vector  \\\n",
       "10  [ 0.      0.      0.      0.0183  0.      0.  ...   \n",
       "\n",
       "                               Separation Vector (np)  \n",
       "10  [0.0, 0.0, 0.0, 0.0183, 0.0, 0.0, 0.0, 0.0, 0....  \n",
       "\n",
       "[1 rows x 31 columns]"
      ]
     },
     "execution_count": 149,
     "metadata": {},
     "output_type": "execute_result"
    }
   ],
   "source": [
    "df_scores_shapley = df_scores[df_scores['Method General'] == 'ShapleyVec']#[df_scores['Method'].str.contains('0.25')]\n",
    "print(df_scores_shapley.shape)\n",
    "df_scores_shapley.head(1)"
   ]
  },
  {
   "cell_type": "code",
   "execution_count": 152,
   "metadata": {},
   "outputs": [
    {
     "name": "stdout",
     "output_type": "stream",
     "text": [
      "Color BW requires 77 channels to represent it\n",
      "Color Blue requires 30 channels to represent it\n",
      "Color Brown requires 72 channels to represent it\n",
      "Color Cyan requires 75 channels to represent it\n",
      "Color Green requires 78 channels to represent it\n",
      "Color Magenta requires 25 channels to represent it\n",
      "Color Red requires 83 channels to represent it\n",
      "Color Yellow requires 28 channels to represent it\n",
      "Color BW and color Blue intersect by 9 channels, out of the max possible channels 30 [ 76 143 253 274 361 414 429 451 463]\n",
      "Color BW and color Brown intersect by 36 channels, out of the max possible channels 72 [  3  10  21  31  42  82  85 112 120 127 130 137 161 171 182 187 208 240\n",
      " 253 272 290 297 318 331 337 348 351 361 365 389 401 449 451 461 463 492]\n",
      "Color BW and color Cyan intersect by 36 channels, out of the max possible channels 75 [ 10  42  43  75  82  85 104 112 113 130 137 171 187 208 238 252 253 272\n",
      " 277 297 318 331 337 351 365 389 401 414 423 433 449 455 461 463 494 495]\n",
      "Color BW and color Green intersect by 30 channels, out of the max possible channels 77 [  3  10  42  43  82  85 102 113 120 127 137 161 167 171 180 187 264 274\n",
      " 290 318 337 365 389 403 404 429 449 461 466 483]\n",
      "Color BW and color Magenta intersect by 2 channels, out of the max possible channels 25 [ 21 253]\n",
      "Color BW and color Red intersect by 28 channels, out of the max possible channels 77 [  3  13  21  42  43  85  91 161 171 194 239 240 253 277 290 297 307 331\n",
      " 351 361 389 393 403 404 423 492 493 503]\n",
      "Color BW and color Yellow intersect by 9 channels, out of the max possible channels 28 [ 10  21 143 253 396 433 451 463 492]\n",
      "Color Blue and color BW intersect by 9 channels, out of the max possible channels 30 [ 76 143 253 274 361 414 429 451 463]\n",
      "Color Blue and color Brown intersect by 7 channels, out of the max possible channels 30 [253 296 311 333 361 451 463]\n",
      "Color Blue and color Cyan intersect by 6 channels, out of the max possible channels 30 [253 333 368 414 442 463]\n",
      "Color Blue and color Green intersect by 3 channels, out of the max possible channels 30 [274 311 429]\n",
      "Color Blue and color Magenta intersect by 5 channels, out of the max possible channels 25 [253 375 435 442 443]\n",
      "Color Blue and color Red intersect by 8 channels, out of the max possible channels 30 [253 296 311 333 361 368 442 443]\n",
      "Color Blue and color Yellow intersect by 8 channels, out of the max possible channels 28 [105 143 253 292 338 375 451 463]\n",
      "Color Brown and color BW intersect by 36 channels, out of the max possible channels 72 [  3  10  21  31  42  82  85 112 120 127 130 137 161 171 182 187 208 240\n",
      " 253 272 290 297 318 331 337 348 351 361 365 389 401 449 451 461 463 492]\n",
      "Color Brown and color Blue intersect by 7 channels, out of the max possible channels 30 [253 296 311 333 361 451 463]\n",
      "Color Brown and color Cyan intersect by 37 channels, out of the max possible channels 72 [ 10  17  28  42  82  85  86  96 112 114 130 137 171 187 199 208 253 272\n",
      " 297 305 313 318 331 333 337 342 349 351 364 365 389 401 411 419 449 461\n",
      " 463]\n",
      "Color Brown and color Green intersect by 31 channels, out of the max possible channels 72 [  3  10  17  28  42  56  82  85  86  96 114 120 127 137 156 161 171 187\n",
      " 199 206 290 291 311 318 337 364 365 389 418 449 461]\n",
      "Color Brown and color Magenta intersect by 5 channels, out of the max possible channels 25 [ 21  65  96 253 418]\n",
      "Color Brown and color Red intersect by 31 channels, out of the max possible channels 72 [  3  21  28  42  56  85  86 114 132 156 157 161 171 190 199 201 211 240\n",
      " 253 290 296 297 311 313 331 333 351 361 389 411 492]\n",
      "Color Brown and color Yellow intersect by 7 channels, out of the max possible channels 28 [ 10  21 199 253 451 463 492]\n",
      "Color Cyan and color BW intersect by 36 channels, out of the max possible channels 75 [ 10  42  43  75  82  85 104 112 113 130 137 171 187 208 238 252 253 272\n",
      " 277 297 318 331 337 351 365 389 401 414 423 433 449 455 461 463 494 495]\n",
      "Color Cyan and color Blue intersect by 6 channels, out of the max possible channels 30 [253 333 368 414 442 463]\n",
      "Color Cyan and color Brown intersect by 37 channels, out of the max possible channels 72 [ 10  17  28  42  82  85  86  96 112 114 130 137 171 187 199 208 253 272\n",
      " 297 305 313 318 331 333 337 342 349 351 364 365 389 401 411 419 449 461\n",
      " 463]\n",
      "Color Cyan and color Green intersect by 31 channels, out of the max possible channels 75 [ 10  17  28  42  43  53  78  79  82  85  86  96 101 113 114 137 158 163\n",
      " 171 187 199 316 318 337 364 365 389 415 449 461 464]\n",
      "Color Cyan and color Magenta intersect by 4 channels, out of the max possible channels 25 [ 34  96 253 442]\n",
      "Color Cyan and color Red intersect by 32 channels, out of the max possible channels 75 [ 28  34  42  43  53  78  79  85  86 101 114 163 171 184 199 253 276 277\n",
      " 297 313 331 333 351 368 389 411 415 423 442 445 464 467]\n",
      "Color Cyan and color Yellow intersect by 5 channels, out of the max possible channels 28 [ 10 199 253 433 463]\n",
      "Color Green and color BW intersect by 30 channels, out of the max possible channels 77 [  3  10  42  43  82  85 102 113 120 127 137 161 167 171 180 187 264 274\n",
      " 290 318 337 365 389 403 404 429 449 461 466 483]\n",
      "Color Green and color Blue intersect by 3 channels, out of the max possible channels 30 [274 311 429]\n",
      "Color Green and color Brown intersect by 31 channels, out of the max possible channels 72 [  3  10  17  28  42  56  82  85  86  96 114 120 127 137 156 161 171 187\n",
      " 199 206 290 291 311 318 337 364 365 389 418 449 461]\n",
      "Color Green and color Cyan intersect by 31 channels, out of the max possible channels 75 [ 10  17  28  42  43  53  78  79  82  85  86  96 101 113 114 137 158 163\n",
      " 171 187 199 316 318 337 364 365 389 415 449 461 464]\n",
      "Color Green and color Magenta intersect by 3 channels, out of the max possible channels 25 [ 96 255 418]\n",
      "Color Green and color Red intersect by 31 channels, out of the max possible channels 78 [  3  28  42  43  53  56  67  78  79  85  86 101 114 148 156 161 163 171\n",
      " 199 232 255 290 311 336 389 403 404 415 459 464 465]\n",
      "Color Green and color Yellow intersect by 4 channels, out of the max possible channels 28 [ 10  77 199 500]\n",
      "Color Magenta and color BW intersect by 2 channels, out of the max possible channels 25 [ 21 253]\n",
      "Color Magenta and color Blue intersect by 5 channels, out of the max possible channels 25 [253 375 435 442 443]\n",
      "Color Magenta and color Brown intersect by 5 channels, out of the max possible channels 25 [ 21  65  96 253 418]\n",
      "Color Magenta and color Cyan intersect by 4 channels, out of the max possible channels 25 [ 34  96 253 442]\n",
      "Color Magenta and color Green intersect by 3 channels, out of the max possible channels 25 [ 96 255 418]\n",
      "Color Magenta and color Red intersect by 7 channels, out of the max possible channels 25 [ 21  34 197 253 255 442 443]\n",
      "Color Magenta and color Yellow intersect by 9 channels, out of the max possible channels 25 [ 21  89  92 107 210 226 253 375 470]\n",
      "Color Red and color BW intersect by 28 channels, out of the max possible channels 77 [  3  13  21  42  43  85  91 161 171 194 239 240 253 277 290 297 307 331\n",
      " 351 361 389 393 403 404 423 492 493 503]\n",
      "Color Red and color Blue intersect by 8 channels, out of the max possible channels 30 [253 296 311 333 361 368 442 443]\n",
      "Color Red and color Brown intersect by 31 channels, out of the max possible channels 72 [  3  21  28  42  56  85  86 114 132 156 157 161 171 190 199 201 211 240\n",
      " 253 290 296 297 311 313 331 333 351 361 389 411 492]\n",
      "Color Red and color Cyan intersect by 32 channels, out of the max possible channels 75 [ 28  34  42  43  53  78  79  85  86 101 114 163 171 184 199 253 276 277\n",
      " 297 313 331 333 351 368 389 411 415 423 442 445 464 467]\n",
      "Color Red and color Green intersect by 31 channels, out of the max possible channels 78 [  3  28  42  43  53  56  67  78  79  85  86 101 114 148 156 161 163 171\n",
      " 199 232 255 290 311 336 389 403 404 415 459 464 465]\n",
      "Color Red and color Magenta intersect by 7 channels, out of the max possible channels 25 [ 21  34 197 253 255 442 443]\n",
      "Color Red and color Yellow intersect by 4 channels, out of the max possible channels 28 [ 21 199 253 492]\n",
      "Color Yellow and color BW intersect by 9 channels, out of the max possible channels 28 [ 10  21 143 253 396 433 451 463 492]\n",
      "Color Yellow and color Blue intersect by 8 channels, out of the max possible channels 28 [105 143 253 292 338 375 451 463]\n",
      "Color Yellow and color Brown intersect by 7 channels, out of the max possible channels 28 [ 10  21 199 253 451 463 492]\n",
      "Color Yellow and color Cyan intersect by 5 channels, out of the max possible channels 28 [ 10 199 253 433 463]\n",
      "Color Yellow and color Green intersect by 4 channels, out of the max possible channels 28 [ 10  77 199 500]\n",
      "Color Yellow and color Magenta intersect by 9 channels, out of the max possible channels 25 [ 21  89  92 107 210 226 253 375 470]\n",
      "Color Yellow and color Red intersect by 4 channels, out of the max possible channels 28 [ 21 199 253 492]\n"
     ]
    }
   ],
   "source": [
    "channels = {}\n",
    "for color, vecs in zip(df_scores_shapley['Feature'], df_scores_shapley['Separation Vector (np)']):\n",
    "    channels[color] = np.where(vecs != 0)\n",
    "    print('Color', color, 'requires', len(channels[color][0]), 'channels to represent it')\n",
    "\n",
    "colors = df_scores_shapley['Feature'].unique()\n",
    "for color1 in colors:\n",
    "    for color2 in colors:\n",
    "        if color1 != color2:\n",
    "            inters = np.intersect1d(channels[color1], channels[color2])\n",
    "            print('Color', color1, 'and color', color2, 'intersect by', len(inters), 'channels, out of the max possible channels', \n",
    "                  min(len(channels[color2][0]), len(channels[color1][0])), inters)"
   ]
  },
  {
   "cell_type": "code",
   "execution_count": 139,
   "metadata": {},
   "outputs": [
    {
     "name": "stdout",
     "output_type": "stream",
     "text": [
      "[[-0.0349673   0.06052028]\n",
      " [ 0.46435918  1.30657852]\n",
      " [ 1.07891242  0.05216077]]\n"
     ]
    },
    {
     "data": {
      "image/png": "[encoded data removed]",
      "text/plain": [
       "<Figure size 640x480 with 1 Axes>"
      ]
     },
     "metadata": {},
     "output_type": "display_data"
    }
   ],
   "source": [
    "import matplotlib.pyplot as plt\n",
    "import numpy as np\n",
    "from scipy.optimize import minimize\n",
    "\n",
    "\n",
    "# Example data: 8 sets of numbers\n",
    "sets = [set(list(chan[0])) for chan in list(channels.values())]\n",
    "names = [col.lower() if col != 'BW' else 'grey' for col in list(channels.keys())]\n",
    "\n",
    "\n",
    "# Calculate desired overlaps\n",
    "desired_overlaps = np.zeros((len(sets), len(sets)))\n",
    "for i, set1 in enumerate(sets):\n",
    "    for j, set2 in enumerate(sets):\n",
    "        if i != j:\n",
    "            overlap = len(set1.intersection(set2)) / len(set1.union(set2))\n",
    "            desired_overlaps[i, j] = overlap\n",
    "\n",
    "\n",
    "# Function to minimize: difference between actual and desired overlaps\n",
    "def overlap_error(positions):\n",
    "    positions = positions.reshape((len(sets), 2))\n",
    "    error = 0\n",
    "    for i in range(len(sets)):\n",
    "        for j in range(i + 1, len(sets)):\n",
    "            dx, dy = positions[i] - positions[j]\n",
    "            distance = np.sqrt(dx**2 + dy**2)\n",
    "            actual_overlap = max(0, 1 - distance)  # Simplified overlap calculation\n",
    "            error += (actual_overlap - desired_overlaps[i, j])**2\n",
    "    return error\n",
    "\n",
    "# Initial positions\n",
    "initial_positions = np.random.rand(len(sets), 2).flatten()\n",
    "\n",
    "# Minimize the error function\n",
    "optimized = minimize(overlap_error, initial_positions, method='BFGS')\n",
    "optimized_positions = optimized.x.reshape((len(sets), 2))\n",
    "\n",
    "print(optimized_positions)\n",
    "fig, ax = plt.subplots()\n",
    "for i, s in enumerate(sets):\n",
    "    ax.scatter(optimized_positions[i, 0], optimized_positions[i, 1], s=100 * len(s), alpha=0.5, color=names[i])\n",
    "    ax.text(optimized_positions[i, 0], optimized_positions[i, 1], f\"{names[i]}\", ha='center', va='center', color='black')\n",
    "\n",
    "plt.title(\"Bubble Plot of Number Sets with Overlap\")\n",
    "plt.show()\n"
   ]
  },
  {
   "cell_type": "code",
   "execution_count": 148,
   "metadata": {},
   "outputs": [],
   "source": [
    "colors = df_scores_shapley['Feature'].unique()\n",
    "for color1 in colors:\n",
    "    for color2 in colors:\n",
    "        if color1 != color2:\n",
    "            inters = np.intersect1d(channels[color1], channels[color2])\n",
    "            for color3 in colors:\n",
    "                if color3 != color2 and color3 != color1:\n",
    "                    inters = np.intersect1d(channels[color3], inters)\n",
    "                    if len(inters) > 0:\n",
    "                        print('Color', color1, ', color', color2, ', color', color3, 'and color', color4, 'intersect by', len(inters), 'node(s)', inters)"
   ]
  },
  {
   "cell_type": "markdown",
   "metadata": {},
   "source": [
    "Now we do the same for stylespace"
   ]
  },
  {
   "cell_type": "code",
   "execution_count": 141,
   "metadata": {},
   "outputs": [
    {
     "name": "stdout",
     "output_type": "stream",
     "text": [
      "(8, 31)\n"
     ]
    },
    {
     "data": {
      "text/html": [
       "<div>\n",
       "<style scoped>\n",
       "    .dataframe tbody tr th:only-of-type {\n",
       "        vertical-align: middle;\n",
       "    }\n",
       "\n",
       "    .dataframe tbody tr th {\n",
       "        vertical-align: top;\n",
       "    }\n",
       "\n",
       "    .dataframe thead th {\n",
       "        text-align: right;\n",
       "    }\n",
       "</style>\n",
       "<table border=\"1\" class=\"dataframe\">\n",
       "  <thead>\n",
       "    <tr style=\"text-align: right;\">\n",
       "      <th></th>\n",
       "      <th>Method General</th>\n",
       "      <th>Feature</th>\n",
       "      <th>index</th>\n",
       "      <th>Method</th>\n",
       "      <th>Variable</th>\n",
       "      <th>Broad</th>\n",
       "      <th>Optimal lambda</th>\n",
       "      <th>Total Score</th>\n",
       "      <th>Score lambda 1</th>\n",
       "      <th>Score lambda 2</th>\n",
       "      <th>...</th>\n",
       "      <th>Score lambda 14</th>\n",
       "      <th>Score lambda 15</th>\n",
       "      <th>Final Score</th>\n",
       "      <th>Space</th>\n",
       "      <th>Subfolder</th>\n",
       "      <th>Performance</th>\n",
       "      <th>Classes</th>\n",
       "      <th>Bins</th>\n",
       "      <th>Separation Vector</th>\n",
       "      <th>Separation Vector (np)</th>\n",
       "    </tr>\n",
       "  </thead>\n",
       "  <tbody>\n",
       "    <tr>\n",
       "      <th>18</th>\n",
       "      <td>StyleSpace</td>\n",
       "      <td>BW</td>\n",
       "      <td>80</td>\n",
       "      <td>StyleSpaceTrue_1_8_Color_False</td>\n",
       "      <td>Color</td>\n",
       "      <td>0.0</td>\n",
       "      <td>15.0</td>\n",
       "      <td>0.178</td>\n",
       "      <td>0.054</td>\n",
       "      <td>0.081</td>\n",
       "      <td>...</td>\n",
       "      <td>0.378</td>\n",
       "      <td>0.405</td>\n",
       "      <td>0.405</td>\n",
       "      <td>w</td>\n",
       "      <td>StyleSpace/color/</td>\n",
       "      <td>NaN</td>\n",
       "      <td>BW, Brown, Yellow, Cyan, Blue, Green, Red, Mag...</td>\n",
       "      <td>[0, 35, 70, 150, 200, 260, 345, 360]</td>\n",
       "      <td>[0. 0. 0. 0. 0. 0. 0. 0. 0. 0. 0. 0. 0. 0. 0. ...</td>\n",
       "      <td>[0.0, 0.0, 0.0, 0.0, 0.0, 0.0, 0.0, 0.0, 0.0, ...</td>\n",
       "    </tr>\n",
       "  </tbody>\n",
       "</table>\n",
       "<p>1 rows × 31 columns</p>\n",
       "</div>"
      ],
      "text/plain": [
       "   Method General Feature  index                          Method Variable  \\\n",
       "18     StyleSpace      BW     80  StyleSpaceTrue_1_8_Color_False    Color   \n",
       "\n",
       "    Broad  Optimal lambda  Total Score  Score lambda 1  Score lambda 2  ...  \\\n",
       "18    0.0            15.0        0.178           0.054           0.081  ...   \n",
       "\n",
       "    Score lambda 14  Score lambda 15  Final Score  Space          Subfolder  \\\n",
       "18            0.378            0.405        0.405      w  StyleSpace/color/   \n",
       "\n",
       "    Performance                                            Classes  \\\n",
       "18          NaN  BW, Brown, Yellow, Cyan, Blue, Green, Red, Mag...   \n",
       "\n",
       "                                    Bins  \\\n",
       "18  [0, 35, 70, 150, 200, 260, 345, 360]   \n",
       "\n",
       "                                    Separation Vector  \\\n",
       "18  [0. 0. 0. 0. 0. 0. 0. 0. 0. 0. 0. 0. 0. 0. 0. ...   \n",
       "\n",
       "                               Separation Vector (np)  \n",
       "18  [0.0, 0.0, 0.0, 0.0, 0.0, 0.0, 0.0, 0.0, 0.0, ...  \n",
       "\n",
       "[1 rows x 31 columns]"
      ]
     },
     "execution_count": 141,
     "metadata": {},
     "output_type": "execute_result"
    }
   ],
   "source": [
    "df_scores_stylespace = df_scores[df_scores['Method General'] == 'StyleSpace']\n",
    "print(df_scores_stylespace.shape)\n",
    "df_scores_stylespace.head(1)"
   ]
  },
  {
   "cell_type": "code",
   "execution_count": 146,
   "metadata": {},
   "outputs": [
    {
     "name": "stdout",
     "output_type": "stream",
     "text": [
      "Color BW requires 1 channels to represent it\n",
      "Color Blue requires 5 channels to represent it\n",
      "Color Brown requires 5 channels to represent it\n",
      "Color Cyan requires 20 channels to represent it\n",
      "Color Green requires 20 channels to represent it\n",
      "Color Magenta requires 10 channels to represent it\n",
      "Color Red requires 20 channels to represent it\n",
      "Color Yellow requires 20 channels to represent it\n",
      "Color BW and color Blue intersect by 0 [] channels, out of the max possible channels 1\n",
      "Color BW and color Brown intersect by 0 [] channels, out of the max possible channels 1\n",
      "Color BW and color Cyan intersect by 0 [] channels, out of the max possible channels 1\n",
      "Color BW and color Green intersect by 1 [119] channels, out of the max possible channels 1\n",
      "Color BW and color Magenta intersect by 1 [119] channels, out of the max possible channels 1\n",
      "Color BW and color Red intersect by 0 [] channels, out of the max possible channels 1\n",
      "Color BW and color Yellow intersect by 1 [119] channels, out of the max possible channels 1\n",
      "Color Blue and color BW intersect by 0 [] channels, out of the max possible channels 1\n",
      "Color Blue and color Brown intersect by 0 [] channels, out of the max possible channels 5\n",
      "Color Blue and color Cyan intersect by 5 [ 73 130 274 433 479] channels, out of the max possible channels 5\n",
      "Color Blue and color Green intersect by 4 [ 73 130 433 479] channels, out of the max possible channels 5\n",
      "Color Blue and color Magenta intersect by 1 [130] channels, out of the max possible channels 5\n",
      "Color Blue and color Red intersect by 0 [] channels, out of the max possible channels 5\n",
      "Color Blue and color Yellow intersect by 0 [] channels, out of the max possible channels 5\n",
      "Color Brown and color BW intersect by 0 [] channels, out of the max possible channels 1\n",
      "Color Brown and color Blue intersect by 0 [] channels, out of the max possible channels 5\n",
      "Color Brown and color Cyan intersect by 1 [362] channels, out of the max possible channels 5\n",
      "Color Brown and color Green intersect by 0 [] channels, out of the max possible channels 5\n",
      "Color Brown and color Magenta intersect by 0 [] channels, out of the max possible channels 5\n",
      "Color Brown and color Red intersect by 0 [] channels, out of the max possible channels 5\n",
      "Color Brown and color Yellow intersect by 1 [27] channels, out of the max possible channels 5\n",
      "Color Cyan and color BW intersect by 0 [] channels, out of the max possible channels 1\n",
      "Color Cyan and color Blue intersect by 5 [ 73 130 274 433 479] channels, out of the max possible channels 5\n",
      "Color Cyan and color Brown intersect by 1 [362] channels, out of the max possible channels 5\n",
      "Color Cyan and color Green intersect by 12 [ 73 112 130 188 238 273 311 365 433 449 479 483] channels, out of the max possible channels 20\n",
      "Color Cyan and color Magenta intersect by 2 [112 130] channels, out of the max possible channels 10\n",
      "Color Cyan and color Red intersect by 1 [112] channels, out of the max possible channels 20\n",
      "Color Cyan and color Yellow intersect by 0 [] channels, out of the max possible channels 20\n",
      "Color Green and color BW intersect by 1 [119] channels, out of the max possible channels 1\n",
      "Color Green and color Blue intersect by 4 [ 73 130 433 479] channels, out of the max possible channels 5\n",
      "Color Green and color Brown intersect by 0 [] channels, out of the max possible channels 5\n",
      "Color Green and color Cyan intersect by 12 [ 73 112 130 188 238 273 311 365 433 449 479 483] channels, out of the max possible channels 20\n",
      "Color Green and color Magenta intersect by 4 [112 119 130 251] channels, out of the max possible channels 10\n",
      "Color Green and color Red intersect by 2 [112 251] channels, out of the max possible channels 20\n",
      "Color Green and color Yellow intersect by 1 [119] channels, out of the max possible channels 20\n",
      "Color Magenta and color BW intersect by 1 [119] channels, out of the max possible channels 1\n",
      "Color Magenta and color Blue intersect by 1 [130] channels, out of the max possible channels 5\n",
      "Color Magenta and color Brown intersect by 0 [] channels, out of the max possible channels 5\n",
      "Color Magenta and color Cyan intersect by 2 [112 130] channels, out of the max possible channels 10\n",
      "Color Magenta and color Green intersect by 4 [112 119 130 251] channels, out of the max possible channels 10\n",
      "Color Magenta and color Red intersect by 4 [112 226 251 492] channels, out of the max possible channels 10\n",
      "Color Magenta and color Yellow intersect by 1 [119] channels, out of the max possible channels 10\n",
      "Color Red and color BW intersect by 0 [] channels, out of the max possible channels 1\n",
      "Color Red and color Blue intersect by 0 [] channels, out of the max possible channels 5\n",
      "Color Red and color Brown intersect by 0 [] channels, out of the max possible channels 5\n",
      "Color Red and color Cyan intersect by 1 [112] channels, out of the max possible channels 20\n",
      "Color Red and color Green intersect by 2 [112 251] channels, out of the max possible channels 20\n",
      "Color Red and color Magenta intersect by 4 [112 226 251 492] channels, out of the max possible channels 10\n",
      "Color Red and color Yellow intersect by 0 [] channels, out of the max possible channels 20\n",
      "Color Yellow and color BW intersect by 1 [119] channels, out of the max possible channels 1\n",
      "Color Yellow and color Blue intersect by 0 [] channels, out of the max possible channels 5\n",
      "Color Yellow and color Brown intersect by 1 [27] channels, out of the max possible channels 5\n",
      "Color Yellow and color Cyan intersect by 0 [] channels, out of the max possible channels 20\n",
      "Color Yellow and color Green intersect by 1 [119] channels, out of the max possible channels 20\n",
      "Color Yellow and color Magenta intersect by 1 [119] channels, out of the max possible channels 10\n",
      "Color Yellow and color Red intersect by 0 [] channels, out of the max possible channels 20\n"
     ]
    }
   ],
   "source": [
    "channels = {}\n",
    "sign_channels = {}\n",
    "for color, vecs in zip(df_scores_stylespace['Feature'], df_scores_stylespace['Separation Vector (np)']):\n",
    "    channels[color] = np.where(vecs != 0)\n",
    "    # print('values color', color, vecs[np.where(vecs!= 0)], np.where(vecs!= 0))\n",
    "    print('Color', color, 'requires', len(channels[color][0]), 'channels to represent it')\n",
    "\n",
    "colors = df_scores_stylespace['Feature'].unique()\n",
    "for color1 in colors:\n",
    "    for color2 in colors:\n",
    "        if color1 != color2:\n",
    "            inters = np.intersect1d(channels[color1], channels[color2])\n",
    "            print('Color', color1, 'and color', color2, 'intersect by', len(inters), inters, 'channels, out of the max possible channels', \n",
    "                  min(len(channels[color2][0]), len(channels[color1][0])))"
   ]
  },
  {
   "cell_type": "code",
   "execution_count": 143,
   "metadata": {},
   "outputs": [
    {
     "name": "stdout",
     "output_type": "stream",
     "text": [
      "Color Green , color Magenta , color BW intersect by 1 node(s) [119]\n",
      "Color Green , color Yellow , color BW intersect by 1 node(s) [119]\n",
      "Color Magenta , color Green , color BW intersect by 1 node(s) [119]\n",
      "Color Magenta , color Yellow , color BW intersect by 1 node(s) [119]\n",
      "Color Yellow , color Green , color BW intersect by 1 node(s) [119]\n",
      "Color Yellow , color Magenta , color BW intersect by 1 node(s) [119]\n"
     ]
    }
   ],
   "source": [
    "colors = df_scores_stylespace['Feature'].unique()\n",
    "for color1 in colors:\n",
    "    for color2 in colors:\n",
    "        if color1 != color2:\n",
    "            inters = np.intersect1d(channels[color1], channels[color2])\n",
    "            for color3 in colors:\n",
    "                if color3 != color2 and color3 != color1:\n",
    "                    inters = np.intersect1d(channels[color3], inters)\n",
    "                    #for color4 in colors:\n",
    "                    #    if color4 != color2 and color4 != color1 and color4 != color3:\n",
    "                    #        inters = np.intersect1d(channels[color4], inters)\n",
    "                    if len(inters) > 0:\n",
    "                        print('Color', color1, ', color', color2, ', color', color3, 'intersect by', len(inters), 'node(s)', inters)"
   ]
  },
  {
   "cell_type": "code",
   "execution_count": null,
   "metadata": {},
   "outputs": [],
   "source": []
  }
 ],
 "metadata": {
  "kernelspec": {
   "display_name": "art-reco_x86",
   "language": "python",
   "name": "python3"
  },
  "language_info": {
   "codemirror_mode": {
    "name": "ipython",
    "version": 3
   },
   "file_extension": ".py",
   "mimetype": "text/x-python",
   "name": "python",
   "nbconvert_exporter": "python",
   "pygments_lexer": "ipython3",
   "version": "3.8.16"
  }
 },
 "nbformat": 4,
 "nbformat_minor": 2
}
