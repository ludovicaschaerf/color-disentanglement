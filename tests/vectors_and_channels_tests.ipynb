{
 "cells": [
  {
   "cell_type": "code",
   "execution_count": 1,
   "metadata": {},
   "outputs": [],
   "source": [
    "import numpy as np\n",
    "import pandas as pd\n",
    "import random\n",
    "from os.path import join\n",
    "import os\n",
    "import pickle\n",
    "from glob import glob\n",
    "import json\n",
    "import sys\n",
    "\n",
    "from sklearn.metrics.pairwise import cosine_similarity"
   ]
  },
  {
   "cell_type": "code",
   "execution_count": 51,
   "metadata": {},
   "outputs": [
    {
     "name": "stdout",
     "output_type": "stream",
     "text": [
      "    Feature Variable                             Method  Final Score\n",
      "158      V1       V1    InterfaceGAN_LR_0.01_8_V1_False        0.201\n",
      "166   Brown    Color    StyleSpaceFalse_5_8_Color_False        0.189\n",
      "173      BW    Color    StyleSpaceFalse_1_8_Color_False        0.162\n",
      "189   Green    Color    StyleSpaceFalse_5_8_Color_False        0.108\n",
      "192   Green    Color   StyleSpaceFalse_20_8_Color_False        0.081\n",
      "99    Green    Color     ShapleyVec_True_0.5_8_Color_LR        0.427\n",
      "105    Cyan    Color     StyleSpaceTrue_5_8_Color_False        0.387\n",
      "67       S1       S1        InterfaceGAN_LR_1_8_S1_True        0.615\n",
      "95     Cyan    Color     ShapleyVec_True_0.5_8_Color_LR        0.434\n",
      "143   Green    Color  InterfaceGAN_LR_0.01_8_Color_True        0.243 (220, 31)\n"
     ]
    },
    {
     "name": "stderr",
     "output_type": "stream",
     "text": [
      "/var/folders/s_/h4qqxs0s7mg2fw0j2hmf3jgh0000gn/T/ipykernel_78207/1485801114.py:6: FutureWarning:\n",
      "\n",
      "Behavior when concatenating bool-dtype and numeric-dtype arrays is deprecated; in a future version these will cast to object dtype (instead of coercing bools to numeric values). To retain the old behavior, explicitly cast bool-dtype arrays to numeric dtype.\n",
      "\n"
     ]
    }
   ],
   "source": [
    "DATA_DIR = '../data/'\n",
    "df_scores_vectors = glob(DATA_DIR + 'scores_modifications*')\n",
    "df_scores = pd.DataFrame()\n",
    "for df_score in df_scores_vectors:\n",
    "    df_score_l = pd.read_csv(df_score)\n",
    "    df_scores = pd.concat([df_scores, df_score_l], axis=0)\n",
    "\n",
    "df_scores = df_scores.sort_values('Final Score', ascending=False).reset_index()\n",
    "df_scores.loc[df_scores['Variable'] == 'V1', 'Feature'] = 'V1'\n",
    "df_scores.loc[df_scores['Variable'] == 'S1', 'Feature'] = 'S1'\n",
    "df_scores['Method General'] = df_scores['Method'].str.split('_').apply(lambda x: x[0].replace('False', '').replace('True', ''))\n",
    "\n",
    "separation_vectors = glob(DATA_DIR + '*_separation_vector*.csv')\n",
    "df_sep_vecs = pd.DataFrame()\n",
    "for df_sep_vec in separation_vectors:\n",
    "    if 'modifications' not in df_sep_vec:\n",
    "        df_sep_vec_l = pd.read_csv(df_sep_vec)\n",
    "        df_sep_vecs = pd.concat([df_sep_vecs, df_sep_vec_l], axis=0)\n",
    "df_sep_vecs.loc[df_sep_vecs['Variable'] == 'V1', 'Feature'] = 'V1'\n",
    "df_sep_vecs.loc[df_sep_vecs['Variable'] == 'S1', 'Feature'] = 'S1'\n",
    "\n",
    "df_scores = df_scores.merge(df_sep_vecs, left_on=['Feature','Variable','Method'], right_on=['Feature','Variable','Method'], how='left')\n",
    "df_scores['Separation Vector (np)'] = [np.array([float(x.strip('[] ')) for x in row['Separation Vector'].replace('\\n', ' ').split(' ') if x.strip('[] ') != '']) for i, row in df_scores.iterrows()]\n",
    "print(df_scores[['Feature', 'Variable', 'Method', 'Final Score']].sample(10), df_scores.shape)\n"
   ]
  },
  {
   "cell_type": "markdown",
   "metadata": {},
   "source": [
    "<img src=\"../data/Linear_RGB_color_wheel.png\" width=\"300\" height=\"300\" style=\"align-text:center\">"
   ]
  },
  {
   "cell_type": "markdown",
   "metadata": {},
   "source": [
    "Obtaining the general similarities between vectors to see which colors are represented to be most alike and which not"
   ]
  },
  {
   "cell_type": "code",
   "execution_count": 55,
   "metadata": {},
   "outputs": [
    {
     "name": "stdout",
     "output_type": "stream",
     "text": [
      "Assessing similarity among vectors computed with: InterfaceGAN\n",
      "Similarity between BW and Blue is -0.475\n",
      "Similarity between BW and Brown is 0.425\n",
      "Similarity between BW and Cyan is -0.417\n",
      "Similarity between BW and Green is -0.301\n",
      "Similarity between BW and Magenta is -0.304\n",
      "Similarity between BW and Red is -0.072\n",
      "Similarity between BW and S1 is -0.623\n",
      "Similarity between BW and V1 is -0.324\n",
      "Similarity between BW and Yellow is 0.334\n",
      "Similarity between Blue and BW is -0.475\n",
      "Similarity between Blue and Brown is -0.513\n",
      "Similarity between Blue and Cyan is 0.472\n",
      "Similarity between Blue and Green is 0.129\n",
      "Similarity between Blue and Magenta is 0.049\n",
      "Similarity between Blue and Red is -0.38\n",
      "Similarity between Blue and S1 is 0.052\n",
      "Similarity between Blue and V1 is -0.044\n",
      "Similarity between Blue and Yellow is -0.421\n",
      "Similarity between Brown and BW is 0.425\n",
      "Similarity between Brown and Blue is -0.513\n",
      "Similarity between Brown and Cyan is -0.57\n",
      "Similarity between Brown and Green is -0.401\n",
      "Similarity between Brown and Magenta is -0.21\n",
      "Similarity between Brown and Red is 0.19\n",
      "Similarity between Brown and S1 is 0.011\n",
      "Similarity between Brown and V1 is 0.25\n",
      "Similarity between Brown and Yellow is 0.378\n",
      "Similarity between Cyan and BW is -0.417\n",
      "Similarity between Cyan and Blue is 0.472\n",
      "Similarity between Cyan and Brown is -0.57\n",
      "Similarity between Cyan and Green is 0.364\n",
      "Similarity between Cyan and Magenta is -0.134\n",
      "Similarity between Cyan and Red is -0.553\n",
      "Similarity between Cyan and S1 is -0.023\n",
      "Similarity between Cyan and V1 is -0.089\n",
      "Similarity between Cyan and Yellow is -0.276\n",
      "Similarity between Green and BW is -0.301\n",
      "Similarity between Green and Blue is 0.129\n",
      "Similarity between Green and Brown is -0.401\n",
      "Similarity between Green and Cyan is 0.364\n",
      "Similarity between Green and Magenta is -0.318\n",
      "Similarity between Green and Red is -0.425\n",
      "Similarity between Green and S1 is 0.121\n",
      "Similarity between Green and V1 is 0.07\n",
      "Similarity between Green and Yellow is 0.078\n",
      "Similarity between Magenta and BW is -0.304\n",
      "Similarity between Magenta and Blue is 0.049\n",
      "Similarity between Magenta and Brown is -0.21\n",
      "Similarity between Magenta and Cyan is -0.134\n",
      "Similarity between Magenta and Green is -0.318\n",
      "Similarity between Magenta and Red is 0.283\n",
      "Similarity between Magenta and S1 is 0.135\n",
      "Similarity between Magenta and V1 is -0.161\n",
      "Similarity between Magenta and Yellow is -0.482\n",
      "Similarity between Red and BW is -0.072\n",
      "Similarity between Red and Blue is -0.38\n",
      "Similarity between Red and Brown is 0.19\n",
      "Similarity between Red and Cyan is -0.553\n",
      "Similarity between Red and Green is -0.425\n",
      "Similarity between Red and Magenta is 0.283\n",
      "Similarity between Red and S1 is 0.312\n",
      "Similarity between Red and V1 is 0.052\n",
      "Similarity between Red and Yellow is -0.176\n",
      "Similarity between S1 and BW is -0.623\n",
      "Similarity between S1 and Blue is 0.052\n",
      "Similarity between S1 and Brown is 0.011\n",
      "Similarity between S1 and Cyan is -0.023\n",
      "Similarity between S1 and Green is 0.121\n",
      "Similarity between S1 and Magenta is 0.135\n",
      "Similarity between S1 and Red is 0.312\n",
      "Similarity between S1 and V1 is 0.262\n",
      "Similarity between S1 and Yellow is -0.02\n",
      "Similarity between V1 and BW is -0.324\n",
      "Similarity between V1 and Blue is -0.044\n",
      "Similarity between V1 and Brown is 0.25\n",
      "Similarity between V1 and Cyan is -0.089\n",
      "Similarity between V1 and Green is 0.07\n",
      "Similarity between V1 and Magenta is -0.161\n",
      "Similarity between V1 and Red is 0.052\n",
      "Similarity between V1 and S1 is 0.262\n",
      "Similarity between V1 and Yellow is 0.418\n",
      "Similarity between Yellow and BW is 0.334\n",
      "Similarity between Yellow and Blue is -0.421\n",
      "Similarity between Yellow and Brown is 0.378\n",
      "Similarity between Yellow and Cyan is -0.276\n",
      "Similarity between Yellow and Green is 0.078\n",
      "Similarity between Yellow and Magenta is -0.482\n",
      "Similarity between Yellow and Red is -0.176\n",
      "Similarity between Yellow and S1 is -0.02\n",
      "Similarity between Yellow and V1 is 0.418\n",
      "Assessing similarity among vectors computed with: ShapleyVec\n",
      "Similarity between BW and Blue is -0.077\n",
      "Similarity between BW and Brown is -0.116\n",
      "Similarity between BW and Cyan is -0.274\n",
      "Similarity between BW and Green is -0.32\n",
      "Similarity between BW and Magenta is -0.025\n",
      "Similarity between BW and Red is -0.131\n",
      "Similarity between BW and Yellow is -0.068\n",
      "Similarity between Blue and BW is -0.077\n",
      "Similarity between Blue and Brown is -0.034\n",
      "Similarity between Blue and Cyan is 0.157\n",
      "Similarity between Blue and Green is 0.082\n",
      "Similarity between Blue and Magenta is -0.019\n",
      "Similarity between Blue and Red is -0.056\n",
      "Similarity between Blue and Yellow is -0.044\n",
      "Similarity between Brown and BW is -0.116\n",
      "Similarity between Brown and Blue is -0.034\n",
      "Similarity between Brown and Cyan is -0.123\n",
      "Similarity between Brown and Green is -0.163\n",
      "Similarity between Brown and Magenta is -0.001\n",
      "Similarity between Brown and Red is 0.105\n",
      "Similarity between Brown and Yellow is 0.088\n",
      "Similarity between Cyan and BW is -0.274\n",
      "Similarity between Cyan and Blue is 0.157\n",
      "Similarity between Cyan and Brown is -0.123\n",
      "Similarity between Cyan and Green is 0.293\n",
      "Similarity between Cyan and Magenta is -0.011\n",
      "Similarity between Cyan and Red is -0.107\n",
      "Similarity between Cyan and Yellow is -0.007\n",
      "Similarity between Green and BW is -0.32\n",
      "Similarity between Green and Blue is 0.082\n",
      "Similarity between Green and Brown is -0.163\n",
      "Similarity between Green and Cyan is 0.293\n",
      "Similarity between Green and Magenta is -0.016\n",
      "Similarity between Green and Red is -0.037\n",
      "Similarity between Green and Yellow is 0.064\n",
      "Similarity between Magenta and BW is -0.025\n",
      "Similarity between Magenta and Blue is -0.019\n",
      "Similarity between Magenta and Brown is -0.001\n",
      "Similarity between Magenta and Cyan is -0.011\n",
      "Similarity between Magenta and Green is -0.016\n",
      "Similarity between Magenta and Red is 0.213\n",
      "Similarity between Magenta and Yellow is -0.141\n",
      "Similarity between Red and BW is -0.131\n",
      "Similarity between Red and Blue is -0.056\n",
      "Similarity between Red and Brown is 0.105\n",
      "Similarity between Red and Cyan is -0.107\n",
      "Similarity between Red and Green is -0.037\n",
      "Similarity between Red and Magenta is 0.213\n",
      "Similarity between Red and Yellow is -0.081\n",
      "Similarity between Yellow and BW is -0.068\n",
      "Similarity between Yellow and Blue is -0.044\n",
      "Similarity between Yellow and Brown is 0.088\n",
      "Similarity between Yellow and Cyan is -0.007\n",
      "Similarity between Yellow and Green is 0.064\n",
      "Similarity between Yellow and Magenta is -0.141\n",
      "Similarity between Yellow and Red is -0.081\n",
      "Assessing similarity among vectors computed with: StyleSpace\n",
      "Similarity between BW and Blue is 0.0\n",
      "Similarity between BW and Brown is 0.0\n",
      "Similarity between BW and Cyan is 0.0\n",
      "Similarity between BW and Green is -0.224\n",
      "Similarity between BW and Magenta is 0.316\n",
      "Similarity between BW and Red is 0.0\n",
      "Similarity between BW and Yellow is -0.224\n",
      "Similarity between Blue and BW is 0.0\n",
      "Similarity between Blue and Brown is 0.0\n",
      "Similarity between Blue and Cyan is 0.5\n",
      "Similarity between Blue and Green is 0.4\n",
      "Similarity between Blue and Magenta is -0.141\n",
      "Similarity between Blue and Red is 0.0\n",
      "Similarity between Blue and Yellow is 0.0\n",
      "Similarity between Brown and BW is 0.0\n",
      "Similarity between Brown and Blue is 0.0\n",
      "Similarity between Brown and Cyan is 0.1\n",
      "Similarity between Brown and Green is 0.0\n",
      "Similarity between Brown and Magenta is 0.0\n",
      "Similarity between Brown and Red is 0.0\n",
      "Similarity between Brown and Yellow is 0.1\n",
      "Similarity between Cyan and BW is 0.0\n",
      "Similarity between Cyan and Blue is 0.5\n",
      "Similarity between Cyan and Brown is 0.1\n",
      "Similarity between Cyan and Green is 0.6\n",
      "Similarity between Cyan and Magenta is -0.141\n",
      "Similarity between Cyan and Red is 0.05\n",
      "Similarity between Cyan and Yellow is 0.0\n",
      "Similarity between Green and BW is -0.224\n",
      "Similarity between Green and Blue is 0.4\n",
      "Similarity between Green and Brown is 0.0\n",
      "Similarity between Green and Cyan is 0.6\n",
      "Similarity between Green and Magenta is -0.283\n",
      "Similarity between Green and Red is 0.1\n",
      "Similarity between Green and Yellow is 0.05\n",
      "Similarity between Magenta and BW is 0.316\n",
      "Similarity between Magenta and Blue is -0.141\n",
      "Similarity between Magenta and Brown is 0.0\n",
      "Similarity between Magenta and Cyan is -0.141\n",
      "Similarity between Magenta and Green is -0.283\n",
      "Similarity between Magenta and Red is -0.283\n",
      "Similarity between Magenta and Yellow is -0.071\n",
      "Similarity between Red and BW is 0.0\n",
      "Similarity between Red and Blue is 0.0\n",
      "Similarity between Red and Brown is 0.0\n",
      "Similarity between Red and Cyan is 0.05\n",
      "Similarity between Red and Green is 0.1\n",
      "Similarity between Red and Magenta is -0.283\n",
      "Similarity between Red and Yellow is 0.0\n",
      "Similarity between Yellow and BW is -0.224\n",
      "Similarity between Yellow and Blue is 0.0\n",
      "Similarity between Yellow and Brown is 0.1\n",
      "Similarity between Yellow and Cyan is 0.0\n",
      "Similarity between Yellow and Green is 0.05\n",
      "Similarity between Yellow and Magenta is -0.071\n",
      "Similarity between Yellow and Red is 0.0\n"
     ]
    }
   ],
   "source": [
    "df_scores = df_scores.groupby(['Method General', 'Feature']).first()\n",
    "df_scores = df_scores.reset_index()\n",
    "similarities = {}\n",
    "colors = df_scores['Feature'].unique()\n",
    "for method, group in df_scores.groupby('Method General'):\n",
    "    print('Assessing similarity among vectors computed with:', method)\n",
    "    for color1 in colors:\n",
    "        if color1 not in similarities.keys():\n",
    "            similarities[color1] = {}\n",
    "        for color2 in colors:\n",
    "            if color2 not in similarities[color1].keys():\n",
    "                similarities[color1][color2] = []\n",
    "            \n",
    "            if color1 != color2:\n",
    "                if len(list(group.loc[group['Feature']==color1, 'Separation Vector (np)'])\n",
    "                       ) > 0 and len(list(group.loc[group['Feature']==color2, 'Separation Vector (np)'])) > 0:\n",
    "                    similarity = cosine_similarity(list(group.loc[group['Feature']==color1, 'Separation Vector (np)'])[0].reshape(1, -1),\n",
    "                                                list(group.loc[group['Feature']==color2, 'Separation Vector (np)'])[0].reshape(1, -1)\n",
    "                                                )\n",
    "                    similarities[color1][color2].append(similarity[0][0])\n",
    "                    print('Similarity between', color1, 'and', color2, 'is', np.round(similarity[0][0],3))"
   ]
  },
  {
   "cell_type": "code",
   "execution_count": 17,
   "metadata": {},
   "outputs": [
    {
     "name": "stdout",
     "output_type": "stream",
     "text": [
      "{'BW': 0, 'Blue': 1, 'Brown': 2, 'Cyan': 3, 'Green': 4, 'Magenta': 5, 'Red': 6, 'S1': 7, 'V1': 8, 'Yellow': 9}\n"
     ]
    },
    {
     "data": {
      "application/vnd.plotly.v1+json": {
       "config": {
        "plotlyServerURL": "https://plot.ly"
       },
       "data": [
        {
         "link": {
          "source": [
           0,
           0,
           0,
           0,
           0,
           0,
           0,
           0,
           0,
           1,
           1,
           1,
           1,
           1,
           1,
           1,
           1,
           1,
           2,
           2,
           2,
           2,
           2,
           2,
           2,
           2,
           2,
           3,
           3,
           3,
           3,
           3,
           3,
           3,
           3,
           3,
           4,
           4,
           4,
           4,
           4,
           4,
           4,
           4,
           4,
           5,
           5,
           5,
           5,
           5,
           5,
           5,
           5,
           5,
           6,
           6,
           6,
           6,
           6,
           6,
           6,
           6,
           6,
           7,
           7,
           7,
           7,
           7,
           7,
           7,
           7,
           7,
           8,
           8,
           8,
           8,
           8,
           8,
           8,
           8,
           8,
           9,
           9,
           9,
           9,
           9,
           9,
           9,
           9,
           9
          ],
          "target": [
           1,
           2,
           3,
           4,
           5,
           6,
           7,
           8,
           9,
           0,
           2,
           3,
           4,
           5,
           6,
           7,
           8,
           9,
           0,
           1,
           3,
           4,
           5,
           6,
           7,
           8,
           9,
           0,
           1,
           2,
           4,
           5,
           6,
           7,
           8,
           9,
           0,
           1,
           2,
           3,
           5,
           6,
           7,
           8,
           9,
           0,
           1,
           2,
           3,
           4,
           6,
           7,
           8,
           9,
           0,
           1,
           2,
           3,
           4,
           5,
           7,
           8,
           9,
           0,
           1,
           2,
           3,
           4,
           5,
           6,
           8,
           9,
           0,
           1,
           2,
           3,
           4,
           5,
           6,
           7,
           9,
           0,
           1,
           2,
           3,
           4,
           5,
           6,
           7,
           8
          ],
          "value": [
           0.18,
           0.1,
           0.23,
           0.28,
           0,
           0.07,
           0.62,
           0.32,
           0.01,
           0.18,
           0.18,
           0.38,
           0.2,
           0.04,
           0.15,
           0.05,
           0.04,
           0.15,
           0.1,
           0.18,
           0.2,
           0.19,
           0.07,
           0.1,
           0.01,
           0.25,
           0.19,
           0.23,
           0.38,
           0.2,
           0.42,
           0.1,
           0.2,
           0.02,
           0.09,
           0.09,
           0.28,
           0.2,
           0.19,
           0.42,
           0.21,
           0.12,
           0.12,
           0.07,
           0.06,
           0,
           0.04,
           0.07,
           0.1,
           0.21,
           0.07,
           0.14,
           0.16,
           0.23,
           0.07,
           0.15,
           0.1,
           0.2,
           0.12,
           0.07,
           0.31,
           0.05,
           0.09,
           0.62,
           0.05,
           0.01,
           0.02,
           0.12,
           0.14,
           0.31,
           0.26,
           0.02,
           0.32,
           0.04,
           0.25,
           0.09,
           0.07,
           0.16,
           0.05,
           0.26,
           0.42,
           0.01,
           0.15,
           0.19,
           0.09,
           0.06,
           0.23,
           0.09,
           0.02,
           0.42
          ]
         },
         "node": {
          "label": [
           "BW",
           "Blue",
           "Brown",
           "Cyan",
           "Green",
           "Magenta",
           "Red",
           "S1",
           "V1",
           "Yellow"
          ],
          "line": {
           "color": "black",
           "width": 0.5
          },
          "pad": 15,
          "thickness": 20
         },
         "type": "sankey"
        }
       ],
       "layout": {
        "font": {
         "size": 10
        },
        "template": {
         "data": {
          "bar": [
           {
            "error_x": {
             "color": "#2a3f5f"
            },
            "error_y": {
             "color": "#2a3f5f"
            },
            "marker": {
             "line": {
              "color": "#E5ECF6",
              "width": 0.5
             },
             "pattern": {
              "fillmode": "overlay",
              "size": 10,
              "solidity": 0.2
             }
            },
            "type": "bar"
           }
          ],
          "barpolar": [
           {
            "marker": {
             "line": {
              "color": "#E5ECF6",
              "width": 0.5
             },
             "pattern": {
              "fillmode": "overlay",
              "size": 10,
              "solidity": 0.2
             }
            },
            "type": "barpolar"
           }
          ],
          "carpet": [
           {
            "aaxis": {
             "endlinecolor": "#2a3f5f",
             "gridcolor": "white",
             "linecolor": "white",
             "minorgridcolor": "white",
             "startlinecolor": "#2a3f5f"
            },
            "baxis": {
             "endlinecolor": "#2a3f5f",
             "gridcolor": "white",
             "linecolor": "white",
             "minorgridcolor": "white",
             "startlinecolor": "#2a3f5f"
            },
            "type": "carpet"
           }
          ],
          "choropleth": [
           {
            "colorbar": {
             "outlinewidth": 0,
             "ticks": ""
            },
            "type": "choropleth"
           }
          ],
          "contour": [
           {
            "colorbar": {
             "outlinewidth": 0,
             "ticks": ""
            },
            "colorscale": [
             [
              0,
              "#0d0887"
             ],
             [
              0.1111111111111111,
              "#46039f"
             ],
             [
              0.2222222222222222,
              "#7201a8"
             ],
             [
              0.3333333333333333,
              "#9c179e"
             ],
             [
              0.4444444444444444,
              "#bd3786"
             ],
             [
              0.5555555555555556,
              "#d8576b"
             ],
             [
              0.6666666666666666,
              "#ed7953"
             ],
             [
              0.7777777777777778,
              "#fb9f3a"
             ],
             [
              0.8888888888888888,
              "#fdca26"
             ],
             [
              1,
              "#f0f921"
             ]
            ],
            "type": "contour"
           }
          ],
          "contourcarpet": [
           {
            "colorbar": {
             "outlinewidth": 0,
             "ticks": ""
            },
            "type": "contourcarpet"
           }
          ],
          "heatmap": [
           {
            "colorbar": {
             "outlinewidth": 0,
             "ticks": ""
            },
            "colorscale": [
             [
              0,
              "#0d0887"
             ],
             [
              0.1111111111111111,
              "#46039f"
             ],
             [
              0.2222222222222222,
              "#7201a8"
             ],
             [
              0.3333333333333333,
              "#9c179e"
             ],
             [
              0.4444444444444444,
              "#bd3786"
             ],
             [
              0.5555555555555556,
              "#d8576b"
             ],
             [
              0.6666666666666666,
              "#ed7953"
             ],
             [
              0.7777777777777778,
              "#fb9f3a"
             ],
             [
              0.8888888888888888,
              "#fdca26"
             ],
             [
              1,
              "#f0f921"
             ]
            ],
            "type": "heatmap"
           }
          ],
          "heatmapgl": [
           {
            "colorbar": {
             "outlinewidth": 0,
             "ticks": ""
            },
            "colorscale": [
             [
              0,
              "#0d0887"
             ],
             [
              0.1111111111111111,
              "#46039f"
             ],
             [
              0.2222222222222222,
              "#7201a8"
             ],
             [
              0.3333333333333333,
              "#9c179e"
             ],
             [
              0.4444444444444444,
              "#bd3786"
             ],
             [
              0.5555555555555556,
              "#d8576b"
             ],
             [
              0.6666666666666666,
              "#ed7953"
             ],
             [
              0.7777777777777778,
              "#fb9f3a"
             ],
             [
              0.8888888888888888,
              "#fdca26"
             ],
             [
              1,
              "#f0f921"
             ]
            ],
            "type": "heatmapgl"
           }
          ],
          "histogram": [
           {
            "marker": {
             "pattern": {
              "fillmode": "overlay",
              "size": 10,
              "solidity": 0.2
             }
            },
            "type": "histogram"
           }
          ],
          "histogram2d": [
           {
            "colorbar": {
             "outlinewidth": 0,
             "ticks": ""
            },
            "colorscale": [
             [
              0,
              "#0d0887"
             ],
             [
              0.1111111111111111,
              "#46039f"
             ],
             [
              0.2222222222222222,
              "#7201a8"
             ],
             [
              0.3333333333333333,
              "#9c179e"
             ],
             [
              0.4444444444444444,
              "#bd3786"
             ],
             [
              0.5555555555555556,
              "#d8576b"
             ],
             [
              0.6666666666666666,
              "#ed7953"
             ],
             [
              0.7777777777777778,
              "#fb9f3a"
             ],
             [
              0.8888888888888888,
              "#fdca26"
             ],
             [
              1,
              "#f0f921"
             ]
            ],
            "type": "histogram2d"
           }
          ],
          "histogram2dcontour": [
           {
            "colorbar": {
             "outlinewidth": 0,
             "ticks": ""
            },
            "colorscale": [
             [
              0,
              "#0d0887"
             ],
             [
              0.1111111111111111,
              "#46039f"
             ],
             [
              0.2222222222222222,
              "#7201a8"
             ],
             [
              0.3333333333333333,
              "#9c179e"
             ],
             [
              0.4444444444444444,
              "#bd3786"
             ],
             [
              0.5555555555555556,
              "#d8576b"
             ],
             [
              0.6666666666666666,
              "#ed7953"
             ],
             [
              0.7777777777777778,
              "#fb9f3a"
             ],
             [
              0.8888888888888888,
              "#fdca26"
             ],
             [
              1,
              "#f0f921"
             ]
            ],
            "type": "histogram2dcontour"
           }
          ],
          "mesh3d": [
           {
            "colorbar": {
             "outlinewidth": 0,
             "ticks": ""
            },
            "type": "mesh3d"
           }
          ],
          "parcoords": [
           {
            "line": {
             "colorbar": {
              "outlinewidth": 0,
              "ticks": ""
             }
            },
            "type": "parcoords"
           }
          ],
          "pie": [
           {
            "automargin": true,
            "type": "pie"
           }
          ],
          "scatter": [
           {
            "fillpattern": {
             "fillmode": "overlay",
             "size": 10,
             "solidity": 0.2
            },
            "type": "scatter"
           }
          ],
          "scatter3d": [
           {
            "line": {
             "colorbar": {
              "outlinewidth": 0,
              "ticks": ""
             }
            },
            "marker": {
             "colorbar": {
              "outlinewidth": 0,
              "ticks": ""
             }
            },
            "type": "scatter3d"
           }
          ],
          "scattercarpet": [
           {
            "marker": {
             "colorbar": {
              "outlinewidth": 0,
              "ticks": ""
             }
            },
            "type": "scattercarpet"
           }
          ],
          "scattergeo": [
           {
            "marker": {
             "colorbar": {
              "outlinewidth": 0,
              "ticks": ""
             }
            },
            "type": "scattergeo"
           }
          ],
          "scattergl": [
           {
            "marker": {
             "colorbar": {
              "outlinewidth": 0,
              "ticks": ""
             }
            },
            "type": "scattergl"
           }
          ],
          "scattermapbox": [
           {
            "marker": {
             "colorbar": {
              "outlinewidth": 0,
              "ticks": ""
             }
            },
            "type": "scattermapbox"
           }
          ],
          "scatterpolar": [
           {
            "marker": {
             "colorbar": {
              "outlinewidth": 0,
              "ticks": ""
             }
            },
            "type": "scatterpolar"
           }
          ],
          "scatterpolargl": [
           {
            "marker": {
             "colorbar": {
              "outlinewidth": 0,
              "ticks": ""
             }
            },
            "type": "scatterpolargl"
           }
          ],
          "scatterternary": [
           {
            "marker": {
             "colorbar": {
              "outlinewidth": 0,
              "ticks": ""
             }
            },
            "type": "scatterternary"
           }
          ],
          "surface": [
           {
            "colorbar": {
             "outlinewidth": 0,
             "ticks": ""
            },
            "colorscale": [
             [
              0,
              "#0d0887"
             ],
             [
              0.1111111111111111,
              "#46039f"
             ],
             [
              0.2222222222222222,
              "#7201a8"
             ],
             [
              0.3333333333333333,
              "#9c179e"
             ],
             [
              0.4444444444444444,
              "#bd3786"
             ],
             [
              0.5555555555555556,
              "#d8576b"
             ],
             [
              0.6666666666666666,
              "#ed7953"
             ],
             [
              0.7777777777777778,
              "#fb9f3a"
             ],
             [
              0.8888888888888888,
              "#fdca26"
             ],
             [
              1,
              "#f0f921"
             ]
            ],
            "type": "surface"
           }
          ],
          "table": [
           {
            "cells": {
             "fill": {
              "color": "#EBF0F8"
             },
             "line": {
              "color": "white"
             }
            },
            "header": {
             "fill": {
              "color": "#C8D4E3"
             },
             "line": {
              "color": "white"
             }
            },
            "type": "table"
           }
          ]
         },
         "layout": {
          "annotationdefaults": {
           "arrowcolor": "#2a3f5f",
           "arrowhead": 0,
           "arrowwidth": 1
          },
          "autotypenumbers": "strict",
          "coloraxis": {
           "colorbar": {
            "outlinewidth": 0,
            "ticks": ""
           }
          },
          "colorscale": {
           "diverging": [
            [
             0,
             "#8e0152"
            ],
            [
             0.1,
             "#c51b7d"
            ],
            [
             0.2,
             "#de77ae"
            ],
            [
             0.3,
             "#f1b6da"
            ],
            [
             0.4,
             "#fde0ef"
            ],
            [
             0.5,
             "#f7f7f7"
            ],
            [
             0.6,
             "#e6f5d0"
            ],
            [
             0.7,
             "#b8e186"
            ],
            [
             0.8,
             "#7fbc41"
            ],
            [
             0.9,
             "#4d9221"
            ],
            [
             1,
             "#276419"
            ]
           ],
           "sequential": [
            [
             0,
             "#0d0887"
            ],
            [
             0.1111111111111111,
             "#46039f"
            ],
            [
             0.2222222222222222,
             "#7201a8"
            ],
            [
             0.3333333333333333,
             "#9c179e"
            ],
            [
             0.4444444444444444,
             "#bd3786"
            ],
            [
             0.5555555555555556,
             "#d8576b"
            ],
            [
             0.6666666666666666,
             "#ed7953"
            ],
            [
             0.7777777777777778,
             "#fb9f3a"
            ],
            [
             0.8888888888888888,
             "#fdca26"
            ],
            [
             1,
             "#f0f921"
            ]
           ],
           "sequentialminus": [
            [
             0,
             "#0d0887"
            ],
            [
             0.1111111111111111,
             "#46039f"
            ],
            [
             0.2222222222222222,
             "#7201a8"
            ],
            [
             0.3333333333333333,
             "#9c179e"
            ],
            [
             0.4444444444444444,
             "#bd3786"
            ],
            [
             0.5555555555555556,
             "#d8576b"
            ],
            [
             0.6666666666666666,
             "#ed7953"
            ],
            [
             0.7777777777777778,
             "#fb9f3a"
            ],
            [
             0.8888888888888888,
             "#fdca26"
            ],
            [
             1,
             "#f0f921"
            ]
           ]
          },
          "colorway": [
           "#636efa",
           "#EF553B",
           "#00cc96",
           "#ab63fa",
           "#FFA15A",
           "#19d3f3",
           "#FF6692",
           "#B6E880",
           "#FF97FF",
           "#FECB52"
          ],
          "font": {
           "color": "#2a3f5f"
          },
          "geo": {
           "bgcolor": "white",
           "lakecolor": "white",
           "landcolor": "#E5ECF6",
           "showlakes": true,
           "showland": true,
           "subunitcolor": "white"
          },
          "hoverlabel": {
           "align": "left"
          },
          "hovermode": "closest",
          "mapbox": {
           "style": "light"
          },
          "paper_bgcolor": "white",
          "plot_bgcolor": "#E5ECF6",
          "polar": {
           "angularaxis": {
            "gridcolor": "white",
            "linecolor": "white",
            "ticks": ""
           },
           "bgcolor": "#E5ECF6",
           "radialaxis": {
            "gridcolor": "white",
            "linecolor": "white",
            "ticks": ""
           }
          },
          "scene": {
           "xaxis": {
            "backgroundcolor": "#E5ECF6",
            "gridcolor": "white",
            "gridwidth": 2,
            "linecolor": "white",
            "showbackground": true,
            "ticks": "",
            "zerolinecolor": "white"
           },
           "yaxis": {
            "backgroundcolor": "#E5ECF6",
            "gridcolor": "white",
            "gridwidth": 2,
            "linecolor": "white",
            "showbackground": true,
            "ticks": "",
            "zerolinecolor": "white"
           },
           "zaxis": {
            "backgroundcolor": "#E5ECF6",
            "gridcolor": "white",
            "gridwidth": 2,
            "linecolor": "white",
            "showbackground": true,
            "ticks": "",
            "zerolinecolor": "white"
           }
          },
          "shapedefaults": {
           "line": {
            "color": "#2a3f5f"
           }
          },
          "ternary": {
           "aaxis": {
            "gridcolor": "white",
            "linecolor": "white",
            "ticks": ""
           },
           "baxis": {
            "gridcolor": "white",
            "linecolor": "white",
            "ticks": ""
           },
           "bgcolor": "#E5ECF6",
           "caxis": {
            "gridcolor": "white",
            "linecolor": "white",
            "ticks": ""
           }
          },
          "title": {
           "x": 0.05
          },
          "xaxis": {
           "automargin": true,
           "gridcolor": "white",
           "linecolor": "white",
           "ticks": "",
           "title": {
            "standoff": 15
           },
           "zerolinecolor": "white",
           "zerolinewidth": 2
          },
          "yaxis": {
           "automargin": true,
           "gridcolor": "white",
           "linecolor": "white",
           "ticks": "",
           "title": {
            "standoff": 15
           },
           "zerolinecolor": "white",
           "zerolinewidth": 2
          }
         }
        },
        "title": {
         "text": "Average Similarities Among Colors"
        }
       }
      }
     },
     "metadata": {},
     "output_type": "display_data"
    }
   ],
   "source": [
    "import plotly.graph_objects as go\n",
    "import numpy as np\n",
    "\n",
    "colors = df_scores['Feature'].unique()\n",
    "\n",
    "# Assuming 'similarities' is a dictionary with your calculated similarities\n",
    "# Calculate the average similarities\n",
    "for color1 in similarities:\n",
    "    for color2 in similarities[color1]:\n",
    "        similarities[color1][color2] = np.round(np.mean(similarities[color1][color2]),2)\n",
    "\n",
    "# Prepare data for Sankey diagram\n",
    "source = []\n",
    "target = []\n",
    "value = []\n",
    "# colors_out = [col+'_out' for col in colors]\n",
    "color_index = {color: i for i, color in enumerate(list(colors))}\n",
    "print(color_index)\n",
    "for color1 in similarities:\n",
    "    for color2 in similarities[color1]:\n",
    "        if color1 != color2:\n",
    "            source.append(color_index[color1])\n",
    "            target.append(color_index[color2])\n",
    "            value.append(abs(similarities[color1][color2]))  # Use absolute values\n",
    "\n",
    "# Create Sankey diagram\n",
    "fig = go.Figure(data=[go.Sankey(\n",
    "    node=dict(\n",
    "      pad=15,\n",
    "      thickness=20,\n",
    "      line=dict(color=\"black\", width=0.5),\n",
    "      label=list(colors)\n",
    "    ),\n",
    "    link=dict(\n",
    "      source=source,\n",
    "      target=target,\n",
    "      value=value\n",
    "    ))])\n",
    "\n",
    "fig.update_layout(title_text=\"Average Similarities Among Colors\", font_size=10)\n",
    "fig.show()\n"
   ]
  },
  {
   "cell_type": "code",
   "execution_count": 5,
   "metadata": {},
   "outputs": [
    {
     "name": "stdout",
     "output_type": "stream",
     "text": [
      "Average similarity across methods BW Blue is -0.184 with std 0.208\n",
      "Average similarity across methods BW Brown is 0.103 with std 0.232\n",
      "Average similarity across methods BW Cyan is -0.231 with std 0.173\n",
      "Average similarity across methods BW Green is -0.281 with std 0.042\n",
      "Average similarity across methods BW Magenta is -0.004 with std 0.254\n",
      "Average similarity across methods BW Red is -0.068 with std 0.054\n",
      "Average similarity across methods BW S1 is -0.623 with std 0.0\n",
      "Average similarity across methods BW V1 is -0.324 with std 0.0\n",
      "Average similarity across methods BW Yellow is 0.014 with std 0.235\n",
      "Average similarity across methods Blue BW is -0.184 with std 0.208\n",
      "Average similarity across methods Blue Brown is -0.182 with std 0.234\n",
      "Average similarity across methods Blue Cyan is 0.376 with std 0.155\n",
      "Average similarity across methods Blue Green is 0.204 with std 0.14\n",
      "Average similarity across methods Blue Magenta is -0.037 with std 0.079\n",
      "Average similarity across methods Blue Red is -0.145 with std 0.168\n",
      "Average similarity across methods Blue S1 is 0.052 with std 0.0\n",
      "Average similarity across methods Blue V1 is -0.044 with std 0.0\n",
      "Average similarity across methods Blue Yellow is -0.155 with std 0.189\n",
      "Average similarity across methods Brown BW is 0.103 with std 0.232\n",
      "Average similarity across methods Brown Blue is -0.182 with std 0.234\n",
      "Average similarity across methods Brown Cyan is -0.198 with std 0.278\n",
      "Average similarity across methods Brown Green is -0.188 with std 0.165\n",
      "Average similarity across methods Brown Magenta is -0.071 with std 0.099\n",
      "Average similarity across methods Brown Red is 0.098 with std 0.078\n",
      "Average similarity across methods Brown S1 is 0.011 with std 0.0\n",
      "Average similarity across methods Brown V1 is 0.25 with std 0.0\n",
      "Average similarity across methods Brown Yellow is 0.189 with std 0.134\n",
      "Average similarity across methods Cyan BW is -0.231 with std 0.173\n",
      "Average similarity across methods Cyan Blue is 0.376 with std 0.155\n",
      "Average similarity across methods Cyan Brown is -0.198 with std 0.278\n",
      "Average similarity across methods Cyan Green is 0.419 with std 0.131\n",
      "Average similarity across methods Cyan Magenta is -0.096 with std 0.06\n",
      "Average similarity across methods Cyan Red is -0.203 with std 0.255\n",
      "Average similarity across methods Cyan S1 is -0.023 with std 0.0\n",
      "Average similarity across methods Cyan V1 is -0.089 with std 0.0\n",
      "Average similarity across methods Cyan Yellow is -0.094 with std 0.129\n",
      "Average similarity across methods Green BW is -0.281 with std 0.042\n",
      "Average similarity across methods Green Blue is 0.204 with std 0.14\n",
      "Average similarity across methods Green Brown is -0.188 with std 0.165\n",
      "Average similarity across methods Green Cyan is 0.419 with std 0.131\n",
      "Average similarity across methods Green Magenta is -0.206 with std 0.135\n",
      "Average similarity across methods Green Red is -0.121 with std 0.222\n",
      "Average similarity across methods Green S1 is 0.121 with std 0.0\n",
      "Average similarity across methods Green V1 is 0.07 with std 0.0\n",
      "Average similarity across methods Green Yellow is 0.064 with std 0.012\n",
      "Average similarity across methods Magenta BW is -0.004 with std 0.254\n",
      "Average similarity across methods Magenta Blue is -0.037 with std 0.079\n",
      "Average similarity across methods Magenta Brown is -0.071 with std 0.099\n",
      "Average similarity across methods Magenta Cyan is -0.096 with std 0.06\n",
      "Average similarity across methods Magenta Green is -0.206 with std 0.135\n",
      "Average similarity across methods Magenta Red is 0.071 with std 0.252\n",
      "Average similarity across methods Magenta S1 is 0.135 with std 0.0\n",
      "Average similarity across methods Magenta V1 is -0.161 with std 0.0\n",
      "Average similarity across methods Magenta Yellow is -0.231 with std 0.18\n",
      "Average similarity across methods Red BW is -0.068 with std 0.054\n",
      "Average similarity across methods Red Blue is -0.145 with std 0.168\n",
      "Average similarity across methods Red Brown is 0.098 with std 0.078\n",
      "Average similarity across methods Red Cyan is -0.203 with std 0.255\n",
      "Average similarity across methods Red Green is -0.121 with std 0.222\n",
      "Average similarity across methods Red Magenta is 0.071 with std 0.252\n",
      "Average similarity across methods Red S1 is 0.312 with std 0.0\n",
      "Average similarity across methods Red V1 is 0.052 with std 0.0\n",
      "Average similarity across methods Red Yellow is -0.086 with std 0.072\n",
      "Average similarity across methods S1 BW is -0.623 with std 0.0\n",
      "Average similarity across methods S1 Blue is 0.052 with std 0.0\n",
      "Average similarity across methods S1 Brown is 0.011 with std 0.0\n",
      "Average similarity across methods S1 Cyan is -0.023 with std 0.0\n",
      "Average similarity across methods S1 Green is 0.121 with std 0.0\n",
      "Average similarity across methods S1 Magenta is 0.135 with std 0.0\n",
      "Average similarity across methods S1 Red is 0.312 with std 0.0\n",
      "Average similarity across methods S1 V1 is 0.262 with std 0.0\n",
      "Average similarity across methods S1 Yellow is -0.02 with std 0.0\n",
      "Average similarity across methods V1 BW is -0.324 with std 0.0\n",
      "Average similarity across methods V1 Blue is -0.044 with std 0.0\n",
      "Average similarity across methods V1 Brown is 0.25 with std 0.0\n",
      "Average similarity across methods V1 Cyan is -0.089 with std 0.0\n",
      "Average similarity across methods V1 Green is 0.07 with std 0.0\n",
      "Average similarity across methods V1 Magenta is -0.161 with std 0.0\n",
      "Average similarity across methods V1 Red is 0.052 with std 0.0\n",
      "Average similarity across methods V1 S1 is 0.262 with std 0.0\n",
      "Average similarity across methods V1 Yellow is 0.418 with std 0.0\n",
      "Average similarity across methods Yellow BW is 0.014 with std 0.235\n",
      "Average similarity across methods Yellow Blue is -0.155 with std 0.189\n",
      "Average similarity across methods Yellow Brown is 0.189 with std 0.134\n",
      "Average similarity across methods Yellow Cyan is -0.094 with std 0.129\n",
      "Average similarity across methods Yellow Green is 0.064 with std 0.012\n",
      "Average similarity across methods Yellow Magenta is -0.231 with std 0.18\n",
      "Average similarity across methods Yellow Red is -0.086 with std 0.072\n",
      "Average similarity across methods Yellow S1 is -0.02 with std 0.0\n",
      "Average similarity across methods Yellow V1 is 0.418 with std 0.0\n"
     ]
    }
   ],
   "source": [
    "for c1 in similarities.keys():\n",
    "    for c2 in similarities[c1].keys():\n",
    "        if len(similarities[c1][c2]) > 0:\n",
    "            print('Average similarity across methods', c1, c2, 'is', np.round(np.mean(similarities[c1][c2]), 3),\n",
    "                  'with std', np.round(np.std(similarities[c1][c2]), 3))"
   ]
  },
  {
   "cell_type": "markdown",
   "metadata": {},
   "source": [
    "<img src=\"../data/color_systems.png\" width=\"400\" height=\"200\">"
   ]
  },
  {
   "cell_type": "markdown",
   "metadata": {},
   "source": [
    "Now trying out different vector algebras to see which properties from the subtractive and additive schemes hold"
   ]
  },
  {
   "cell_type": "code",
   "execution_count": 22,
   "metadata": {},
   "outputs": [],
   "source": [
    "df_scores_interface = df_scores[df_scores['Method General'] == 'InterfaceGAN']"
   ]
  },
  {
   "cell_type": "code",
   "execution_count": 23,
   "metadata": {},
   "outputs": [
    {
     "name": "stdout",
     "output_type": "stream",
     "text": [
      "(10, 31)\n"
     ]
    },
    {
     "data": {
      "text/html": [
       "<div>\n",
       "<style scoped>\n",
       "    .dataframe tbody tr th:only-of-type {\n",
       "        vertical-align: middle;\n",
       "    }\n",
       "\n",
       "    .dataframe tbody tr th {\n",
       "        vertical-align: top;\n",
       "    }\n",
       "\n",
       "    .dataframe thead th {\n",
       "        text-align: right;\n",
       "    }\n",
       "</style>\n",
       "<table border=\"1\" class=\"dataframe\">\n",
       "  <thead>\n",
       "    <tr style=\"text-align: right;\">\n",
       "      <th></th>\n",
       "      <th>Method General</th>\n",
       "      <th>Feature</th>\n",
       "      <th>index</th>\n",
       "      <th>Method</th>\n",
       "      <th>Variable</th>\n",
       "      <th>Broad</th>\n",
       "      <th>Optimal lambda</th>\n",
       "      <th>Total Score</th>\n",
       "      <th>Score lambda 1</th>\n",
       "      <th>Score lambda 2</th>\n",
       "      <th>...</th>\n",
       "      <th>Score lambda 14</th>\n",
       "      <th>Score lambda 15</th>\n",
       "      <th>Final Score</th>\n",
       "      <th>Space</th>\n",
       "      <th>Subfolder</th>\n",
       "      <th>Performance</th>\n",
       "      <th>Classes</th>\n",
       "      <th>Bins</th>\n",
       "      <th>Separation Vector</th>\n",
       "      <th>Separation Vector (np)</th>\n",
       "    </tr>\n",
       "  </thead>\n",
       "  <tbody>\n",
       "    <tr>\n",
       "      <th>0</th>\n",
       "      <td>InterfaceGAN</td>\n",
       "      <td>BW</td>\n",
       "      <td>33</td>\n",
       "      <td>InterfaceGAN_LR_1_8_Color_True</td>\n",
       "      <td>Color</td>\n",
       "      <td>1.0</td>\n",
       "      <td>7.0</td>\n",
       "      <td>0.661</td>\n",
       "      <td>0.108</td>\n",
       "      <td>0.189</td>\n",
       "      <td>...</td>\n",
       "      <td>0.892</td>\n",
       "      <td>0.919</td>\n",
       "      <td>0.73</td>\n",
       "      <td>w</td>\n",
       "      <td>interfaceGAN/color/</td>\n",
       "      <td>0.65</td>\n",
       "      <td>BW, Brown, Yellow, Cyan, Blue, Green, Red, Mag...</td>\n",
       "      <td>[0, 35, 70, 150, 200, 260, 345, 360]</td>\n",
       "      <td>[-2.66842892e-02 -8.21213069e-03 -3.07416816e-...</td>\n",
       "      <td>[-0.0266842892, -0.00821213069, -0.00307416816...</td>\n",
       "    </tr>\n",
       "  </tbody>\n",
       "</table>\n",
       "<p>1 rows × 31 columns</p>\n",
       "</div>"
      ],
      "text/plain": [
       "  Method General Feature  index                          Method Variable  \\\n",
       "0   InterfaceGAN      BW     33  InterfaceGAN_LR_1_8_Color_True    Color   \n",
       "\n",
       "   Broad  Optimal lambda  Total Score  Score lambda 1  Score lambda 2  ...  \\\n",
       "0    1.0             7.0        0.661           0.108           0.189  ...   \n",
       "\n",
       "   Score lambda 14  Score lambda 15  Final Score  Space            Subfolder  \\\n",
       "0            0.892            0.919         0.73      w  interfaceGAN/color/   \n",
       "\n",
       "   Performance                                            Classes  \\\n",
       "0         0.65  BW, Brown, Yellow, Cyan, Blue, Green, Red, Mag...   \n",
       "\n",
       "                                   Bins  \\\n",
       "0  [0, 35, 70, 150, 200, 260, 345, 360]   \n",
       "\n",
       "                                   Separation Vector  \\\n",
       "0  [-2.66842892e-02 -8.21213069e-03 -3.07416816e-...   \n",
       "\n",
       "                              Separation Vector (np)  \n",
       "0  [-0.0266842892, -0.00821213069, -0.00307416816...  \n",
       "\n",
       "[1 rows x 31 columns]"
      ]
     },
     "execution_count": 23,
     "metadata": {},
     "output_type": "execute_result"
    }
   ],
   "source": [
    "print(df_scores_interface.shape)\n",
    "# df_scores_interface = df_scores_interface[~df_scores_interface['Feature'].isin(['S1', 'V1', 'BW', 'Brown'])].reset_index()\n",
    "\n",
    "df_scores_interface.head(1)"
   ]
  },
  {
   "cell_type": "code",
   "execution_count": 24,
   "metadata": {},
   "outputs": [],
   "source": [
    "color2vector = {k:v for k,v in zip(df_scores_interface['Feature'],df_scores_interface['Separation Vector (np)'])}"
   ]
  },
  {
   "cell_type": "code",
   "execution_count": 25,
   "metadata": {},
   "outputs": [
    {
     "name": "stdout",
     "output_type": "stream",
     "text": [
      "Most Similar Vector: Cyan to Blue+Green a 2 b 1 with similarity 0.21312492917183803\n",
      "Most Similar Vector: Cyan to Blue+Green a 3 b 1 with similarity 0.20664141485495902\n",
      "Most Similar Vector: Cyan to Blue+Green a 4 b 1 with similarity 0.20220352549641868\n",
      "Most Similar Vector: Cyan to Blue+Green a 4 b 2 with similarity 0.21312492917183803\n",
      "Most Similar Vector: Cyan to Green+Blue a 1 b 2 with similarity 0.21312492917183803\n",
      "Most Similar Vector: Cyan to Green+Blue a 1 b 3 with similarity 0.20664141485495902\n",
      "Most Similar Vector: Cyan to Green+Blue a 1 b 4 with similarity 0.20220352549641868\n",
      "Most Similar Vector: Cyan to Green+Blue a 2 b 4 with similarity 0.21312492917183803\n",
      "Most Similar Vector: Red to Blue-Cyan a 1 b 3 with similarity 0.20480038260271805\n",
      "Most Similar Vector: Red to Blue-Cyan a 1 b 4 with similarity 0.21721847900932634\n",
      "Most Similar Vector: Cyan to Blue-Red a 1 b 1 with similarity 0.2404898538754201\n",
      "Most Similar Vector: Cyan to Blue-Red a 1 b 2 with similarity 0.23995043847331815\n",
      "Most Similar Vector: Cyan to Blue-Red a 1 b 3 with similarity 0.23588391659665325\n",
      "Most Similar Vector: Cyan to Blue-Red a 1 b 4 with similarity 0.23253481405550014\n",
      "Most Similar Vector: Cyan to Blue-Red a 2 b 1 with similarity 0.22933976957373922\n",
      "Most Similar Vector: Cyan to Blue-Red a 2 b 2 with similarity 0.2404898538754201\n",
      "Most Similar Vector: Cyan to Blue-Red a 2 b 3 with similarity 0.24150979394226407\n",
      "Most Similar Vector: Cyan to Blue-Red a 2 b 4 with similarity 0.23995043847331815\n",
      "Most Similar Vector: Cyan to Blue-Red a 3 b 1 with similarity 0.21991230745307216\n",
      "Most Similar Vector: Cyan to Blue-Red a 3 b 2 with similarity 0.23516320136617114\n",
      "Most Similar Vector: Cyan to Blue-Red a 3 b 3 with similarity 0.24048985387542016\n",
      "Most Similar Vector: Cyan to Blue-Red a 3 b 4 with similarity 0.2416483279017066\n",
      "Most Similar Vector: Cyan to Blue-Red a 4 b 1 with similarity 0.21335364457533584\n",
      "Most Similar Vector: Cyan to Blue-Red a 4 b 2 with similarity 0.22933976957373922\n",
      "Most Similar Vector: Cyan to Blue-Red a 4 b 3 with similarity 0.23711977684780622\n",
      "Most Similar Vector: Cyan to Blue-Red a 4 b 4 with similarity 0.2404898538754201\n",
      "Most Similar Vector: Blue to Cyan-Red a 2 b 1 with similarity 0.20228880169570304\n",
      "Most Similar Vector: Blue to Cyan-Red a 3 b 1 with similarity 0.20233270435449155\n",
      "Most Similar Vector: Blue to Cyan-Red a 3 b 2 with similarity 0.20106252965990928\n",
      "Most Similar Vector: Blue to Cyan-Red a 4 b 1 with similarity 0.20159332814772984\n",
      "Most Similar Vector: Blue to Cyan-Red a 4 b 2 with similarity 0.20228880169570304\n",
      "Most Similar Vector: Blue to Cyan-Red a 4 b 3 with similarity 0.20021391179555909\n",
      "Most Similar Vector: Blue to Cyan-Yellow a 1 b 1 with similarity 0.23007314367393233\n",
      "Most Similar Vector: Blue to Cyan-Yellow a 1 b 2 with similarity 0.22429117006950544\n",
      "Most Similar Vector: Blue to Cyan-Yellow a 1 b 3 with similarity 0.21552225989082435\n",
      "Most Similar Vector: Blue to Cyan-Yellow a 1 b 4 with similarity 0.208575456678802\n",
      "Most Similar Vector: Blue to Cyan-Yellow a 2 b 1 with similarity 0.22284860812108137\n",
      "Most Similar Vector: Blue to Cyan-Yellow a 2 b 2 with similarity 0.23007314367393233\n",
      "Most Similar Vector: Blue to Cyan-Yellow a 2 b 3 with similarity 0.22847891863381242\n",
      "Most Similar Vector: Blue to Cyan-Yellow a 2 b 4 with similarity 0.22429117006950544\n",
      "Most Similar Vector: Blue to Cyan-Yellow a 3 b 1 with similarity 0.21638671340598203\n",
      "Most Similar Vector: Blue to Cyan-Yellow a 3 b 2 with similarity 0.22689992743348256\n",
      "Most Similar Vector: Blue to Cyan-Yellow a 3 b 3 with similarity 0.2300731436739324\n",
      "Most Similar Vector: Blue to Cyan-Yellow a 3 b 4 with similarity 0.22948952893685354\n",
      "Most Similar Vector: Blue to Cyan-Yellow a 4 b 1 with similarity 0.21205204481618695\n",
      "Most Similar Vector: Blue to Cyan-Yellow a 4 b 2 with similarity 0.22284860812108137\n",
      "Most Similar Vector: Blue to Cyan-Yellow a 4 b 3 with similarity 0.22821241875864728\n",
      "Most Similar Vector: Blue to Cyan-Yellow a 4 b 4 with similarity 0.23007314367393233\n",
      "Most Similar Vector: Red to Green-Cyan a 1 b 3 with similarity 0.20358543034484383\n",
      "Most Similar Vector: Red to Green-Cyan a 1 b 4 with similarity 0.21477421429396806\n",
      "Most Similar Vector: Cyan to Green-Red a 1 b 1 with similarity 0.2171687312136118\n",
      "Most Similar Vector: Cyan to Green-Red a 1 b 2 with similarity 0.2220558346337263\n",
      "Most Similar Vector: Cyan to Green-Red a 1 b 3 with similarity 0.2217566600732771\n",
      "Most Similar Vector: Cyan to Green-Red a 1 b 4 with similarity 0.22097202869831284\n",
      "Most Similar Vector: Cyan to Green-Red a 2 b 1 with similarity 0.2020327211148159\n",
      "Most Similar Vector: Cyan to Green-Red a 2 b 2 with similarity 0.2171687312136118\n",
      "Most Similar Vector: Cyan to Green-Red a 2 b 3 with similarity 0.22112048085856797\n",
      "Most Similar Vector: Cyan to Green-Red a 2 b 4 with similarity 0.2220558346337263\n",
      "Most Similar Vector: Cyan to Green-Red a 3 b 2 with similarity 0.20947812576662528\n",
      "Most Similar Vector: Cyan to Green-Red a 3 b 3 with similarity 0.2171687312136118\n",
      "Most Similar Vector: Cyan to Green-Red a 3 b 4 with similarity 0.22033089701854008\n",
      "Most Similar Vector: Cyan to Green-Red a 4 b 2 with similarity 0.2020327211148159\n",
      "Most Similar Vector: Cyan to Green-Red a 4 b 3 with similarity 0.21209208612545727\n",
      "Most Similar Vector: Cyan to Green-Red a 4 b 4 with similarity 0.2171687312136118\n",
      "Most Similar Vector: Red to Magenta-Blue a 1 b 1 with similarity 0.21098781393450783\n",
      "Most Similar Vector: Red to Magenta-Blue a 1 b 2 with similarity 0.20294773852523196\n",
      "Most Similar Vector: Red to Magenta-Blue a 2 b 2 with similarity 0.21098781393450783\n",
      "Most Similar Vector: Red to Magenta-Blue a 2 b 3 with similarity 0.20826021056775576\n",
      "Most Similar Vector: Red to Magenta-Blue a 2 b 4 with similarity 0.20294773852523196\n",
      "Most Similar Vector: Red to Magenta-Blue a 3 b 2 with similarity 0.2049335582927848\n",
      "Most Similar Vector: Red to Magenta-Blue a 3 b 3 with similarity 0.21098781393450783\n",
      "Most Similar Vector: Red to Magenta-Blue a 3 b 4 with similarity 0.20979293920281322\n",
      "Most Similar Vector: Red to Magenta-Blue a 4 b 3 with similarity 0.20764426554792523\n",
      "Most Similar Vector: Red to Magenta-Blue a 4 b 4 with similarity 0.21098781393450783\n",
      "Most Similar Vector: Red to Magenta-Cyan a 1 b 1 with similarity 0.2466931894800054\n",
      "Most Similar Vector: Red to Magenta-Cyan a 1 b 2 with similarity 0.257197290601747\n",
      "Most Similar Vector: Red to Magenta-Cyan a 1 b 3 with similarity 0.2560169683421658\n",
      "Most Similar Vector: Red to Magenta-Cyan a 1 b 4 with similarity 0.25394483554562\n",
      "Most Similar Vector: Red to Magenta-Cyan a 2 b 1 with similarity 0.21511675202160663\n",
      "Most Similar Vector: Red to Magenta-Cyan a 2 b 2 with similarity 0.2466931894800054\n",
      "Most Similar Vector: Red to Magenta-Cyan a 2 b 3 with similarity 0.2553742768482517\n",
      "Most Similar Vector: Red to Magenta-Cyan a 2 b 4 with similarity 0.257197290601747\n",
      "Most Similar Vector: Red to Magenta-Cyan a 3 b 2 with similarity 0.23013250300721266\n",
      "Most Similar Vector: Red to Magenta-Cyan a 3 b 3 with similarity 0.2466931894800054\n",
      "Most Similar Vector: Red to Magenta-Cyan a 3 b 4 with similarity 0.2536722982677089\n",
      "Most Similar Vector: Red to Magenta-Cyan a 4 b 2 with similarity 0.21511675202160663\n",
      "Most Similar Vector: Red to Magenta-Cyan a 4 b 3 with similarity 0.23565053000801983\n",
      "Most Similar Vector: Red to Magenta-Cyan a 4 b 4 with similarity 0.2466931894800054\n",
      "Most Similar Vector: Cyan to Magenta-Red a 1 b 2 with similarity 0.20221192295861432\n",
      "Most Similar Vector: Cyan to Magenta-Red a 1 b 3 with similarity 0.21021454644140541\n",
      "Most Similar Vector: Cyan to Magenta-Red a 1 b 4 with similarity 0.2128282517838528\n",
      "Most Similar Vector: Cyan to Magenta-Red a 2 b 4 with similarity 0.20221192295861432\n",
      "Most Similar Vector: Red to Yellow-Cyan a 1 b 3 with similarity 0.20167713331534232\n",
      "Most Similar Vector: Red to Yellow-Cyan a 1 b 4 with similarity 0.211634980227687\n"
     ]
    }
   ],
   "source": [
    "# Function to normalize a vector\n",
    "def normalize(v):\n",
    "    norm = np.linalg.norm(v)\n",
    "    if norm == 0: \n",
    "       return v\n",
    "    return v / norm\n",
    "\n",
    "# Sum and subtract pairwise and normalize\n",
    "resultant_vectors = [(normalize(a*v1 + b*v2), k1 + '+' + k2 + ' a ' + str(a) + ' b ' + str(b)\n",
    "                      ) for k1, v1 in color2vector.items() for k2, v2 in color2vector.items() for a in range(1,5) \n",
    "                     for b in range(1,5) if k1 != k2 and k1 not in ['S1', 'V1', 'BW', 'Brown'] and k2 not in ['S1', 'V1', 'BW', 'Brown']]\n",
    "\n",
    "\n",
    "resultant_vectors += [(normalize(a*v1 - b*v2), k1 + '-' + k2 + ' a ' + str(a) + ' b ' + str(b)\n",
    "                      ) for k1, v1 in color2vector.items() for k2, v2 in color2vector.items() for a in range(1,5) \n",
    "                     for b in range(1,5) if k1 != k2 and k1 not in ['S1', 'V1', 'BW', 'Brown'] and k2 not in ['S1', 'V1', 'BW', 'Brown']]\n",
    "\n",
    "# Find the most similar vector\n",
    "for rv in resultant_vectors:\n",
    "    most_similar = None\n",
    "    highest_similarity = -1\n",
    "    for ov in color2vector.items():\n",
    "        if ov[0] not in ['S1', 'V1', 'BW', 'Brown']:\n",
    "            similarity = np.dot(rv[0], ov[1])\n",
    "            if np.abs(similarity) > highest_similarity:\n",
    "                if ov[0] not in rv[1]:\n",
    "                    most_similar = ov[0]\n",
    "                    highest_similarity = similarity\n",
    "    if highest_similarity > 0.2:\n",
    "        print(\"Most Similar Vector:\", most_similar, 'to', rv[1], 'with similarity', highest_similarity)\n"
   ]
  },
  {
   "cell_type": "code",
   "execution_count": 26,
   "metadata": {},
   "outputs": [
    {
     "name": "stdout",
     "output_type": "stream",
     "text": [
      "Vector: Cyan is similar to Blue+Green with similarity 0.21869010924603732\n",
      "Vector: Magenta is similar to Blue+Green with similarity -0.048473747849907975\n",
      "Vector: Red is similar to Blue+Green with similarity -0.22979357033822043\n",
      "Vector: Yellow is similar to Blue+Green with similarity -0.07932597459401154\n",
      "Vector: Cyan is similar to Blue+Red with similarity -0.038478310647898625\n",
      "Vector: Green is similar to Blue+Red with similarity -0.08801430672235136\n",
      "Vector: Magenta is similar to Blue+Red with similarity 0.10140169228445736\n",
      "Vector: Yellow is similar to Blue+Red with similarity -0.15538380610124455\n",
      "Vector: Cyan is similar to Green+Blue with similarity 0.21869010924603732\n",
      "Vector: Magenta is similar to Green+Blue with similarity -0.048473747849907975\n",
      "Vector: Red is similar to Green+Blue with similarity -0.22979357033822043\n",
      "Vector: Yellow is similar to Green+Blue with similarity -0.07932597459401154\n",
      "Vector: Blue is similar to Green+Red with similarity -0.12366297522396463\n",
      "Vector: Cyan is similar to Green+Red with similarity -0.11833608727247213\n",
      "Vector: Magenta is similar to Green+Red with similarity 0.018690194763720934\n",
      "Vector: Yellow is similar to Green+Red with similarity -0.03692993099005837\n",
      "Vector: Cyan is similar to Red+Blue with similarity -0.038478310647898625\n",
      "Vector: Green is similar to Red+Blue with similarity -0.08801430672235136\n",
      "Vector: Magenta is similar to Red+Blue with similarity 0.10140169228445736\n",
      "Vector: Yellow is similar to Red+Blue with similarity -0.15538380610124455\n",
      "Vector: Blue is similar to Red+Green with similarity -0.12366297522396463\n",
      "Vector: Cyan is similar to Red+Green with similarity -0.11833608727247213\n",
      "Vector: Magenta is similar to Red+Green with similarity 0.018690194763720934\n",
      "Vector: Yellow is similar to Red+Green with similarity -0.03692993099005837\n"
     ]
    }
   ],
   "source": [
    "additive_colors = [(normalize(v1 + v2), k1 + '+' + k2\n",
    "                      ) for k1, v1 in color2vector.items() for k2, v2 in color2vector.items() \n",
    "                   if k1 != k2 and k1 in ['Red', 'Green', 'Blue'] and k2 in ['Red', 'Green', 'Blue']]\n",
    "\n",
    "\n",
    "subtractive_colors = [(normalize(v1 - v2), k1 + '-' + k2 \n",
    "                      ) for k1, v1 in color2vector.items() for k2, v2 in color2vector.items() \n",
    "                      if k1 != k2 and k1 in ['Cyan', 'Magenta', 'Yellow'] and k2 in ['Cyan', 'Magenta', 'Yellow']]\n",
    "\n",
    "# Find the most similar vector\n",
    "for rv in additive_colors:\n",
    "    for ov in color2vector.items():\n",
    "        if ov[0] not in ['S1', 'V1', 'BW', 'Brown']:\n",
    "            similarity = np.dot(rv[0], ov[1])\n",
    "            if ov[0] not in rv[1]:\n",
    "                print(\"Vector:\", ov[0], 'is similar to', rv[1], 'with similarity', similarity)\n"
   ]
  },
  {
   "cell_type": "code",
   "execution_count": 28,
   "metadata": {},
   "outputs": [
    {
     "data": {
      "application/vnd.plotly.v1+json": {
       "config": {
        "plotlyServerURL": "https://plot.ly"
       },
       "data": [
        {
         "link": {
          "source": [
           0,
           0,
           0,
           0,
           5,
           5,
           5,
           5,
           7,
           7,
           7,
           7,
           8,
           8,
           8,
           8,
           10,
           10,
           10,
           10,
           11,
           11,
           11,
           11,
           12,
           12,
           12,
           12,
           13,
           13,
           13,
           13,
           14,
           14,
           14,
           14,
           15,
           15,
           15,
           15,
           16,
           16,
           16,
           16,
           17,
           17,
           17,
           17
          ],
          "target": [
           1,
           2,
           3,
           4,
           1,
           6,
           2,
           4,
           1,
           2,
           3,
           4,
           9,
           1,
           2,
           4,
           1,
           6,
           2,
           4,
           9,
           1,
           2,
           4,
           9,
           6,
           3,
           4,
           9,
           6,
           2,
           3,
           9,
           6,
           3,
           4,
           9,
           1,
           6,
           3,
           9,
           6,
           2,
           3,
           9,
           1,
           6,
           3
          ],
          "value": [
           0.21869010924603732,
           -0.048473747849907975,
           -0.22979357033822043,
           -0.07932597459401154,
           -0.038478310647898625,
           -0.08801430672235136,
           0.10140169228445736,
           -0.15538380610124455,
           0.21869010924603732,
           -0.048473747849907975,
           -0.22979357033822043,
           -0.07932597459401154,
           -0.12366297522396463,
           -0.11833608727247213,
           0.018690194763720934,
           -0.03692993099005837,
           -0.038478310647898625,
           -0.08801430672235136,
           0.10140169228445736,
           -0.15538380610124455,
           -0.12366297522396463,
           -0.11833608727247213,
           0.018690194763720934,
           -0.03692993099005837,
           0.12587683731204344,
           0.14263542796163564,
           -0.2466931894800054,
           0.028695031451628116,
           0.23007314367393233,
           0.06804331696217854,
           0.054292668391245386,
           -0.1295734258700925,
           -0.12587683731204344,
           -0.14263542796163564,
           0.2466931894800054,
           -0.028695031451628116,
           0.10633974947524305,
           0.026113610571025583,
           -0.07501957921523003,
           0.11768281070870197,
           -0.23007314367393233,
           -0.06804331696217854,
           -0.054292668391245386,
           0.1295734258700925,
           -0.10633974947524305,
           -0.026113610571025583,
           0.07501957921523003,
           -0.11768281070870197
          ]
         },
         "node": {
          "label": [
           "Blue+Green",
           "Cyan",
           "Magenta",
           "Red",
           "Yellow",
           "Blue+Red",
           "Green",
           "Green+Blue",
           "Green+Red",
           "Blue",
           "Red+Blue",
           "Red+Green",
           "Cyan-Magenta",
           "Cyan-Yellow",
           "Magenta-Cyan",
           "Magenta-Yellow",
           "Yellow-Cyan",
           "Yellow-Magenta"
          ],
          "line": {
           "color": "black",
           "width": 0.5
          },
          "pad": 15,
          "thickness": 20
         },
         "type": "sankey"
        }
       ],
       "layout": {
        "font": {
         "size": 10
        },
        "template": {
         "data": {
          "bar": [
           {
            "error_x": {
             "color": "#2a3f5f"
            },
            "error_y": {
             "color": "#2a3f5f"
            },
            "marker": {
             "line": {
              "color": "#E5ECF6",
              "width": 0.5
             },
             "pattern": {
              "fillmode": "overlay",
              "size": 10,
              "solidity": 0.2
             }
            },
            "type": "bar"
           }
          ],
          "barpolar": [
           {
            "marker": {
             "line": {
              "color": "#E5ECF6",
              "width": 0.5
             },
             "pattern": {
              "fillmode": "overlay",
              "size": 10,
              "solidity": 0.2
             }
            },
            "type": "barpolar"
           }
          ],
          "carpet": [
           {
            "aaxis": {
             "endlinecolor": "#2a3f5f",
             "gridcolor": "white",
             "linecolor": "white",
             "minorgridcolor": "white",
             "startlinecolor": "#2a3f5f"
            },
            "baxis": {
             "endlinecolor": "#2a3f5f",
             "gridcolor": "white",
             "linecolor": "white",
             "minorgridcolor": "white",
             "startlinecolor": "#2a3f5f"
            },
            "type": "carpet"
           }
          ],
          "choropleth": [
           {
            "colorbar": {
             "outlinewidth": 0,
             "ticks": ""
            },
            "type": "choropleth"
           }
          ],
          "contour": [
           {
            "colorbar": {
             "outlinewidth": 0,
             "ticks": ""
            },
            "colorscale": [
             [
              0,
              "#0d0887"
             ],
             [
              0.1111111111111111,
              "#46039f"
             ],
             [
              0.2222222222222222,
              "#7201a8"
             ],
             [
              0.3333333333333333,
              "#9c179e"
             ],
             [
              0.4444444444444444,
              "#bd3786"
             ],
             [
              0.5555555555555556,
              "#d8576b"
             ],
             [
              0.6666666666666666,
              "#ed7953"
             ],
             [
              0.7777777777777778,
              "#fb9f3a"
             ],
             [
              0.8888888888888888,
              "#fdca26"
             ],
             [
              1,
              "#f0f921"
             ]
            ],
            "type": "contour"
           }
          ],
          "contourcarpet": [
           {
            "colorbar": {
             "outlinewidth": 0,
             "ticks": ""
            },
            "type": "contourcarpet"
           }
          ],
          "heatmap": [
           {
            "colorbar": {
             "outlinewidth": 0,
             "ticks": ""
            },
            "colorscale": [
             [
              0,
              "#0d0887"
             ],
             [
              0.1111111111111111,
              "#46039f"
             ],
             [
              0.2222222222222222,
              "#7201a8"
             ],
             [
              0.3333333333333333,
              "#9c179e"
             ],
             [
              0.4444444444444444,
              "#bd3786"
             ],
             [
              0.5555555555555556,
              "#d8576b"
             ],
             [
              0.6666666666666666,
              "#ed7953"
             ],
             [
              0.7777777777777778,
              "#fb9f3a"
             ],
             [
              0.8888888888888888,
              "#fdca26"
             ],
             [
              1,
              "#f0f921"
             ]
            ],
            "type": "heatmap"
           }
          ],
          "heatmapgl": [
           {
            "colorbar": {
             "outlinewidth": 0,
             "ticks": ""
            },
            "colorscale": [
             [
              0,
              "#0d0887"
             ],
             [
              0.1111111111111111,
              "#46039f"
             ],
             [
              0.2222222222222222,
              "#7201a8"
             ],
             [
              0.3333333333333333,
              "#9c179e"
             ],
             [
              0.4444444444444444,
              "#bd3786"
             ],
             [
              0.5555555555555556,
              "#d8576b"
             ],
             [
              0.6666666666666666,
              "#ed7953"
             ],
             [
              0.7777777777777778,
              "#fb9f3a"
             ],
             [
              0.8888888888888888,
              "#fdca26"
             ],
             [
              1,
              "#f0f921"
             ]
            ],
            "type": "heatmapgl"
           }
          ],
          "histogram": [
           {
            "marker": {
             "pattern": {
              "fillmode": "overlay",
              "size": 10,
              "solidity": 0.2
             }
            },
            "type": "histogram"
           }
          ],
          "histogram2d": [
           {
            "colorbar": {
             "outlinewidth": 0,
             "ticks": ""
            },
            "colorscale": [
             [
              0,
              "#0d0887"
             ],
             [
              0.1111111111111111,
              "#46039f"
             ],
             [
              0.2222222222222222,
              "#7201a8"
             ],
             [
              0.3333333333333333,
              "#9c179e"
             ],
             [
              0.4444444444444444,
              "#bd3786"
             ],
             [
              0.5555555555555556,
              "#d8576b"
             ],
             [
              0.6666666666666666,
              "#ed7953"
             ],
             [
              0.7777777777777778,
              "#fb9f3a"
             ],
             [
              0.8888888888888888,
              "#fdca26"
             ],
             [
              1,
              "#f0f921"
             ]
            ],
            "type": "histogram2d"
           }
          ],
          "histogram2dcontour": [
           {
            "colorbar": {
             "outlinewidth": 0,
             "ticks": ""
            },
            "colorscale": [
             [
              0,
              "#0d0887"
             ],
             [
              0.1111111111111111,
              "#46039f"
             ],
             [
              0.2222222222222222,
              "#7201a8"
             ],
             [
              0.3333333333333333,
              "#9c179e"
             ],
             [
              0.4444444444444444,
              "#bd3786"
             ],
             [
              0.5555555555555556,
              "#d8576b"
             ],
             [
              0.6666666666666666,
              "#ed7953"
             ],
             [
              0.7777777777777778,
              "#fb9f3a"
             ],
             [
              0.8888888888888888,
              "#fdca26"
             ],
             [
              1,
              "#f0f921"
             ]
            ],
            "type": "histogram2dcontour"
           }
          ],
          "mesh3d": [
           {
            "colorbar": {
             "outlinewidth": 0,
             "ticks": ""
            },
            "type": "mesh3d"
           }
          ],
          "parcoords": [
           {
            "line": {
             "colorbar": {
              "outlinewidth": 0,
              "ticks": ""
             }
            },
            "type": "parcoords"
           }
          ],
          "pie": [
           {
            "automargin": true,
            "type": "pie"
           }
          ],
          "scatter": [
           {
            "fillpattern": {
             "fillmode": "overlay",
             "size": 10,
             "solidity": 0.2
            },
            "type": "scatter"
           }
          ],
          "scatter3d": [
           {
            "line": {
             "colorbar": {
              "outlinewidth": 0,
              "ticks": ""
             }
            },
            "marker": {
             "colorbar": {
              "outlinewidth": 0,
              "ticks": ""
             }
            },
            "type": "scatter3d"
           }
          ],
          "scattercarpet": [
           {
            "marker": {
             "colorbar": {
              "outlinewidth": 0,
              "ticks": ""
             }
            },
            "type": "scattercarpet"
           }
          ],
          "scattergeo": [
           {
            "marker": {
             "colorbar": {
              "outlinewidth": 0,
              "ticks": ""
             }
            },
            "type": "scattergeo"
           }
          ],
          "scattergl": [
           {
            "marker": {
             "colorbar": {
              "outlinewidth": 0,
              "ticks": ""
             }
            },
            "type": "scattergl"
           }
          ],
          "scattermapbox": [
           {
            "marker": {
             "colorbar": {
              "outlinewidth": 0,
              "ticks": ""
             }
            },
            "type": "scattermapbox"
           }
          ],
          "scatterpolar": [
           {
            "marker": {
             "colorbar": {
              "outlinewidth": 0,
              "ticks": ""
             }
            },
            "type": "scatterpolar"
           }
          ],
          "scatterpolargl": [
           {
            "marker": {
             "colorbar": {
              "outlinewidth": 0,
              "ticks": ""
             }
            },
            "type": "scatterpolargl"
           }
          ],
          "scatterternary": [
           {
            "marker": {
             "colorbar": {
              "outlinewidth": 0,
              "ticks": ""
             }
            },
            "type": "scatterternary"
           }
          ],
          "surface": [
           {
            "colorbar": {
             "outlinewidth": 0,
             "ticks": ""
            },
            "colorscale": [
             [
              0,
              "#0d0887"
             ],
             [
              0.1111111111111111,
              "#46039f"
             ],
             [
              0.2222222222222222,
              "#7201a8"
             ],
             [
              0.3333333333333333,
              "#9c179e"
             ],
             [
              0.4444444444444444,
              "#bd3786"
             ],
             [
              0.5555555555555556,
              "#d8576b"
             ],
             [
              0.6666666666666666,
              "#ed7953"
             ],
             [
              0.7777777777777778,
              "#fb9f3a"
             ],
             [
              0.8888888888888888,
              "#fdca26"
             ],
             [
              1,
              "#f0f921"
             ]
            ],
            "type": "surface"
           }
          ],
          "table": [
           {
            "cells": {
             "fill": {
              "color": "#EBF0F8"
             },
             "line": {
              "color": "white"
             }
            },
            "header": {
             "fill": {
              "color": "#C8D4E3"
             },
             "line": {
              "color": "white"
             }
            },
            "type": "table"
           }
          ]
         },
         "layout": {
          "annotationdefaults": {
           "arrowcolor": "#2a3f5f",
           "arrowhead": 0,
           "arrowwidth": 1
          },
          "autotypenumbers": "strict",
          "coloraxis": {
           "colorbar": {
            "outlinewidth": 0,
            "ticks": ""
           }
          },
          "colorscale": {
           "diverging": [
            [
             0,
             "#8e0152"
            ],
            [
             0.1,
             "#c51b7d"
            ],
            [
             0.2,
             "#de77ae"
            ],
            [
             0.3,
             "#f1b6da"
            ],
            [
             0.4,
             "#fde0ef"
            ],
            [
             0.5,
             "#f7f7f7"
            ],
            [
             0.6,
             "#e6f5d0"
            ],
            [
             0.7,
             "#b8e186"
            ],
            [
             0.8,
             "#7fbc41"
            ],
            [
             0.9,
             "#4d9221"
            ],
            [
             1,
             "#276419"
            ]
           ],
           "sequential": [
            [
             0,
             "#0d0887"
            ],
            [
             0.1111111111111111,
             "#46039f"
            ],
            [
             0.2222222222222222,
             "#7201a8"
            ],
            [
             0.3333333333333333,
             "#9c179e"
            ],
            [
             0.4444444444444444,
             "#bd3786"
            ],
            [
             0.5555555555555556,
             "#d8576b"
            ],
            [
             0.6666666666666666,
             "#ed7953"
            ],
            [
             0.7777777777777778,
             "#fb9f3a"
            ],
            [
             0.8888888888888888,
             "#fdca26"
            ],
            [
             1,
             "#f0f921"
            ]
           ],
           "sequentialminus": [
            [
             0,
             "#0d0887"
            ],
            [
             0.1111111111111111,
             "#46039f"
            ],
            [
             0.2222222222222222,
             "#7201a8"
            ],
            [
             0.3333333333333333,
             "#9c179e"
            ],
            [
             0.4444444444444444,
             "#bd3786"
            ],
            [
             0.5555555555555556,
             "#d8576b"
            ],
            [
             0.6666666666666666,
             "#ed7953"
            ],
            [
             0.7777777777777778,
             "#fb9f3a"
            ],
            [
             0.8888888888888888,
             "#fdca26"
            ],
            [
             1,
             "#f0f921"
            ]
           ]
          },
          "colorway": [
           "#636efa",
           "#EF553B",
           "#00cc96",
           "#ab63fa",
           "#FFA15A",
           "#19d3f3",
           "#FF6692",
           "#B6E880",
           "#FF97FF",
           "#FECB52"
          ],
          "font": {
           "color": "#2a3f5f"
          },
          "geo": {
           "bgcolor": "white",
           "lakecolor": "white",
           "landcolor": "#E5ECF6",
           "showlakes": true,
           "showland": true,
           "subunitcolor": "white"
          },
          "hoverlabel": {
           "align": "left"
          },
          "hovermode": "closest",
          "mapbox": {
           "style": "light"
          },
          "paper_bgcolor": "white",
          "plot_bgcolor": "#E5ECF6",
          "polar": {
           "angularaxis": {
            "gridcolor": "white",
            "linecolor": "white",
            "ticks": ""
           },
           "bgcolor": "#E5ECF6",
           "radialaxis": {
            "gridcolor": "white",
            "linecolor": "white",
            "ticks": ""
           }
          },
          "scene": {
           "xaxis": {
            "backgroundcolor": "#E5ECF6",
            "gridcolor": "white",
            "gridwidth": 2,
            "linecolor": "white",
            "showbackground": true,
            "ticks": "",
            "zerolinecolor": "white"
           },
           "yaxis": {
            "backgroundcolor": "#E5ECF6",
            "gridcolor": "white",
            "gridwidth": 2,
            "linecolor": "white",
            "showbackground": true,
            "ticks": "",
            "zerolinecolor": "white"
           },
           "zaxis": {
            "backgroundcolor": "#E5ECF6",
            "gridcolor": "white",
            "gridwidth": 2,
            "linecolor": "white",
            "showbackground": true,
            "ticks": "",
            "zerolinecolor": "white"
           }
          },
          "shapedefaults": {
           "line": {
            "color": "#2a3f5f"
           }
          },
          "ternary": {
           "aaxis": {
            "gridcolor": "white",
            "linecolor": "white",
            "ticks": ""
           },
           "baxis": {
            "gridcolor": "white",
            "linecolor": "white",
            "ticks": ""
           },
           "bgcolor": "#E5ECF6",
           "caxis": {
            "gridcolor": "white",
            "linecolor": "white",
            "ticks": ""
           }
          },
          "title": {
           "x": 0.05
          },
          "xaxis": {
           "automargin": true,
           "gridcolor": "white",
           "linecolor": "white",
           "ticks": "",
           "title": {
            "standoff": 15
           },
           "zerolinecolor": "white",
           "zerolinewidth": 2
          },
          "yaxis": {
           "automargin": true,
           "gridcolor": "white",
           "linecolor": "white",
           "ticks": "",
           "title": {
            "standoff": 15
           },
           "zerolinecolor": "white",
           "zerolinewidth": 2
          }
         }
        },
        "title": {
         "text": "Similarities between Additive and Subtractive Colors"
        }
       }
      }
     },
     "metadata": {},
     "output_type": "display_data"
    }
   ],
   "source": [
    "import plotly.graph_objects as go\n",
    "import numpy as np\n",
    "\n",
    "# Assuming color2vector is your dictionary of colors to vectors\n",
    "# and you've computed additive_colors and subtractive_colors as given\n",
    "\n",
    "# Calculate similarities and prepare data for Sankey diagram\n",
    "source = []\n",
    "target = []\n",
    "value = []\n",
    "labels = []\n",
    "\n",
    "# Additive colors\n",
    "for rv in additive_colors:\n",
    "    for ov in color2vector.items():\n",
    "        if ov[0] not in ['S1', 'V1', 'BW', 'Brown']:\n",
    "            similarity = np.dot(rv[0], ov[1])\n",
    "            if ov[0] not in rv[1]:\n",
    "                # Add to Sankey data\n",
    "                if rv[1] not in labels:\n",
    "                    labels.append(rv[1])\n",
    "                if ov[0] not in labels:\n",
    "                    labels.append(ov[0])\n",
    "\n",
    "                source.append(labels.index(rv[1]))\n",
    "                target.append(labels.index(ov[0]))\n",
    "                value.append(similarity)\n",
    "\n",
    "# Assuming subtractive_colors follows the same structure\n",
    "for rv in subtractive_colors:\n",
    "    for ov in color2vector.items():\n",
    "        if ov[0] not in ['S1', 'V1', 'BW', 'Brown']:\n",
    "            similarity = np.dot(rv[0], ov[1])\n",
    "            if ov[0] not in rv[1]:\n",
    "                # Add to Sankey data\n",
    "                if rv[1] not in labels:\n",
    "                    labels.append(rv[1])\n",
    "                if ov[0] not in labels:\n",
    "                    labels.append(ov[0])\n",
    "\n",
    "                source.append(labels.index(rv[1]))\n",
    "                target.append(labels.index(ov[0]))\n",
    "                value.append(similarity)\n",
    "    # Similar logic as above\n",
    "\n",
    "# Create Sankey diagram\n",
    "fig = go.Figure(data=[go.Sankey(\n",
    "    node=dict(\n",
    "      pad=15,\n",
    "      thickness=20,\n",
    "      line=dict(color=\"black\", width=0.5),\n",
    "      label=labels\n",
    "    ),\n",
    "    link=dict(\n",
    "      source=source,\n",
    "      target=target,\n",
    "      value=value\n",
    "    ))])\n",
    "\n",
    "fig.update_layout(title_text=\"Similarities between Additive and Subtractive Colors\", font_size=10)\n",
    "fig.show()\n"
   ]
  },
  {
   "cell_type": "code",
   "execution_count": 41,
   "metadata": {},
   "outputs": [
    {
     "name": "stdout",
     "output_type": "stream",
     "text": [
      "Vector: Blue is similar to Cyan-Magenta with similarity 0.12587683731204344\n",
      "Vector: Green is similar to Cyan-Magenta with similarity 0.14263542796163564\n",
      "Vector: Red is similar to Cyan-Magenta with similarity -0.2466931894800054\n",
      "Vector: Yellow is similar to Cyan-Magenta with similarity 0.028695031451628116\n",
      "Vector: Blue is similar to Cyan-Yellow with similarity 0.23007314367393233\n",
      "Vector: Green is similar to Cyan-Yellow with similarity 0.06804331696217854\n",
      "Vector: Magenta is similar to Cyan-Yellow with similarity 0.054292668391245386\n",
      "Vector: Red is similar to Cyan-Yellow with similarity -0.1295734258700925\n",
      "Vector: Blue is similar to Magenta-Cyan with similarity -0.12587683731204344\n",
      "Vector: Green is similar to Magenta-Cyan with similarity -0.14263542796163564\n",
      "Vector: Red is similar to Magenta-Cyan with similarity 0.2466931894800054\n",
      "Vector: Yellow is similar to Magenta-Cyan with similarity -0.028695031451628116\n",
      "Vector: Blue is similar to Magenta-Yellow with similarity 0.10633974947524305\n",
      "Vector: Cyan is similar to Magenta-Yellow with similarity 0.026113610571025583\n",
      "Vector: Green is similar to Magenta-Yellow with similarity -0.07501957921523003\n",
      "Vector: Red is similar to Magenta-Yellow with similarity 0.11768281070870197\n",
      "Vector: Blue is similar to Yellow-Cyan with similarity -0.23007314367393233\n",
      "Vector: Green is similar to Yellow-Cyan with similarity -0.06804331696217854\n",
      "Vector: Magenta is similar to Yellow-Cyan with similarity -0.054292668391245386\n",
      "Vector: Red is similar to Yellow-Cyan with similarity 0.1295734258700925\n",
      "Vector: Blue is similar to Yellow-Magenta with similarity -0.10633974947524305\n",
      "Vector: Cyan is similar to Yellow-Magenta with similarity -0.026113610571025583\n",
      "Vector: Green is similar to Yellow-Magenta with similarity 0.07501957921523003\n",
      "Vector: Red is similar to Yellow-Magenta with similarity -0.11768281070870197\n"
     ]
    }
   ],
   "source": [
    "# Find the most similar vector\n",
    "for rv in subtractive_colors:\n",
    "    for ov in color2vector.items():\n",
    "        if ov[0] not in ['S1', 'V1', 'BW', 'Brown']:\n",
    "            similarity = np.dot(rv[0], ov[1])\n",
    "            if ov[0] not in rv[1]:\n",
    "                print(\"Vector:\", ov[0], 'is similar to', rv[1], 'with similarity', similarity)\n"
   ]
  },
  {
   "cell_type": "markdown",
   "metadata": {},
   "source": [
    "Similarity across channels"
   ]
  },
  {
   "cell_type": "code",
   "execution_count": 52,
   "metadata": {},
   "outputs": [
    {
     "name": "stdout",
     "output_type": "stream",
     "text": [
      "(16, 31)\n"
     ]
    },
    {
     "name": "stderr",
     "output_type": "stream",
     "text": [
      "/var/folders/s_/h4qqxs0s7mg2fw0j2hmf3jgh0000gn/T/ipykernel_78207/2462186999.py:1: UserWarning:\n",
      "\n",
      "Boolean Series key will be reindexed to match DataFrame index.\n",
      "\n"
     ]
    },
    {
     "data": {
      "text/html": [
       "<div>\n",
       "<style scoped>\n",
       "    .dataframe tbody tr th:only-of-type {\n",
       "        vertical-align: middle;\n",
       "    }\n",
       "\n",
       "    .dataframe tbody tr th {\n",
       "        vertical-align: top;\n",
       "    }\n",
       "\n",
       "    .dataframe thead th {\n",
       "        text-align: right;\n",
       "    }\n",
       "</style>\n",
       "<table border=\"1\" class=\"dataframe\">\n",
       "  <thead>\n",
       "    <tr style=\"text-align: right;\">\n",
       "      <th></th>\n",
       "      <th>index</th>\n",
       "      <th>Method</th>\n",
       "      <th>Variable</th>\n",
       "      <th>Feature</th>\n",
       "      <th>Broad</th>\n",
       "      <th>Optimal lambda</th>\n",
       "      <th>Total Score</th>\n",
       "      <th>Score lambda 1</th>\n",
       "      <th>Score lambda 2</th>\n",
       "      <th>Score lambda 3</th>\n",
       "      <th>...</th>\n",
       "      <th>Score lambda 15</th>\n",
       "      <th>Final Score</th>\n",
       "      <th>Method General</th>\n",
       "      <th>Space</th>\n",
       "      <th>Subfolder</th>\n",
       "      <th>Performance</th>\n",
       "      <th>Classes</th>\n",
       "      <th>Bins</th>\n",
       "      <th>Separation Vector</th>\n",
       "      <th>Separation Vector (np)</th>\n",
       "    </tr>\n",
       "  </thead>\n",
       "  <tbody>\n",
       "    <tr>\n",
       "      <th>1</th>\n",
       "      <td>5</td>\n",
       "      <td>ShapleyVec_True_0.25_8_Color_LR</td>\n",
       "      <td>Color</td>\n",
       "      <td>Yellow</td>\n",
       "      <td>1.0</td>\n",
       "      <td>15.0</td>\n",
       "      <td>0.884</td>\n",
       "      <td>0.746</td>\n",
       "      <td>0.775</td>\n",
       "      <td>0.771</td>\n",
       "      <td>...</td>\n",
       "      <td>0.93</td>\n",
       "      <td>0.967</td>\n",
       "      <td>ShapleyVec</td>\n",
       "      <td>w</td>\n",
       "      <td>ShapleyVec/color/</td>\n",
       "      <td>NaN</td>\n",
       "      <td>BW, Brown, Yellow, Cyan, Blue, Green, Red, Mag...</td>\n",
       "      <td>[0, 35, 70, 150, 200, 260, 345, 360]</td>\n",
       "      <td>[ 0.      0.      0.      0.      0.      0.  ...</td>\n",
       "      <td>[0.0, 0.0, 0.0, 0.0, 0.0, 0.0, 0.0, -0.2339, 0...</td>\n",
       "    </tr>\n",
       "  </tbody>\n",
       "</table>\n",
       "<p>1 rows × 31 columns</p>\n",
       "</div>"
      ],
      "text/plain": [
       "   index                           Method Variable Feature  Broad  \\\n",
       "1      5  ShapleyVec_True_0.25_8_Color_LR    Color  Yellow    1.0   \n",
       "\n",
       "   Optimal lambda  Total Score  Score lambda 1  Score lambda 2  \\\n",
       "1            15.0        0.884           0.746           0.775   \n",
       "\n",
       "   Score lambda 3  ...  Score lambda 15  Final Score  Method General  Space  \\\n",
       "1           0.771  ...             0.93        0.967      ShapleyVec      w   \n",
       "\n",
       "           Subfolder  Performance  \\\n",
       "1  ShapleyVec/color/          NaN   \n",
       "\n",
       "                                             Classes  \\\n",
       "1  BW, Brown, Yellow, Cyan, Blue, Green, Red, Mag...   \n",
       "\n",
       "                                   Bins  \\\n",
       "1  [0, 35, 70, 150, 200, 260, 345, 360]   \n",
       "\n",
       "                                   Separation Vector  \\\n",
       "1  [ 0.      0.      0.      0.      0.      0.  ...   \n",
       "\n",
       "                              Separation Vector (np)  \n",
       "1  [0.0, 0.0, 0.0, 0.0, 0.0, 0.0, 0.0, -0.2339, 0...  \n",
       "\n",
       "[1 rows x 31 columns]"
      ]
     },
     "execution_count": 52,
     "metadata": {},
     "output_type": "execute_result"
    }
   ],
   "source": [
    "df_scores_shapley = df_scores[df_scores['Method General'] == 'ShapleyVec'][df_scores['Method'].str.contains('0.25')]\n",
    "print(df_scores_shapley.shape)\n",
    "df_scores_shapley.head(1)"
   ]
  },
  {
   "cell_type": "code",
   "execution_count": 53,
   "metadata": {},
   "outputs": [
    {
     "name": "stdout",
     "output_type": "stream",
     "text": [
      "Color Yellow requires 28 channels to represent it\n",
      "Color Brown requires 27 channels to represent it\n",
      "Color Red requires 28 channels to represent it\n",
      "Color Yellow requires 28 channels to represent it\n",
      "Color Brown requires 27 channels to represent it\n",
      "Color Blue requires 30 channels to represent it\n",
      "Color BW requires 28 channels to represent it\n",
      "Color BW requires 28 channels to represent it\n",
      "Color Red requires 28 channels to represent it\n",
      "Color Blue requires 30 channels to represent it\n",
      "Color Cyan requires 27 channels to represent it\n",
      "Color Magenta requires 25 channels to represent it\n",
      "Color Green requires 21 channels to represent it\n",
      "Color Cyan requires 27 channels to represent it\n",
      "Color Magenta requires 25 channels to represent it\n",
      "Color Green requires 21 channels to represent it\n",
      "Color Yellow and color Brown intersect by 11 channels, out of the max possible channels 27\n",
      "Color Yellow and color Red intersect by 5 channels, out of the max possible channels 28\n",
      "Color Yellow and color Blue intersect by 8 channels, out of the max possible channels 28\n",
      "Color Yellow and color BW intersect by 9 channels, out of the max possible channels 28\n",
      "Color Yellow and color Cyan intersect by 7 channels, out of the max possible channels 27\n",
      "Color Yellow and color Magenta intersect by 9 channels, out of the max possible channels 25\n",
      "Color Yellow and color Green intersect by 6 channels, out of the max possible channels 21\n",
      "Color Brown and color Yellow intersect by 11 channels, out of the max possible channels 27\n",
      "Color Brown and color Red intersect by 12 channels, out of the max possible channels 27\n",
      "Color Brown and color Blue intersect by 10 channels, out of the max possible channels 27\n",
      "Color Brown and color BW intersect by 9 channels, out of the max possible channels 27\n",
      "Color Brown and color Cyan intersect by 11 channels, out of the max possible channels 27\n",
      "Color Brown and color Magenta intersect by 5 channels, out of the max possible channels 25\n",
      "Color Brown and color Green intersect by 9 channels, out of the max possible channels 21\n",
      "Color Red and color Yellow intersect by 5 channels, out of the max possible channels 28\n",
      "Color Red and color Brown intersect by 12 channels, out of the max possible channels 27\n",
      "Color Red and color Blue intersect by 8 channels, out of the max possible channels 28\n",
      "Color Red and color BW intersect by 9 channels, out of the max possible channels 28\n",
      "Color Red and color Cyan intersect by 13 channels, out of the max possible channels 27\n",
      "Color Red and color Magenta intersect by 12 channels, out of the max possible channels 25\n",
      "Color Red and color Green intersect by 9 channels, out of the max possible channels 21\n",
      "Color Blue and color Yellow intersect by 8 channels, out of the max possible channels 28\n",
      "Color Blue and color Brown intersect by 10 channels, out of the max possible channels 27\n",
      "Color Blue and color Red intersect by 8 channels, out of the max possible channels 28\n",
      "Color Blue and color BW intersect by 7 channels, out of the max possible channels 28\n",
      "Color Blue and color Cyan intersect by 8 channels, out of the max possible channels 27\n",
      "Color Blue and color Magenta intersect by 5 channels, out of the max possible channels 25\n",
      "Color Blue and color Green intersect by 3 channels, out of the max possible channels 21\n",
      "Color BW and color Yellow intersect by 9 channels, out of the max possible channels 28\n",
      "Color BW and color Brown intersect by 9 channels, out of the max possible channels 27\n",
      "Color BW and color Red intersect by 9 channels, out of the max possible channels 28\n",
      "Color BW and color Blue intersect by 7 channels, out of the max possible channels 28\n",
      "Color BW and color Cyan intersect by 12 channels, out of the max possible channels 27\n",
      "Color BW and color Magenta intersect by 7 channels, out of the max possible channels 25\n",
      "Color BW and color Green intersect by 5 channels, out of the max possible channels 21\n",
      "Color Cyan and color Yellow intersect by 7 channels, out of the max possible channels 27\n",
      "Color Cyan and color Brown intersect by 11 channels, out of the max possible channels 27\n",
      "Color Cyan and color Red intersect by 13 channels, out of the max possible channels 27\n",
      "Color Cyan and color Blue intersect by 8 channels, out of the max possible channels 27\n",
      "Color Cyan and color BW intersect by 12 channels, out of the max possible channels 27\n",
      "Color Cyan and color Magenta intersect by 7 channels, out of the max possible channels 25\n",
      "Color Cyan and color Green intersect by 10 channels, out of the max possible channels 21\n",
      "Color Magenta and color Yellow intersect by 9 channels, out of the max possible channels 25\n",
      "Color Magenta and color Brown intersect by 5 channels, out of the max possible channels 25\n",
      "Color Magenta and color Red intersect by 12 channels, out of the max possible channels 25\n",
      "Color Magenta and color Blue intersect by 5 channels, out of the max possible channels 25\n",
      "Color Magenta and color BW intersect by 7 channels, out of the max possible channels 25\n",
      "Color Magenta and color Cyan intersect by 7 channels, out of the max possible channels 25\n",
      "Color Magenta and color Green intersect by 6 channels, out of the max possible channels 21\n",
      "Color Green and color Yellow intersect by 6 channels, out of the max possible channels 21\n",
      "Color Green and color Brown intersect by 9 channels, out of the max possible channels 21\n",
      "Color Green and color Red intersect by 9 channels, out of the max possible channels 21\n",
      "Color Green and color Blue intersect by 3 channels, out of the max possible channels 21\n",
      "Color Green and color BW intersect by 5 channels, out of the max possible channels 21\n",
      "Color Green and color Cyan intersect by 10 channels, out of the max possible channels 21\n",
      "Color Green and color Magenta intersect by 6 channels, out of the max possible channels 21\n"
     ]
    }
   ],
   "source": [
    "channels = {}\n",
    "for color, vecs in zip(df_scores_shapley['Feature'], df_scores_shapley['Separation Vector (np)']):\n",
    "    channels[color] = np.where(vecs != 0)\n",
    "    print('Color', color, 'requires', len(channels[color][0]), 'channels to represent it')\n",
    "\n",
    "colors = df_scores_shapley['Feature'].unique()\n",
    "for color1 in colors:\n",
    "    for color2 in colors:\n",
    "        if color1 != color2:\n",
    "            inters = np.intersect1d(channels[color1], channels[color2])\n",
    "            print('Color', color1, 'and color', color2, 'intersect by', len(inters), 'channels, out of the max possible channels', \n",
    "                  min(len(channels[color2][0]), len(channels[color1][0])))"
   ]
  },
  {
   "cell_type": "code",
   "execution_count": 48,
   "metadata": {},
   "outputs": [
    {
     "name": "stdout",
     "output_type": "stream",
     "text": [
      "[[ 1.21446168  1.49982457]\n",
      " [-0.25555381 -0.08115598]\n",
      " [-0.12775599  0.83630174]\n",
      " [ 1.15352737  0.81286622]\n",
      " [ 0.51604173  1.20014093]\n",
      " [ 0.54556035 -0.49129744]\n",
      " [ 0.50814294  0.43864308]\n",
      " [-0.12973743 -0.91167993]]\n"
     ]
    },
    {
     "data": {
      "image/png": "[encoded data removed]",
      "text/plain": [
       "<Figure size 640x480 with 1 Axes>"
      ]
     },
     "metadata": {},
     "output_type": "display_data"
    }
   ],
   "source": [
    "import matplotlib.pyplot as plt\n",
    "import numpy as np\n",
    "from scipy.optimize import minimize\n",
    "\n",
    "\n",
    "# Example data: 8 sets of numbers\n",
    "sets = [set(list(chan[0])) for chan in list(channels.values())]\n",
    "names = [col.lower() if col != 'BW' else 'grey' for col in list(channels.keys())]\n",
    "\n",
    "\n",
    "# Calculate desired overlaps\n",
    "desired_overlaps = np.zeros((len(sets), len(sets)))\n",
    "for i, set1 in enumerate(sets):\n",
    "    for j, set2 in enumerate(sets):\n",
    "        if i != j:\n",
    "            overlap = len(set1.intersection(set2)) / len(set1.union(set2))\n",
    "            desired_overlaps[i, j] = overlap\n",
    "\n",
    "\n",
    "# Function to minimize: difference between actual and desired overlaps\n",
    "def overlap_error(positions):\n",
    "    positions = positions.reshape((len(sets), 2))\n",
    "    error = 0\n",
    "    for i in range(len(sets)):\n",
    "        for j in range(i + 1, len(sets)):\n",
    "            dx, dy = positions[i] - positions[j]\n",
    "            distance = np.sqrt(dx**2 + dy**2)\n",
    "            actual_overlap = max(0, 1 - distance)  # Simplified overlap calculation\n",
    "            error += (actual_overlap - desired_overlaps[i, j])**2\n",
    "    return error\n",
    "\n",
    "# Initial positions\n",
    "initial_positions = np.random.rand(len(sets), 2).flatten()\n",
    "\n",
    "# Minimize the error function\n",
    "optimized = minimize(overlap_error, initial_positions, method='BFGS')\n",
    "optimized_positions = optimized.x.reshape((len(sets), 2))\n",
    "\n",
    "print(optimized_positions)\n",
    "fig, ax = plt.subplots()\n",
    "for i, s in enumerate(sets):\n",
    "    ax.scatter(optimized_positions[i, 0], optimized_positions[i, 1], s=100 * len(s), alpha=0.5, color=names[i])\n",
    "    ax.text(optimized_positions[i, 0], optimized_positions[i, 1], f\"{names[i]}\", ha='center', va='center', color='black')\n",
    "\n",
    "plt.title(\"Bubble Plot of Number Sets with Overlap\")\n",
    "plt.show()\n"
   ]
  },
  {
   "cell_type": "code",
   "execution_count": 99,
   "metadata": {},
   "outputs": [
    {
     "name": "stdout",
     "output_type": "stream",
     "text": [
      "Color BW , color Blue , color Brown and color Cyan intersect by 2 node(s) [253 463]\n",
      "Color BW , color Brown , color Blue and color Cyan intersect by 2 node(s) [253 463]\n",
      "Color BW , color Cyan , color Blue and color Brown intersect by 2 node(s) [253 463]\n",
      "Color BW , color Magenta , color Blue and color Brown intersect by 1 node(s) [253]\n",
      "Color BW , color Magenta , color Blue and color Cyan intersect by 1 node(s) [253]\n",
      "Color BW , color Red , color Blue and color Brown intersect by 2 node(s) [253 361]\n",
      "Color BW , color Red , color Blue and color Cyan intersect by 1 node(s) [253]\n",
      "Color BW , color Yellow , color Blue and color Brown intersect by 3 node(s) [253 451 463]\n",
      "Color BW , color Yellow , color Blue and color Cyan intersect by 2 node(s) [253 463]\n",
      "Color Blue , color BW , color Brown and color Cyan intersect by 2 node(s) [253 463]\n",
      "Color Blue , color Brown , color BW and color Cyan intersect by 2 node(s) [253 463]\n",
      "Color Blue , color Cyan , color BW and color Brown intersect by 2 node(s) [253 463]\n",
      "Color Blue , color Magenta , color BW and color Brown intersect by 1 node(s) [253]\n",
      "Color Blue , color Magenta , color BW and color Cyan intersect by 1 node(s) [253]\n",
      "Color Blue , color Red , color BW and color Brown intersect by 2 node(s) [253 361]\n",
      "Color Blue , color Red , color BW and color Cyan intersect by 1 node(s) [253]\n",
      "Color Blue , color Yellow , color BW and color Brown intersect by 3 node(s) [253 451 463]\n",
      "Color Blue , color Yellow , color BW and color Cyan intersect by 2 node(s) [253 463]\n",
      "Color Brown , color BW , color Blue and color Cyan intersect by 2 node(s) [253 463]\n",
      "Color Brown , color Blue , color BW and color Cyan intersect by 2 node(s) [253 463]\n",
      "Color Brown , color Cyan , color BW and color Blue intersect by 2 node(s) [253 463]\n",
      "Color Brown , color Magenta , color BW and color Blue intersect by 1 node(s) [253]\n",
      "Color Brown , color Magenta , color BW and color Cyan intersect by 1 node(s) [253]\n",
      "Color Brown , color Red , color BW and color Blue intersect by 2 node(s) [253 361]\n",
      "Color Brown , color Red , color BW and color Cyan intersect by 1 node(s) [253]\n",
      "Color Brown , color Yellow , color BW and color Blue intersect by 3 node(s) [253 451 463]\n",
      "Color Brown , color Yellow , color BW and color Cyan intersect by 2 node(s) [253 463]\n",
      "Color Cyan , color BW , color Blue and color Brown intersect by 2 node(s) [253 463]\n",
      "Color Cyan , color Blue , color BW and color Brown intersect by 2 node(s) [253 463]\n",
      "Color Cyan , color Brown , color BW and color Blue intersect by 2 node(s) [253 463]\n",
      "Color Cyan , color Magenta , color BW and color Blue intersect by 1 node(s) [253]\n",
      "Color Cyan , color Magenta , color BW and color Brown intersect by 1 node(s) [253]\n",
      "Color Cyan , color Red , color BW and color Blue intersect by 1 node(s) [253]\n",
      "Color Cyan , color Red , color BW and color Brown intersect by 1 node(s) [253]\n",
      "Color Cyan , color Yellow , color BW and color Blue intersect by 2 node(s) [253 463]\n",
      "Color Cyan , color Yellow , color BW and color Brown intersect by 2 node(s) [253 463]\n",
      "Color Magenta , color BW , color Blue and color Brown intersect by 1 node(s) [253]\n",
      "Color Magenta , color BW , color Blue and color Cyan intersect by 1 node(s) [253]\n",
      "Color Magenta , color Blue , color BW and color Brown intersect by 1 node(s) [253]\n",
      "Color Magenta , color Blue , color BW and color Cyan intersect by 1 node(s) [253]\n",
      "Color Magenta , color Brown , color BW and color Blue intersect by 1 node(s) [253]\n",
      "Color Magenta , color Brown , color BW and color Cyan intersect by 1 node(s) [253]\n",
      "Color Magenta , color Cyan , color BW and color Blue intersect by 1 node(s) [253]\n",
      "Color Magenta , color Cyan , color BW and color Brown intersect by 1 node(s) [253]\n",
      "Color Magenta , color Red , color BW and color Blue intersect by 1 node(s) [253]\n",
      "Color Magenta , color Red , color BW and color Brown intersect by 1 node(s) [253]\n",
      "Color Magenta , color Red , color BW and color Cyan intersect by 1 node(s) [253]\n",
      "Color Magenta , color Yellow , color BW and color Blue intersect by 1 node(s) [253]\n",
      "Color Magenta , color Yellow , color BW and color Brown intersect by 1 node(s) [253]\n",
      "Color Magenta , color Yellow , color BW and color Cyan intersect by 1 node(s) [253]\n",
      "Color Red , color BW , color Blue and color Brown intersect by 2 node(s) [253 361]\n",
      "Color Red , color BW , color Blue and color Cyan intersect by 1 node(s) [253]\n",
      "Color Red , color Blue , color BW and color Brown intersect by 2 node(s) [253 361]\n",
      "Color Red , color Blue , color BW and color Cyan intersect by 1 node(s) [253]\n",
      "Color Red , color Brown , color BW and color Blue intersect by 2 node(s) [253 361]\n",
      "Color Red , color Brown , color BW and color Cyan intersect by 1 node(s) [253]\n",
      "Color Red , color Cyan , color BW and color Blue intersect by 1 node(s) [253]\n",
      "Color Red , color Cyan , color BW and color Brown intersect by 1 node(s) [253]\n",
      "Color Red , color Magenta , color BW and color Blue intersect by 1 node(s) [253]\n",
      "Color Red , color Magenta , color BW and color Brown intersect by 1 node(s) [253]\n",
      "Color Red , color Magenta , color BW and color Cyan intersect by 1 node(s) [253]\n",
      "Color Red , color Yellow , color BW and color Blue intersect by 1 node(s) [253]\n",
      "Color Red , color Yellow , color BW and color Brown intersect by 1 node(s) [253]\n",
      "Color Red , color Yellow , color BW and color Cyan intersect by 1 node(s) [253]\n",
      "Color Yellow , color BW , color Blue and color Brown intersect by 3 node(s) [253 451 463]\n",
      "Color Yellow , color BW , color Blue and color Cyan intersect by 2 node(s) [253 463]\n",
      "Color Yellow , color Blue , color BW and color Brown intersect by 3 node(s) [253 451 463]\n",
      "Color Yellow , color Blue , color BW and color Cyan intersect by 2 node(s) [253 463]\n",
      "Color Yellow , color Brown , color BW and color Blue intersect by 3 node(s) [253 451 463]\n",
      "Color Yellow , color Brown , color BW and color Cyan intersect by 2 node(s) [253 463]\n",
      "Color Yellow , color Cyan , color BW and color Blue intersect by 2 node(s) [253 463]\n",
      "Color Yellow , color Cyan , color BW and color Brown intersect by 2 node(s) [253 463]\n",
      "Color Yellow , color Magenta , color BW and color Blue intersect by 1 node(s) [253]\n",
      "Color Yellow , color Magenta , color BW and color Brown intersect by 1 node(s) [253]\n",
      "Color Yellow , color Magenta , color BW and color Cyan intersect by 1 node(s) [253]\n",
      "Color Yellow , color Red , color BW and color Blue intersect by 1 node(s) [253]\n",
      "Color Yellow , color Red , color BW and color Brown intersect by 1 node(s) [253]\n",
      "Color Yellow , color Red , color BW and color Cyan intersect by 1 node(s) [253]\n"
     ]
    }
   ],
   "source": [
    "colors = df_scores_shapley['Feature'].unique()\n",
    "for color1 in colors:\n",
    "    for color2 in colors:\n",
    "        if color1 != color2:\n",
    "            inters = np.intersect1d(channels[color1], channels[color2])\n",
    "            for color3 in colors:\n",
    "                if color3 != color2 and color3 != color1:\n",
    "                    inters = np.intersect1d(channels[color3], inters)\n",
    "                    for color4 in colors:\n",
    "                        if color4 != color2 and color4 != color1 and color4 != color3:\n",
    "                            inters = np.intersect1d(channels[color4], inters)\n",
    "                            if len(inters) > 0:\n",
    "                                print('Color', color1, ', color', color2, ', color', color3, 'and color', color4, 'intersect by', len(inters), 'node(s)', inters)"
   ]
  },
  {
   "cell_type": "markdown",
   "metadata": {},
   "source": [
    "Now we do the same for stylespace"
   ]
  },
  {
   "cell_type": "code",
   "execution_count": 56,
   "metadata": {},
   "outputs": [
    {
     "name": "stdout",
     "output_type": "stream",
     "text": [
      "(8, 31)\n"
     ]
    },
    {
     "data": {
      "text/html": [
       "<div>\n",
       "<style scoped>\n",
       "    .dataframe tbody tr th:only-of-type {\n",
       "        vertical-align: middle;\n",
       "    }\n",
       "\n",
       "    .dataframe tbody tr th {\n",
       "        vertical-align: top;\n",
       "    }\n",
       "\n",
       "    .dataframe thead th {\n",
       "        text-align: right;\n",
       "    }\n",
       "</style>\n",
       "<table border=\"1\" class=\"dataframe\">\n",
       "  <thead>\n",
       "    <tr style=\"text-align: right;\">\n",
       "      <th></th>\n",
       "      <th>Method General</th>\n",
       "      <th>Feature</th>\n",
       "      <th>index</th>\n",
       "      <th>Method</th>\n",
       "      <th>Variable</th>\n",
       "      <th>Broad</th>\n",
       "      <th>Optimal lambda</th>\n",
       "      <th>Total Score</th>\n",
       "      <th>Score lambda 1</th>\n",
       "      <th>Score lambda 2</th>\n",
       "      <th>...</th>\n",
       "      <th>Score lambda 14</th>\n",
       "      <th>Score lambda 15</th>\n",
       "      <th>Final Score</th>\n",
       "      <th>Space</th>\n",
       "      <th>Subfolder</th>\n",
       "      <th>Performance</th>\n",
       "      <th>Classes</th>\n",
       "      <th>Bins</th>\n",
       "      <th>Separation Vector</th>\n",
       "      <th>Separation Vector (np)</th>\n",
       "    </tr>\n",
       "  </thead>\n",
       "  <tbody>\n",
       "    <tr>\n",
       "      <th>18</th>\n",
       "      <td>StyleSpace</td>\n",
       "      <td>BW</td>\n",
       "      <td>80</td>\n",
       "      <td>StyleSpaceTrue_1_8_Color_False</td>\n",
       "      <td>Color</td>\n",
       "      <td>0.0</td>\n",
       "      <td>15.0</td>\n",
       "      <td>0.178</td>\n",
       "      <td>0.054</td>\n",
       "      <td>0.081</td>\n",
       "      <td>...</td>\n",
       "      <td>0.378</td>\n",
       "      <td>0.405</td>\n",
       "      <td>0.405</td>\n",
       "      <td>w</td>\n",
       "      <td>StyleSpace/color/</td>\n",
       "      <td>NaN</td>\n",
       "      <td>BW, Brown, Yellow, Cyan, Blue, Green, Red, Mag...</td>\n",
       "      <td>[0, 35, 70, 150, 200, 260, 345, 360]</td>\n",
       "      <td>[0. 0. 0. 0. 0. 0. 0. 0. 0. 0. 0. 0. 0. 0. 0. ...</td>\n",
       "      <td>[0.0, 0.0, 0.0, 0.0, 0.0, 0.0, 0.0, 0.0, 0.0, ...</td>\n",
       "    </tr>\n",
       "  </tbody>\n",
       "</table>\n",
       "<p>1 rows × 31 columns</p>\n",
       "</div>"
      ],
      "text/plain": [
       "   Method General Feature  index                          Method Variable  \\\n",
       "18     StyleSpace      BW     80  StyleSpaceTrue_1_8_Color_False    Color   \n",
       "\n",
       "    Broad  Optimal lambda  Total Score  Score lambda 1  Score lambda 2  ...  \\\n",
       "18    0.0            15.0        0.178           0.054           0.081  ...   \n",
       "\n",
       "    Score lambda 14  Score lambda 15  Final Score  Space          Subfolder  \\\n",
       "18            0.378            0.405        0.405      w  StyleSpace/color/   \n",
       "\n",
       "    Performance                                            Classes  \\\n",
       "18          NaN  BW, Brown, Yellow, Cyan, Blue, Green, Red, Mag...   \n",
       "\n",
       "                                    Bins  \\\n",
       "18  [0, 35, 70, 150, 200, 260, 345, 360]   \n",
       "\n",
       "                                    Separation Vector  \\\n",
       "18  [0. 0. 0. 0. 0. 0. 0. 0. 0. 0. 0. 0. 0. 0. 0. ...   \n",
       "\n",
       "                               Separation Vector (np)  \n",
       "18  [0.0, 0.0, 0.0, 0.0, 0.0, 0.0, 0.0, 0.0, 0.0, ...  \n",
       "\n",
       "[1 rows x 31 columns]"
      ]
     },
     "execution_count": 56,
     "metadata": {},
     "output_type": "execute_result"
    }
   ],
   "source": [
    "df_scores_stylespace = df_scores[df_scores['Method General'] == 'StyleSpace']\n",
    "print(df_scores_stylespace.shape)\n",
    "df_scores_stylespace.head(1)"
   ]
  },
  {
   "cell_type": "code",
   "execution_count": 57,
   "metadata": {},
   "outputs": [
    {
     "name": "stdout",
     "output_type": "stream",
     "text": [
      "Color BW requires 1 channels to represent it\n",
      "Color Blue requires 5 channels to represent it\n",
      "Color Brown requires 5 channels to represent it\n",
      "Color Cyan requires 20 channels to represent it\n",
      "Color Green requires 20 channels to represent it\n",
      "Color Magenta requires 10 channels to represent it\n",
      "Color Red requires 20 channels to represent it\n",
      "Color Yellow requires 20 channels to represent it\n",
      "Color BW and color Blue intersect by 0 [] channels, out of the max possible channels 1\n",
      "Color BW and color Brown intersect by 0 [] channels, out of the max possible channels 1\n",
      "Color BW and color Cyan intersect by 0 [] channels, out of the max possible channels 1\n",
      "Color BW and color Green intersect by 1 [119] channels, out of the max possible channels 1\n",
      "Color BW and color Magenta intersect by 1 [119] channels, out of the max possible channels 1\n",
      "Color BW and color Red intersect by 0 [] channels, out of the max possible channels 1\n",
      "Color BW and color Yellow intersect by 1 [119] channels, out of the max possible channels 1\n",
      "Color Blue and color BW intersect by 0 [] channels, out of the max possible channels 1\n",
      "Color Blue and color Brown intersect by 0 [] channels, out of the max possible channels 5\n",
      "Color Blue and color Cyan intersect by 5 [ 73 130 274 433 479] channels, out of the max possible channels 5\n",
      "Color Blue and color Green intersect by 4 [ 73 130 433 479] channels, out of the max possible channels 5\n",
      "Color Blue and color Magenta intersect by 1 [130] channels, out of the max possible channels 5\n",
      "Color Blue and color Red intersect by 0 [] channels, out of the max possible channels 5\n",
      "Color Blue and color Yellow intersect by 0 [] channels, out of the max possible channels 5\n",
      "Color Brown and color BW intersect by 0 [] channels, out of the max possible channels 1\n",
      "Color Brown and color Blue intersect by 0 [] channels, out of the max possible channels 5\n",
      "Color Brown and color Cyan intersect by 1 [362] channels, out of the max possible channels 5\n",
      "Color Brown and color Green intersect by 0 [] channels, out of the max possible channels 5\n",
      "Color Brown and color Magenta intersect by 0 [] channels, out of the max possible channels 5\n",
      "Color Brown and color Red intersect by 0 [] channels, out of the max possible channels 5\n",
      "Color Brown and color Yellow intersect by 1 [27] channels, out of the max possible channels 5\n",
      "Color Cyan and color BW intersect by 0 [] channels, out of the max possible channels 1\n",
      "Color Cyan and color Blue intersect by 5 [ 73 130 274 433 479] channels, out of the max possible channels 5\n",
      "Color Cyan and color Brown intersect by 1 [362] channels, out of the max possible channels 5\n",
      "Color Cyan and color Green intersect by 12 [ 73 112 130 188 238 273 311 365 433 449 479 483] channels, out of the max possible channels 20\n",
      "Color Cyan and color Magenta intersect by 2 [112 130] channels, out of the max possible channels 10\n",
      "Color Cyan and color Red intersect by 1 [112] channels, out of the max possible channels 20\n",
      "Color Cyan and color Yellow intersect by 0 [] channels, out of the max possible channels 20\n",
      "Color Green and color BW intersect by 1 [119] channels, out of the max possible channels 1\n",
      "Color Green and color Blue intersect by 4 [ 73 130 433 479] channels, out of the max possible channels 5\n",
      "Color Green and color Brown intersect by 0 [] channels, out of the max possible channels 5\n",
      "Color Green and color Cyan intersect by 12 [ 73 112 130 188 238 273 311 365 433 449 479 483] channels, out of the max possible channels 20\n",
      "Color Green and color Magenta intersect by 4 [112 119 130 251] channels, out of the max possible channels 10\n",
      "Color Green and color Red intersect by 2 [112 251] channels, out of the max possible channels 20\n",
      "Color Green and color Yellow intersect by 1 [119] channels, out of the max possible channels 20\n",
      "Color Magenta and color BW intersect by 1 [119] channels, out of the max possible channels 1\n",
      "Color Magenta and color Blue intersect by 1 [130] channels, out of the max possible channels 5\n",
      "Color Magenta and color Brown intersect by 0 [] channels, out of the max possible channels 5\n",
      "Color Magenta and color Cyan intersect by 2 [112 130] channels, out of the max possible channels 10\n",
      "Color Magenta and color Green intersect by 4 [112 119 130 251] channels, out of the max possible channels 10\n",
      "Color Magenta and color Red intersect by 4 [112 226 251 492] channels, out of the max possible channels 10\n",
      "Color Magenta and color Yellow intersect by 1 [119] channels, out of the max possible channels 10\n",
      "Color Red and color BW intersect by 0 [] channels, out of the max possible channels 1\n",
      "Color Red and color Blue intersect by 0 [] channels, out of the max possible channels 5\n",
      "Color Red and color Brown intersect by 0 [] channels, out of the max possible channels 5\n",
      "Color Red and color Cyan intersect by 1 [112] channels, out of the max possible channels 20\n",
      "Color Red and color Green intersect by 2 [112 251] channels, out of the max possible channels 20\n",
      "Color Red and color Magenta intersect by 4 [112 226 251 492] channels, out of the max possible channels 10\n",
      "Color Red and color Yellow intersect by 0 [] channels, out of the max possible channels 20\n",
      "Color Yellow and color BW intersect by 1 [119] channels, out of the max possible channels 1\n",
      "Color Yellow and color Blue intersect by 0 [] channels, out of the max possible channels 5\n",
      "Color Yellow and color Brown intersect by 1 [27] channels, out of the max possible channels 5\n",
      "Color Yellow and color Cyan intersect by 0 [] channels, out of the max possible channels 20\n",
      "Color Yellow and color Green intersect by 1 [119] channels, out of the max possible channels 20\n",
      "Color Yellow and color Magenta intersect by 1 [119] channels, out of the max possible channels 10\n",
      "Color Yellow and color Red intersect by 0 [] channels, out of the max possible channels 20\n"
     ]
    }
   ],
   "source": [
    "channels = {}\n",
    "for color, vecs in zip(df_scores_stylespace['Feature'], df_scores_stylespace['Separation Vector (np)']):\n",
    "    channels[color] = np.where(vecs != 0)\n",
    "    print('Color', color, 'requires', len(channels[color][0]), 'channels to represent it')\n",
    "\n",
    "colors = df_scores_stylespace['Feature'].unique()\n",
    "for color1 in colors:\n",
    "    for color2 in colors:\n",
    "        if color1 != color2:\n",
    "            inters = np.intersect1d(channels[color1], channels[color2])\n",
    "            print('Color', color1, 'and color', color2, 'intersect by', len(inters), inters, 'channels, out of the max possible channels', \n",
    "                  min(len(channels[color2][0]), len(channels[color1][0])))"
   ]
  },
  {
   "cell_type": "code",
   "execution_count": 58,
   "metadata": {},
   "outputs": [
    {
     "name": "stdout",
     "output_type": "stream",
     "text": [
      "Color Green , color Magenta , color BW intersect by 1 node(s) [119]\n",
      "Color Green , color Yellow , color BW intersect by 1 node(s) [119]\n",
      "Color Magenta , color Green , color BW intersect by 1 node(s) [119]\n",
      "Color Magenta , color Yellow , color BW intersect by 1 node(s) [119]\n",
      "Color Yellow , color Green , color BW intersect by 1 node(s) [119]\n",
      "Color Yellow , color Magenta , color BW intersect by 1 node(s) [119]\n"
     ]
    }
   ],
   "source": [
    "colors = df_scores_stylespace['Feature'].unique()\n",
    "for color1 in colors:\n",
    "    for color2 in colors:\n",
    "        if color1 != color2:\n",
    "            inters = np.intersect1d(channels[color1], channels[color2])\n",
    "            for color3 in colors:\n",
    "                if color3 != color2 and color3 != color1:\n",
    "                    inters = np.intersect1d(channels[color3], inters)\n",
    "                    #for color4 in colors:\n",
    "                    #    if color4 != color2 and color4 != color1 and color4 != color3:\n",
    "                    #        inters = np.intersect1d(channels[color4], inters)\n",
    "                    if len(inters) > 0:\n",
    "                        print('Color', color1, ', color', color2, ', color', color3, 'intersect by', len(inters), 'node(s)', inters)"
   ]
  },
  {
   "cell_type": "code",
   "execution_count": null,
   "metadata": {},
   "outputs": [],
   "source": []
  }
 ],
 "metadata": {
  "kernelspec": {
   "display_name": "art-reco_x86",
   "language": "python",
   "name": "python3"
  },
  "language_info": {
   "codemirror_mode": {
    "name": "ipython",
    "version": 3
   },
   "file_extension": ".py",
   "mimetype": "text/x-python",
   "name": "python",
   "nbconvert_exporter": "python",
   "pygments_lexer": "ipython3",
   "version": "3.8.16"
  }
 },
 "nbformat": 4,
 "nbformat_minor": 2
}
